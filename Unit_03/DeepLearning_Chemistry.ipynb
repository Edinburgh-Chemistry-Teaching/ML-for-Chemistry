{
  "cells": [
    {
      "cell_type": "markdown",
      "metadata": {
        "id": "d06de947"
      },
      "source": [
        "# Deep Learning for Aqueous Solubility Prediction\n",
        "\n",
        "<a rel=\"license\" href=\"https://creativecommons.org/licenses/by/4.0/\"><img alt=\"Creative Commons Licence\" style=\"width=50\" src=\"https://licensebuttons.net/l/by/4.0/88x31.png\" title='This work is licensed under a Creative Commons Attribution 4.0 International License.' align=\"right\"/></a>\n",
        "\n",
        "**Authors**: \n",
        "- Dr Antonia Mey (antonia.mey@ed.ac.uk)\n",
        "- Rohan Gorantla (rohan.gorantla@ed.ac.uk)"
      ]
    },
    {
      "cell_type": "markdown",
      "metadata": {
        "id": "48f869de"
      },
      "source": [
        "**About aqueous solubility prediction task**:\n",
        "\n",
        "Water is a ubiquitous solvent in both chemistry and life, so it's not surprising that the solubility of compounds in water is crucial in various fields, such as drug discovery, paint and coatings, the environment, and energy storage. However, measuring and predicting the aqueous solubility of compounds is a challenging and ongoing problem in chemistry. To tackle this, various data-driven prediction models have been created to supplement traditional physics-based methods. Despite the many efforts made over the years, there are still difficulties in developing a solubility prediction model that is accurate enough for many practical applications."
      ]
    },
    {
      "cell_type": "markdown",
      "source": [
        "**Task:** Train a DL model to predict if the given molecule (SMILES) will be soluble in water or not.\n",
        "\n",
        "---\n",
        "\n"
      ],
      "metadata": {
        "id": "hDeyesyTOMuG"
      }
    },
    {
      "cell_type": "markdown",
      "metadata": {
        "id": "7j3pliMnCS3C"
      },
      "source": [
        "**Learning Objectives**:\n",
        "\n",
        "* To build and train deep neural networks for solubility prediction from SMILES data using Pytorch.\n",
        "* Preparing the data for trainig and testing the DL model.\n",
        "* Using RDKit to extract features from SMILES string.\n",
        "* Tuning the neural network parameters to improve the learning of the model for the given solubilitity prediction task.\n"
      ]
    },
    {
      "cell_type": "code",
      "execution_count": 108,
      "metadata": {
        "colab": {
          "base_uri": "https://localhost:8080/"
        },
        "id": "2pqiC0w9B4rg",
        "outputId": "8d2b5fed-d20f-4934-dfb1-06793c5a2ed8"
      },
      "outputs": [
        {
          "output_type": "stream",
          "name": "stdout",
          "text": [
            "Looking in indexes: https://pypi.org/simple, https://us-python.pkg.dev/colab-wheels/public/simple/\n",
            "Requirement already satisfied: biopython in /usr/local/lib/python3.8/dist-packages (1.80)\n",
            "Requirement already satisfied: numpy in /usr/local/lib/python3.8/dist-packages (from biopython) (1.21.6)\n",
            "Looking in indexes: https://pypi.org/simple, https://us-python.pkg.dev/colab-wheels/public/simple/\n",
            "Requirement already satisfied: rdkit-pypi==2022.3.5 in /usr/local/lib/python3.8/dist-packages (2022.3.5)\n",
            "Requirement already satisfied: Pillow in /usr/local/lib/python3.8/dist-packages (from rdkit-pypi==2022.3.5) (7.1.2)\n",
            "Requirement already satisfied: numpy in /usr/local/lib/python3.8/dist-packages (from rdkit-pypi==2022.3.5) (1.21.6)\n",
            "Looking in indexes: https://pypi.org/simple, https://us-python.pkg.dev/colab-wheels/public/simple/\n",
            "Requirement already satisfied: pysmiles in /usr/local/lib/python3.8/dist-packages (1.0.2)\n",
            "Requirement already satisfied: networkx~=2.0 in /usr/local/lib/python3.8/dist-packages (from pysmiles) (2.8.8)\n",
            "Requirement already satisfied: pbr in /usr/local/lib/python3.8/dist-packages (from pysmiles) (5.11.1)\n",
            "Looking in indexes: https://pypi.org/simple, https://us-python.pkg.dev/colab-wheels/public/simple/\n",
            "Requirement already satisfied: datamol in /usr/local/lib/python3.8/dist-packages (0.8.8)\n",
            "Requirement already satisfied: fsspec>=2021.9 in /usr/local/lib/python3.8/dist-packages (from datamol) (2023.1.0)\n",
            "Requirement already satisfied: joblib in /usr/local/lib/python3.8/dist-packages (from datamol) (1.2.0)\n",
            "Requirement already satisfied: pillow in /usr/local/lib/python3.8/dist-packages (from datamol) (7.1.2)\n",
            "Requirement already satisfied: selfies in /usr/local/lib/python3.8/dist-packages (from datamol) (2.1.1)\n",
            "Requirement already satisfied: appdirs in /usr/local/lib/python3.8/dist-packages (from datamol) (1.4.4)\n",
            "Requirement already satisfied: packaging in /usr/local/lib/python3.8/dist-packages (from datamol) (23.0)\n",
            "Requirement already satisfied: pandas in /usr/local/lib/python3.8/dist-packages (from datamol) (1.3.5)\n",
            "Requirement already satisfied: tqdm in /usr/local/lib/python3.8/dist-packages (from datamol) (4.64.1)\n",
            "Requirement already satisfied: scipy in /usr/local/lib/python3.8/dist-packages (from datamol) (1.7.3)\n",
            "Requirement already satisfied: matplotlib in /usr/local/lib/python3.8/dist-packages (from datamol) (3.2.2)\n",
            "Requirement already satisfied: scikit-learn in /usr/local/lib/python3.8/dist-packages (from datamol) (1.0.2)\n",
            "Requirement already satisfied: numpy in /usr/local/lib/python3.8/dist-packages (from datamol) (1.21.6)\n",
            "Requirement already satisfied: loguru in /usr/local/lib/python3.8/dist-packages (from datamol) (0.6.0)\n",
            "Requirement already satisfied: cycler>=0.10 in /usr/local/lib/python3.8/dist-packages (from matplotlib->datamol) (0.11.0)\n",
            "Requirement already satisfied: kiwisolver>=1.0.1 in /usr/local/lib/python3.8/dist-packages (from matplotlib->datamol) (1.4.4)\n",
            "Requirement already satisfied: pyparsing!=2.0.4,!=2.1.2,!=2.1.6,>=2.0.1 in /usr/local/lib/python3.8/dist-packages (from matplotlib->datamol) (3.0.9)\n",
            "Requirement already satisfied: python-dateutil>=2.1 in /usr/local/lib/python3.8/dist-packages (from matplotlib->datamol) (2.8.2)\n",
            "Requirement already satisfied: pytz>=2017.3 in /usr/local/lib/python3.8/dist-packages (from pandas->datamol) (2022.7.1)\n",
            "Requirement already satisfied: threadpoolctl>=2.0.0 in /usr/local/lib/python3.8/dist-packages (from scikit-learn->datamol) (3.1.0)\n",
            "Requirement already satisfied: six>=1.5 in /usr/local/lib/python3.8/dist-packages (from python-dateutil>=2.1->matplotlib->datamol) (1.15.0)\n",
            "Looking in indexes: https://pypi.org/simple, https://us-python.pkg.dev/colab-wheels/public/simple/\n",
            "Requirement already satisfied: deepchem in /usr/local/lib/python3.8/dist-packages (2.7.1)\n",
            "Requirement already satisfied: scikit-learn in /usr/local/lib/python3.8/dist-packages (from deepchem) (1.0.2)\n",
            "Requirement already satisfied: numpy>=1.21 in /usr/local/lib/python3.8/dist-packages (from deepchem) (1.21.6)\n",
            "Requirement already satisfied: pandas in /usr/local/lib/python3.8/dist-packages (from deepchem) (1.3.5)\n",
            "Requirement already satisfied: rdkit in /usr/local/lib/python3.8/dist-packages (from deepchem) (2022.9.4)\n",
            "Requirement already satisfied: scipy<1.9 in /usr/local/lib/python3.8/dist-packages (from deepchem) (1.7.3)\n",
            "Requirement already satisfied: joblib in /usr/local/lib/python3.8/dist-packages (from deepchem) (1.2.0)\n",
            "Requirement already satisfied: pytz>=2017.3 in /usr/local/lib/python3.8/dist-packages (from pandas->deepchem) (2022.7.1)\n",
            "Requirement already satisfied: python-dateutil>=2.7.3 in /usr/local/lib/python3.8/dist-packages (from pandas->deepchem) (2.8.2)\n",
            "Requirement already satisfied: Pillow in /usr/local/lib/python3.8/dist-packages (from rdkit->deepchem) (7.1.2)\n",
            "Requirement already satisfied: threadpoolctl>=2.0.0 in /usr/local/lib/python3.8/dist-packages (from scikit-learn->deepchem) (3.1.0)\n",
            "Requirement already satisfied: six>=1.5 in /usr/local/lib/python3.8/dist-packages (from python-dateutil>=2.7.3->pandas->deepchem) (1.15.0)\n",
            "Looking in indexes: https://pypi.org/simple, https://us-python.pkg.dev/colab-wheels/public/simple/\n",
            "Requirement already satisfied: torchinfo in /usr/local/lib/python3.8/dist-packages (1.7.2)\n"
          ]
        }
      ],
      "source": [
        "!pip install biopython\n",
        "#!pip install rdkit-pypi\n",
        "!pip install rdkit-pypi==2022.3.5\n",
        "!pip install pysmiles\n",
        "!pip install datamol\n",
        "!pip install deepchem\n",
        "!pip install torchinfo"
      ]
    },
    {
      "cell_type": "markdown",
      "metadata": {
        "id": "196868f4"
      },
      "source": [
        "To get started with this tutorial, let's importing some packages."
      ]
    },
    {
      "cell_type": "code",
      "execution_count": 109,
      "metadata": {
        "id": "pBy2P5AVFMiF"
      },
      "outputs": [],
      "source": [
        "import os, math\n",
        "import pandas as pd\n",
        "import numpy as np\n",
        "import deepchem as dc\n",
        "from sklearn.metrics import confusion_matrix, roc_curve,auc\n",
        "\n",
        "# RDKit\n",
        "import rdkit\n",
        "from rdkit import Chem\n",
        "from rdkit.Chem import Draw\n",
        "from rdkit.Chem import PandasTools\n",
        "from rdkit.Chem import rdMolDescriptors\n",
        "from rdkit.Chem.Draw import SimilarityMaps\n",
        "from rdkit.Chem import DataStructs,AllChem\n",
        "from rdkit.Chem import rdmolfiles\n",
        "\n",
        "\n",
        "# plotting\n",
        "import seaborn as sns\n",
        "import matplotlib.pyplot as plt\n",
        "\n",
        "#Torch\n",
        "import torch\n",
        "import torch.nn as nn\n",
        "import torch.optim as optim\n",
        "from torchinfo import summary\n",
        "import torchvision.transforms as transforms\n",
        "from   torch.utils.data import DataLoader, TensorDataset\n",
        "import torch.nn.functional as F"
      ]
    },
    {
      "cell_type": "markdown",
      "metadata": {
        "id": "UT_NLRlMCHEG"
      },
      "source": [
        "## 1. Introduction- Data Prepartion and Exploratory Data Anlaysis\n",
        "\n",
        "In this tutorial we will use the solubility prediciton data from AqSolDB dataset to train the DL models.\n",
        "\n",
        "**Data Source**: Sorkun, M.C., Khetan, A. & Er, S. AqSolDB, a curated reference set of aqueous solubility and 2D descriptors for a diverse set of compounds. Sci Data 6, 143 (2019). https://doi.org/10.1038/s41597-019-0151-1"
      ]
    },
    {
      "cell_type": "markdown",
      "source": [
        "Let's begin by loading the AqSolDB dataset from the csv file in the data folder."
      ],
      "metadata": {
        "id": "OPPcf8Z7LXgx"
      }
    },
    {
      "cell_type": "code",
      "execution_count": 110,
      "metadata": {
        "colab": {
          "base_uri": "https://localhost:8080/"
        },
        "id": "jIyZPXLeGaVP",
        "outputId": "699414ce-0525-47d3-8570-112bc0a46c02"
      },
      "outputs": [
        {
          "output_type": "stream",
          "name": "stdout",
          "text": [
            "Drive already mounted at /content/drive; to attempt to forcibly remount, call drive.mount(\"/content/drive\", force_remount=True).\n"
          ]
        }
      ],
      "source": [
        "from google.colab import drive\n",
        "drive.mount('/content/drive')\n",
        "# Load the dataset into a dataframe\n",
        "file_path = '/content/drive/My Drive/SolubilityPrediction/solubility_dataset.csv'\n",
        "df = pd.read_csv(file_path)"
      ]
    },
    {
      "cell_type": "code",
      "execution_count": 111,
      "metadata": {
        "colab": {
          "base_uri": "https://localhost:8080/",
          "height": 661
        },
        "id": "l6Hl-DfmPUZ5",
        "outputId": "3ed747f8-279e-4b70-e63e-b6377b463646"
      },
      "outputs": [
        {
          "output_type": "execute_result",
          "data": {
            "text/plain": [
              "        ID                                               Name  \\\n",
              "0      A-3         N,N,N-trimethyloctadecan-1-aminium bromide   \n",
              "1      A-4                           Benzo[cd]indol-2(1H)-one   \n",
              "2      A-5                               4-chlorobenzaldehyde   \n",
              "3      A-8  zinc bis[2-hydroxy-3,5-bis(1-phenylethyl)benzo...   \n",
              "4      A-9  4-({4-[bis(oxiran-2-ylmethyl)amino]phenyl}meth...   \n",
              "...    ...                                                ...   \n",
              "9977  I-84                                         tetracaine   \n",
              "9978  I-85                                       tetracycline   \n",
              "9979  I-86                                             thymol   \n",
              "9980  I-93                                          verapamil   \n",
              "9981  I-94                                           warfarin   \n",
              "\n",
              "                                                  InChI  \\\n",
              "0     InChI=1S/C21H46N.BrH/c1-5-6-7-8-9-10-11-12-13-...   \n",
              "1     InChI=1S/C11H7NO/c13-11-8-5-1-3-7-4-2-6-9(12-1...   \n",
              "2           InChI=1S/C7H5ClO/c8-7-3-1-6(5-9)2-4-7/h1-5H   \n",
              "3     InChI=1S/2C23H22O3.Zn/c2*1-15(17-9-5-3-6-10-17...   \n",
              "4     InChI=1S/C25H30N2O4/c1-5-20(26(10-22-14-28-22)...   \n",
              "...                                                 ...   \n",
              "9977  InChI=1S/C15H24N2O2/c1-4-5-10-16-14-8-6-13(7-9...   \n",
              "9978  InChI=1S/C22H24N2O8/c1-21(31)8-5-4-6-11(25)12(...   \n",
              "9979  InChI=1S/C10H14O/c1-7(2)9-5-4-8(3)6-10(9)11/h4...   \n",
              "9980  InChI=1S/C27H38N2O4/c1-20(2)27(19-28,22-10-12-...   \n",
              "9981  InChI=1S/C19H16O4/c1-12(20)11-15(13-7-3-2-4-8-...   \n",
              "\n",
              "                         InChIKey  \\\n",
              "0     SZEMGTQCPRNXEG-UHFFFAOYSA-M   \n",
              "1     GPYLCFQEKPUWLD-UHFFFAOYSA-N   \n",
              "2     AVPYQKSLYISFPO-UHFFFAOYSA-N   \n",
              "3     XTUPUYCJWKHGSW-UHFFFAOYSA-L   \n",
              "4     FAUAZXVRLVIARB-UHFFFAOYSA-N   \n",
              "...                           ...   \n",
              "9977  GKCBAIGFKIBETG-UHFFFAOYSA-N   \n",
              "9978  OFVLGDICTFRJMM-WESIUVDSSA-N   \n",
              "9979  MGSRCZKZVOBKFT-UHFFFAOYSA-N   \n",
              "9980  SGTNSNPWRIOYBX-UHFFFAOYSA-N   \n",
              "9981  PJVWKTKQMONHTI-UHFFFAOYSA-N   \n",
              "\n",
              "                                                 SMILES  Solubility        SD  \\\n",
              "0                   [Br-].CCCCCCCCCCCCCCCCCC[N+](C)(C)C   -3.616127  0.000000   \n",
              "1                                  O=C1Nc2cccc3cccc1c23   -3.254767  0.000000   \n",
              "2                                       Clc1ccc(C=O)cc1   -2.177078  0.000000   \n",
              "3     [Zn++].CC(c1ccccc1)c2cc(C(C)c3ccccc3)c(O)c(c2)...   -3.924409  0.000000   \n",
              "4     C1OC1CN(CC2CO2)c3ccc(Cc4ccc(cc4)N(CC5CO5)CC6CO...   -4.662065  0.000000   \n",
              "...                                                 ...         ...       ...   \n",
              "9977                     C(c1ccc(cc1)NCCCC)(=O)OCCN(C)C   -3.010000  0.000000   \n",
              "9978  OC1=C(C(C2=C(O)[C@@](C(C(C(N)=O)=C(O)[C@H]3N(C...   -2.930000  0.000000   \n",
              "9979                                c1(cc(ccc1C(C)C)C)O   -2.190000  0.019222   \n",
              "9980  COc1ccc(CCN(C)CCCC(C#N)(C(C)C)c2ccc(OC)c(OC)c2...   -3.980000  0.000000   \n",
              "9981              CC(=O)CC(c1ccccc1)c1c(O)c2ccccc2oc1=O   -4.780000  0.450506   \n",
              "\n",
              "      Ocurrences Group    MolWt  ...  NumRotatableBonds  NumValenceElectrons  \\\n",
              "0              1    G1  392.510  ...               17.0                142.0   \n",
              "1              1    G1  169.183  ...                0.0                 62.0   \n",
              "2              1    G1  140.569  ...                1.0                 46.0   \n",
              "3              1    G1  756.226  ...               10.0                264.0   \n",
              "4              1    G1  422.525  ...               12.0                164.0   \n",
              "...          ...   ...      ...  ...                ...                  ...   \n",
              "9977           1    G1  264.369  ...                8.0                106.0   \n",
              "9978           1    G1  444.440  ...                2.0                170.0   \n",
              "9979           3    G5  150.221  ...                1.0                 60.0   \n",
              "9980           1    G1  454.611  ...               13.0                180.0   \n",
              "9981           3    G5  308.333  ...                4.0                116.0   \n",
              "\n",
              "      NumAromaticRings  NumSaturatedRings  NumAliphaticRings  RingCount  \\\n",
              "0                  0.0                0.0                0.0        0.0   \n",
              "1                  2.0                0.0                1.0        3.0   \n",
              "2                  1.0                0.0                0.0        1.0   \n",
              "3                  6.0                0.0                0.0        6.0   \n",
              "4                  2.0                4.0                4.0        6.0   \n",
              "...                ...                ...                ...        ...   \n",
              "9977               1.0                0.0                0.0        1.0   \n",
              "9978               1.0                0.0                3.0        4.0   \n",
              "9979               1.0                0.0                0.0        1.0   \n",
              "9980               2.0                0.0                0.0        2.0   \n",
              "9981               3.0                0.0                0.0        3.0   \n",
              "\n",
              "        TPSA   LabuteASA      BalabanJ      BertzCT  \n",
              "0       0.00  158.520601  0.000000e+00   210.377334  \n",
              "1      29.10   75.183563  2.582996e+00   511.229248  \n",
              "2      17.07   58.261134  3.009782e+00   202.661065  \n",
              "3     120.72  323.755434  2.322963e-07  1964.648666  \n",
              "4      56.60  183.183268  1.084427e+00   769.899934  \n",
              "...      ...         ...           ...          ...  \n",
              "9977   41.57  115.300645  2.394548e+00   374.236893  \n",
              "9978  181.62  182.429237  2.047922e+00  1148.584975  \n",
              "9979   20.23   67.685405  3.092720e+00   251.049732  \n",
              "9980   63.95  198.569223  2.023333e+00   938.203977  \n",
              "9981   67.51  132.552025  2.258072e+00   909.550973  \n",
              "\n",
              "[9982 rows x 26 columns]"
            ],
            "text/html": [
              "\n",
              "  <div id=\"df-7335198d-b096-401a-83ae-55fe0601f1df\">\n",
              "    <div class=\"colab-df-container\">\n",
              "      <div>\n",
              "<style scoped>\n",
              "    .dataframe tbody tr th:only-of-type {\n",
              "        vertical-align: middle;\n",
              "    }\n",
              "\n",
              "    .dataframe tbody tr th {\n",
              "        vertical-align: top;\n",
              "    }\n",
              "\n",
              "    .dataframe thead th {\n",
              "        text-align: right;\n",
              "    }\n",
              "</style>\n",
              "<table border=\"1\" class=\"dataframe\">\n",
              "  <thead>\n",
              "    <tr style=\"text-align: right;\">\n",
              "      <th></th>\n",
              "      <th>ID</th>\n",
              "      <th>Name</th>\n",
              "      <th>InChI</th>\n",
              "      <th>InChIKey</th>\n",
              "      <th>SMILES</th>\n",
              "      <th>Solubility</th>\n",
              "      <th>SD</th>\n",
              "      <th>Ocurrences</th>\n",
              "      <th>Group</th>\n",
              "      <th>MolWt</th>\n",
              "      <th>...</th>\n",
              "      <th>NumRotatableBonds</th>\n",
              "      <th>NumValenceElectrons</th>\n",
              "      <th>NumAromaticRings</th>\n",
              "      <th>NumSaturatedRings</th>\n",
              "      <th>NumAliphaticRings</th>\n",
              "      <th>RingCount</th>\n",
              "      <th>TPSA</th>\n",
              "      <th>LabuteASA</th>\n",
              "      <th>BalabanJ</th>\n",
              "      <th>BertzCT</th>\n",
              "    </tr>\n",
              "  </thead>\n",
              "  <tbody>\n",
              "    <tr>\n",
              "      <th>0</th>\n",
              "      <td>A-3</td>\n",
              "      <td>N,N,N-trimethyloctadecan-1-aminium bromide</td>\n",
              "      <td>InChI=1S/C21H46N.BrH/c1-5-6-7-8-9-10-11-12-13-...</td>\n",
              "      <td>SZEMGTQCPRNXEG-UHFFFAOYSA-M</td>\n",
              "      <td>[Br-].CCCCCCCCCCCCCCCCCC[N+](C)(C)C</td>\n",
              "      <td>-3.616127</td>\n",
              "      <td>0.000000</td>\n",
              "      <td>1</td>\n",
              "      <td>G1</td>\n",
              "      <td>392.510</td>\n",
              "      <td>...</td>\n",
              "      <td>17.0</td>\n",
              "      <td>142.0</td>\n",
              "      <td>0.0</td>\n",
              "      <td>0.0</td>\n",
              "      <td>0.0</td>\n",
              "      <td>0.0</td>\n",
              "      <td>0.00</td>\n",
              "      <td>158.520601</td>\n",
              "      <td>0.000000e+00</td>\n",
              "      <td>210.377334</td>\n",
              "    </tr>\n",
              "    <tr>\n",
              "      <th>1</th>\n",
              "      <td>A-4</td>\n",
              "      <td>Benzo[cd]indol-2(1H)-one</td>\n",
              "      <td>InChI=1S/C11H7NO/c13-11-8-5-1-3-7-4-2-6-9(12-1...</td>\n",
              "      <td>GPYLCFQEKPUWLD-UHFFFAOYSA-N</td>\n",
              "      <td>O=C1Nc2cccc3cccc1c23</td>\n",
              "      <td>-3.254767</td>\n",
              "      <td>0.000000</td>\n",
              "      <td>1</td>\n",
              "      <td>G1</td>\n",
              "      <td>169.183</td>\n",
              "      <td>...</td>\n",
              "      <td>0.0</td>\n",
              "      <td>62.0</td>\n",
              "      <td>2.0</td>\n",
              "      <td>0.0</td>\n",
              "      <td>1.0</td>\n",
              "      <td>3.0</td>\n",
              "      <td>29.10</td>\n",
              "      <td>75.183563</td>\n",
              "      <td>2.582996e+00</td>\n",
              "      <td>511.229248</td>\n",
              "    </tr>\n",
              "    <tr>\n",
              "      <th>2</th>\n",
              "      <td>A-5</td>\n",
              "      <td>4-chlorobenzaldehyde</td>\n",
              "      <td>InChI=1S/C7H5ClO/c8-7-3-1-6(5-9)2-4-7/h1-5H</td>\n",
              "      <td>AVPYQKSLYISFPO-UHFFFAOYSA-N</td>\n",
              "      <td>Clc1ccc(C=O)cc1</td>\n",
              "      <td>-2.177078</td>\n",
              "      <td>0.000000</td>\n",
              "      <td>1</td>\n",
              "      <td>G1</td>\n",
              "      <td>140.569</td>\n",
              "      <td>...</td>\n",
              "      <td>1.0</td>\n",
              "      <td>46.0</td>\n",
              "      <td>1.0</td>\n",
              "      <td>0.0</td>\n",
              "      <td>0.0</td>\n",
              "      <td>1.0</td>\n",
              "      <td>17.07</td>\n",
              "      <td>58.261134</td>\n",
              "      <td>3.009782e+00</td>\n",
              "      <td>202.661065</td>\n",
              "    </tr>\n",
              "    <tr>\n",
              "      <th>3</th>\n",
              "      <td>A-8</td>\n",
              "      <td>zinc bis[2-hydroxy-3,5-bis(1-phenylethyl)benzo...</td>\n",
              "      <td>InChI=1S/2C23H22O3.Zn/c2*1-15(17-9-5-3-6-10-17...</td>\n",
              "      <td>XTUPUYCJWKHGSW-UHFFFAOYSA-L</td>\n",
              "      <td>[Zn++].CC(c1ccccc1)c2cc(C(C)c3ccccc3)c(O)c(c2)...</td>\n",
              "      <td>-3.924409</td>\n",
              "      <td>0.000000</td>\n",
              "      <td>1</td>\n",
              "      <td>G1</td>\n",
              "      <td>756.226</td>\n",
              "      <td>...</td>\n",
              "      <td>10.0</td>\n",
              "      <td>264.0</td>\n",
              "      <td>6.0</td>\n",
              "      <td>0.0</td>\n",
              "      <td>0.0</td>\n",
              "      <td>6.0</td>\n",
              "      <td>120.72</td>\n",
              "      <td>323.755434</td>\n",
              "      <td>2.322963e-07</td>\n",
              "      <td>1964.648666</td>\n",
              "    </tr>\n",
              "    <tr>\n",
              "      <th>4</th>\n",
              "      <td>A-9</td>\n",
              "      <td>4-({4-[bis(oxiran-2-ylmethyl)amino]phenyl}meth...</td>\n",
              "      <td>InChI=1S/C25H30N2O4/c1-5-20(26(10-22-14-28-22)...</td>\n",
              "      <td>FAUAZXVRLVIARB-UHFFFAOYSA-N</td>\n",
              "      <td>C1OC1CN(CC2CO2)c3ccc(Cc4ccc(cc4)N(CC5CO5)CC6CO...</td>\n",
              "      <td>-4.662065</td>\n",
              "      <td>0.000000</td>\n",
              "      <td>1</td>\n",
              "      <td>G1</td>\n",
              "      <td>422.525</td>\n",
              "      <td>...</td>\n",
              "      <td>12.0</td>\n",
              "      <td>164.0</td>\n",
              "      <td>2.0</td>\n",
              "      <td>4.0</td>\n",
              "      <td>4.0</td>\n",
              "      <td>6.0</td>\n",
              "      <td>56.60</td>\n",
              "      <td>183.183268</td>\n",
              "      <td>1.084427e+00</td>\n",
              "      <td>769.899934</td>\n",
              "    </tr>\n",
              "    <tr>\n",
              "      <th>...</th>\n",
              "      <td>...</td>\n",
              "      <td>...</td>\n",
              "      <td>...</td>\n",
              "      <td>...</td>\n",
              "      <td>...</td>\n",
              "      <td>...</td>\n",
              "      <td>...</td>\n",
              "      <td>...</td>\n",
              "      <td>...</td>\n",
              "      <td>...</td>\n",
              "      <td>...</td>\n",
              "      <td>...</td>\n",
              "      <td>...</td>\n",
              "      <td>...</td>\n",
              "      <td>...</td>\n",
              "      <td>...</td>\n",
              "      <td>...</td>\n",
              "      <td>...</td>\n",
              "      <td>...</td>\n",
              "      <td>...</td>\n",
              "      <td>...</td>\n",
              "    </tr>\n",
              "    <tr>\n",
              "      <th>9977</th>\n",
              "      <td>I-84</td>\n",
              "      <td>tetracaine</td>\n",
              "      <td>InChI=1S/C15H24N2O2/c1-4-5-10-16-14-8-6-13(7-9...</td>\n",
              "      <td>GKCBAIGFKIBETG-UHFFFAOYSA-N</td>\n",
              "      <td>C(c1ccc(cc1)NCCCC)(=O)OCCN(C)C</td>\n",
              "      <td>-3.010000</td>\n",
              "      <td>0.000000</td>\n",
              "      <td>1</td>\n",
              "      <td>G1</td>\n",
              "      <td>264.369</td>\n",
              "      <td>...</td>\n",
              "      <td>8.0</td>\n",
              "      <td>106.0</td>\n",
              "      <td>1.0</td>\n",
              "      <td>0.0</td>\n",
              "      <td>0.0</td>\n",
              "      <td>1.0</td>\n",
              "      <td>41.57</td>\n",
              "      <td>115.300645</td>\n",
              "      <td>2.394548e+00</td>\n",
              "      <td>374.236893</td>\n",
              "    </tr>\n",
              "    <tr>\n",
              "      <th>9978</th>\n",
              "      <td>I-85</td>\n",
              "      <td>tetracycline</td>\n",
              "      <td>InChI=1S/C22H24N2O8/c1-21(31)8-5-4-6-11(25)12(...</td>\n",
              "      <td>OFVLGDICTFRJMM-WESIUVDSSA-N</td>\n",
              "      <td>OC1=C(C(C2=C(O)[C@@](C(C(C(N)=O)=C(O)[C@H]3N(C...</td>\n",
              "      <td>-2.930000</td>\n",
              "      <td>0.000000</td>\n",
              "      <td>1</td>\n",
              "      <td>G1</td>\n",
              "      <td>444.440</td>\n",
              "      <td>...</td>\n",
              "      <td>2.0</td>\n",
              "      <td>170.0</td>\n",
              "      <td>1.0</td>\n",
              "      <td>0.0</td>\n",
              "      <td>3.0</td>\n",
              "      <td>4.0</td>\n",
              "      <td>181.62</td>\n",
              "      <td>182.429237</td>\n",
              "      <td>2.047922e+00</td>\n",
              "      <td>1148.584975</td>\n",
              "    </tr>\n",
              "    <tr>\n",
              "      <th>9979</th>\n",
              "      <td>I-86</td>\n",
              "      <td>thymol</td>\n",
              "      <td>InChI=1S/C10H14O/c1-7(2)9-5-4-8(3)6-10(9)11/h4...</td>\n",
              "      <td>MGSRCZKZVOBKFT-UHFFFAOYSA-N</td>\n",
              "      <td>c1(cc(ccc1C(C)C)C)O</td>\n",
              "      <td>-2.190000</td>\n",
              "      <td>0.019222</td>\n",
              "      <td>3</td>\n",
              "      <td>G5</td>\n",
              "      <td>150.221</td>\n",
              "      <td>...</td>\n",
              "      <td>1.0</td>\n",
              "      <td>60.0</td>\n",
              "      <td>1.0</td>\n",
              "      <td>0.0</td>\n",
              "      <td>0.0</td>\n",
              "      <td>1.0</td>\n",
              "      <td>20.23</td>\n",
              "      <td>67.685405</td>\n",
              "      <td>3.092720e+00</td>\n",
              "      <td>251.049732</td>\n",
              "    </tr>\n",
              "    <tr>\n",
              "      <th>9980</th>\n",
              "      <td>I-93</td>\n",
              "      <td>verapamil</td>\n",
              "      <td>InChI=1S/C27H38N2O4/c1-20(2)27(19-28,22-10-12-...</td>\n",
              "      <td>SGTNSNPWRIOYBX-UHFFFAOYSA-N</td>\n",
              "      <td>COc1ccc(CCN(C)CCCC(C#N)(C(C)C)c2ccc(OC)c(OC)c2...</td>\n",
              "      <td>-3.980000</td>\n",
              "      <td>0.000000</td>\n",
              "      <td>1</td>\n",
              "      <td>G1</td>\n",
              "      <td>454.611</td>\n",
              "      <td>...</td>\n",
              "      <td>13.0</td>\n",
              "      <td>180.0</td>\n",
              "      <td>2.0</td>\n",
              "      <td>0.0</td>\n",
              "      <td>0.0</td>\n",
              "      <td>2.0</td>\n",
              "      <td>63.95</td>\n",
              "      <td>198.569223</td>\n",
              "      <td>2.023333e+00</td>\n",
              "      <td>938.203977</td>\n",
              "    </tr>\n",
              "    <tr>\n",
              "      <th>9981</th>\n",
              "      <td>I-94</td>\n",
              "      <td>warfarin</td>\n",
              "      <td>InChI=1S/C19H16O4/c1-12(20)11-15(13-7-3-2-4-8-...</td>\n",
              "      <td>PJVWKTKQMONHTI-UHFFFAOYSA-N</td>\n",
              "      <td>CC(=O)CC(c1ccccc1)c1c(O)c2ccccc2oc1=O</td>\n",
              "      <td>-4.780000</td>\n",
              "      <td>0.450506</td>\n",
              "      <td>3</td>\n",
              "      <td>G5</td>\n",
              "      <td>308.333</td>\n",
              "      <td>...</td>\n",
              "      <td>4.0</td>\n",
              "      <td>116.0</td>\n",
              "      <td>3.0</td>\n",
              "      <td>0.0</td>\n",
              "      <td>0.0</td>\n",
              "      <td>3.0</td>\n",
              "      <td>67.51</td>\n",
              "      <td>132.552025</td>\n",
              "      <td>2.258072e+00</td>\n",
              "      <td>909.550973</td>\n",
              "    </tr>\n",
              "  </tbody>\n",
              "</table>\n",
              "<p>9982 rows × 26 columns</p>\n",
              "</div>\n",
              "      <button class=\"colab-df-convert\" onclick=\"convertToInteractive('df-7335198d-b096-401a-83ae-55fe0601f1df')\"\n",
              "              title=\"Convert this dataframe to an interactive table.\"\n",
              "              style=\"display:none;\">\n",
              "        \n",
              "  <svg xmlns=\"http://www.w3.org/2000/svg\" height=\"24px\"viewBox=\"0 0 24 24\"\n",
              "       width=\"24px\">\n",
              "    <path d=\"M0 0h24v24H0V0z\" fill=\"none\"/>\n",
              "    <path d=\"M18.56 5.44l.94 2.06.94-2.06 2.06-.94-2.06-.94-.94-2.06-.94 2.06-2.06.94zm-11 1L8.5 8.5l.94-2.06 2.06-.94-2.06-.94L8.5 2.5l-.94 2.06-2.06.94zm10 10l.94 2.06.94-2.06 2.06-.94-2.06-.94-.94-2.06-.94 2.06-2.06.94z\"/><path d=\"M17.41 7.96l-1.37-1.37c-.4-.4-.92-.59-1.43-.59-.52 0-1.04.2-1.43.59L10.3 9.45l-7.72 7.72c-.78.78-.78 2.05 0 2.83L4 21.41c.39.39.9.59 1.41.59.51 0 1.02-.2 1.41-.59l7.78-7.78 2.81-2.81c.8-.78.8-2.07 0-2.86zM5.41 20L4 18.59l7.72-7.72 1.47 1.35L5.41 20z\"/>\n",
              "  </svg>\n",
              "      </button>\n",
              "      \n",
              "  <style>\n",
              "    .colab-df-container {\n",
              "      display:flex;\n",
              "      flex-wrap:wrap;\n",
              "      gap: 12px;\n",
              "    }\n",
              "\n",
              "    .colab-df-convert {\n",
              "      background-color: #E8F0FE;\n",
              "      border: none;\n",
              "      border-radius: 50%;\n",
              "      cursor: pointer;\n",
              "      display: none;\n",
              "      fill: #1967D2;\n",
              "      height: 32px;\n",
              "      padding: 0 0 0 0;\n",
              "      width: 32px;\n",
              "    }\n",
              "\n",
              "    .colab-df-convert:hover {\n",
              "      background-color: #E2EBFA;\n",
              "      box-shadow: 0px 1px 2px rgba(60, 64, 67, 0.3), 0px 1px 3px 1px rgba(60, 64, 67, 0.15);\n",
              "      fill: #174EA6;\n",
              "    }\n",
              "\n",
              "    [theme=dark] .colab-df-convert {\n",
              "      background-color: #3B4455;\n",
              "      fill: #D2E3FC;\n",
              "    }\n",
              "\n",
              "    [theme=dark] .colab-df-convert:hover {\n",
              "      background-color: #434B5C;\n",
              "      box-shadow: 0px 1px 3px 1px rgba(0, 0, 0, 0.15);\n",
              "      filter: drop-shadow(0px 1px 2px rgba(0, 0, 0, 0.3));\n",
              "      fill: #FFFFFF;\n",
              "    }\n",
              "  </style>\n",
              "\n",
              "      <script>\n",
              "        const buttonEl =\n",
              "          document.querySelector('#df-7335198d-b096-401a-83ae-55fe0601f1df button.colab-df-convert');\n",
              "        buttonEl.style.display =\n",
              "          google.colab.kernel.accessAllowed ? 'block' : 'none';\n",
              "\n",
              "        async function convertToInteractive(key) {\n",
              "          const element = document.querySelector('#df-7335198d-b096-401a-83ae-55fe0601f1df');\n",
              "          const dataTable =\n",
              "            await google.colab.kernel.invokeFunction('convertToInteractive',\n",
              "                                                     [key], {});\n",
              "          if (!dataTable) return;\n",
              "\n",
              "          const docLinkHtml = 'Like what you see? Visit the ' +\n",
              "            '<a target=\"_blank\" href=https://colab.research.google.com/notebooks/data_table.ipynb>data table notebook</a>'\n",
              "            + ' to learn more about interactive tables.';\n",
              "          element.innerHTML = '';\n",
              "          dataTable['output_type'] = 'display_data';\n",
              "          await google.colab.output.renderOutput(dataTable, element);\n",
              "          const docLink = document.createElement('div');\n",
              "          docLink.innerHTML = docLinkHtml;\n",
              "          element.appendChild(docLink);\n",
              "        }\n",
              "      </script>\n",
              "    </div>\n",
              "  </div>\n",
              "  "
            ]
          },
          "metadata": {},
          "execution_count": 111
        }
      ],
      "source": [
        "df"
      ]
    },
    {
      "cell_type": "markdown",
      "source": [
        "<div class=\"alert alert-success\">\n",
        "<b>Task 1a.</b> From the data frame above, print the number of compounds and list of features in the dataset.</div>"
      ],
      "metadata": {
        "id": "AGO63T-9NSdJ"
      }
    },
    {
      "cell_type": "code",
      "execution_count": 112,
      "metadata": {
        "colab": {
          "base_uri": "https://localhost:8080/"
        },
        "id": "nuhvPcBzP4st",
        "outputId": "cce70ea2-6732-4673-98d0-56f169f7d1e6"
      },
      "outputs": [
        {
          "output_type": "stream",
          "name": "stdout",
          "text": [
            "Number of compounds in the dataset:  9982\n",
            "Dataset columns:  ['ID', 'Name', 'InChI', 'InChIKey', 'SMILES', 'Solubility', 'SD', 'Ocurrences', 'Group', 'MolWt', 'MolLogP', 'MolMR', 'HeavyAtomCount', 'NumHAcceptors', 'NumHDonors', 'NumHeteroatoms', 'NumRotatableBonds', 'NumValenceElectrons', 'NumAromaticRings', 'NumSaturatedRings', 'NumAliphaticRings', 'RingCount', 'TPSA', 'LabuteASA', 'BalabanJ', 'BertzCT']\n"
          ]
        }
      ],
      "source": [
        "print(\"Number of compounds in the dataset: \", df.shape[0])\n",
        "print(\"Dataset columns: \", list(df.columns))\n"
      ]
    },
    {
      "cell_type": "markdown",
      "source": [
        "<div class=\"alert alert-success\">\n",
        "<b>Task 1b.</b> What are the two features that are required in our task to predict solubility of the molecule from SMILES representation ?</div>"
      ],
      "metadata": {
        "id": "6XVcB-UJOwnt"
      }
    },
    {
      "cell_type": "markdown",
      "source": [
        "<details>\n",
        "<summary> <mark> Solution: </mark> </summary>\n",
        "\n",
        "Features:\n",
        "- 'SMILES'\n",
        "- 'Solubility'\n",
        "\n",
        "</details>"
      ],
      "metadata": {
        "id": "XSr54y63P191"
      }
    },
    {
      "cell_type": "markdown",
      "source": [
        "The chosen \n",
        "unit of solubility in this dataset is LogS, where S is the aqueous solubility in mol/L (or M). Units such as g/L and mg/L were converted to LogS using the molecular mass of the compounds.\n",
        "\n",
        "<div class=\"alert alert-success\">\n",
        "<b>Task 1c.</b> Plot a histogram to analyse the distribution of 'Solubility' measurement across the entire dataset. You can use seaborn histplot for this task. </div>"
      ],
      "metadata": {
        "id": "CN8EteHYR7XK"
      }
    },
    {
      "cell_type": "code",
      "source": [
        "sns.histplot(df['Solubility'],bins=20)\n",
        "plt.ylabel('Number of Compunds')\n",
        "plt.show()"
      ],
      "metadata": {
        "colab": {
          "base_uri": "https://localhost:8080/",
          "height": 279
        },
        "id": "BLqOpyzkOkpL",
        "outputId": "af9e96fe-72aa-4de2-aa3e-4625053eda44"
      },
      "execution_count": 113,
      "outputs": [
        {
          "output_type": "display_data",
          "data": {
            "text/plain": [
              "<Figure size 432x288 with 1 Axes>"
            ],
            "image/png": "[encoded data removed]"
          },
          "metadata": {
            "needs_background": "light"
          }
        }
      ]
    },
    {
      "cell_type": "markdown",
      "metadata": {
        "id": "IWAbt_6Hf_Qs"
      },
      "source": [
        "Now we want to categorise the Solubility data into two classes- 0 for insoluble and 1 for soluble compounds. These compounds can be classified according to solubility values (LogS).\n",
        "\n",
        "Compounds with 0 and higher solubility value are highly soluble, those in the range of 0 to −2 are soluble, those in the range of −2 to −4 are slightly soluble and insoluble if less than −4.\n",
        "\n",
        "<div class=\"alert alert-success\">\n",
        "<b>Task 1d.</b> Create a \"isSoluble\" feature in the dataframe. \"isSoluble\" is a binary variable where 1 denotes all soluble compounds (i.e., whose Solubility>-2) and 0 for insoluble compounds. Report the number of compounds in both these classes. </div>"
      ]
    },
    {
      "cell_type": "code",
      "execution_count": 131,
      "metadata": {
        "colab": {
          "base_uri": "https://localhost:8080/"
        },
        "id": "stj0yN5fqf3m",
        "outputId": "f03007c2-5e56-4a20-ed5c-7937833eefef"
      },
      "outputs": [
        {
          "output_type": "stream",
          "name": "stdout",
          "text": [
            "0    6086\n",
            "1    3896\n",
            "Name: isSoluble, dtype: int64\n"
          ]
        }
      ],
      "source": [
        "df[\"isSoluble\"] = (df.Solubility > -2).astype(int)\n",
        "print(df.isSoluble.value_counts())"
      ]
    },
    {
      "cell_type": "code",
      "source": [
        "sns.histplot(x=\"MolWt\", hue='isSolubleA', data=df, bins=30);"
      ],
      "metadata": {
        "colab": {
          "base_uri": "https://localhost:8080/",
          "height": 279
        },
        "id": "gWWaaO05hT0h",
        "outputId": "313f360f-8f72-4e65-acd0-f2c68927b155"
      },
      "execution_count": 132,
      "outputs": [
        {
          "output_type": "display_data",
          "data": {
            "text/plain": [
              "<Figure size 432x288 with 1 Axes>"
            ],
            "image/png": "[encoded data removed]"
          },
          "metadata": {
            "needs_background": "light"
          }
        }
      ]
    },
    {
      "cell_type": "markdown",
      "source": [
        "<div class=\"alert alert-success\">\n",
        "<b>Task 1e.</b> Plot a histogram to analyse the distribution of 'MolWt' of compunds less than 1000g/mol and its relationship with 'isSoluble' feature.  You can use seaborn histplot for this task and set bins=40. </div>"
      ],
      "metadata": {
        "id": "x60As02bhbKT"
      }
    },
    {
      "cell_type": "code",
      "execution_count": 133,
      "metadata": {
        "colab": {
          "base_uri": "https://localhost:8080/",
          "height": 279
        },
        "id": "QtMkpU0C9Fsy",
        "outputId": "c57617f4-34f9-49ac-f3ca-e9ff286051be"
      },
      "outputs": [
        {
          "output_type": "display_data",
          "data": {
            "text/plain": [
              "<Figure size 432x288 with 1 Axes>"
            ],
            "image/png": "[encoded data removed]"
          },
          "metadata": {
            "needs_background": "light"
          }
        }
      ],
      "source": [
        "sns.histplot(x=\"MolWt\", hue='isSoluble', data=df[df.MolWt < 1000], bins=40);"
      ]
    },
    {
      "cell_type": "code",
      "source": [
        "### Below cells till section 2 start are not required"
      ],
      "metadata": {
        "id": "W7_YQ9bLjZiT"
      },
      "execution_count": 134,
      "outputs": []
    },
    {
      "cell_type": "code",
      "execution_count": null,
      "metadata": {
        "colab": {
          "base_uri": "https://localhost:8080/",
          "height": 1000
        },
        "id": "g99c1qQhs9_x",
        "outputId": "01c5bd57-acf2-4e07-983a-6b21d42497df"
      },
      "outputs": [
        {
          "name": "stderr",
          "output_type": "stream",
          "text": [
            "/usr/local/lib/python3.8/dist-packages/rdkit/Chem/PandasTools.py:381: SettingWithCopyWarning: \n",
            "A value is trying to be set on a copy of a slice from a DataFrame.\n",
            "Try using .loc[row_indexer,col_indexer] = value instead\n",
            "\n",
            "See the caveats in the documentation: https://pandas.pydata.org/pandas-docs/stable/user_guide/indexing.html#returning-a-view-versus-a-copy\n",
            "  frame[molCol] = frame[smilesCol].map(\n"
          ]
        },
        {
          "data": {
            "text/html": [
              "\n",
              "  <div id=\"df-23847afd-257e-4a2d-b709-6f9e9c3fb284\">\n",
              "    <div class=\"colab-df-container\">\n",
              "      <div>\n",
              "<style scoped>\n",
              "    .dataframe tbody tr th:only-of-type {\n",
              "        vertical-align: middle;\n",
              "    }\n",
              "\n",
              "    .dataframe tbody tr th {\n",
              "        vertical-align: top;\n",
              "    }\n",
              "\n",
              "    .dataframe thead th {\n",
              "        text-align: right;\n",
              "    }\n",
              "</style>\n",
              "<table border=\"1\" class=\"dataframe\">\n",
              "  <thead>\n",
              "    <tr style=\"text-align: right;\">\n",
              "      <th></th>\n",
              "      <th>ID</th>\n",
              "      <th>SMILES</th>\n",
              "      <th>Solubility</th>\n",
              "      <th>MolWt</th>\n",
              "      <th>isSoluble</th>\n",
              "      <th>Molecule</th>\n",
              "    </tr>\n",
              "  </thead>\n",
              "  <tbody>\n",
              "    <tr>\n",
              "      <th>0</th>\n",
              "      <td>A-3</td>\n",
              "      <td>[Br-].CCCCCCCCCCCCCCCCCC[N+](C)(C)C</td>\n",
              "      <td>-3.616127</td>\n",
              "      <td>392.510</td>\n",
              "      <td>1</td>\n",
              "      <td style=\"text-align: center;\"><div style=\"width: 200px; height: 200px\" data-content=\"rdkit/molecule\"><img src=\"data:image/png;base64,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\" alt=\"Mol\"/></div></td>\n",
              "    </tr>\n",
              "    <tr>\n",
              "      <th>1</th>\n",
              "      <td>A-4</td>\n",
              "      <td>O=C1Nc2cccc3cccc1c23</td>\n",
              "      <td>-3.254767</td>\n",
              "      <td>169.183</td>\n",
              "      <td>1</td>\n",
              "      <td style=\"text-align: center;\"><div style=\"width: 200px; height: 200px\" data-content=\"rdkit/molecule\"><img src=\"data:image/png;base64,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\" alt=\"Mol\"/></div></td>\n",
              "    </tr>\n",
              "    <tr>\n",
              "      <th>2</th>\n",
              "      <td>A-5</td>\n",
              "      <td>Clc1ccc(C=O)cc1</td>\n",
              "      <td>-2.177078</td>\n",
              "      <td>140.569</td>\n",
              "      <td>1</td>\n",
              "      <td style=\"text-align: center;\"><div style=\"width: 200px; height: 200px\" data-content=\"rdkit/molecule\"><img src=\"data:image/png;base64,iVBORw0KGgoAAAANSUhEUgAAAMgAAADICAIAAAAiOjnJAAAABmJLR0QA/wD/AP+gvaeTAAATs0lEQVR4nO3deVBT1x4H8F82wiJaV6SySGRRotUWa4fWpVUBq6igYrXKdETKdOrU0deOdFM7Ojpga0trn5XaPmvVvkrdwAUVUatWVCgugEAiCLhgBYmySBKSnPfHeV4jYFTMyc2Nv8/4h/yy3F/w613PPRERQgAhaxPz3QByTBgsxAQGCzGBwUJMYLAQExgsxAQGCzGBwUJMYLAQExgsxAQGCzGBwUJMYLAQExgsxAQGCzGBwUJMYLAQExgsxAQGCzGBwUJMYLAQExgsxAQGCzGBwUJMYLAQExgsxAQGCzGBwUJMYLAQExgsxAQGCzGBwUJMYLAQExgsxAQGCzGBwUJMYLAQExgsxAQGCzGBwUJMYLAQExgsxAQGCzGBwUJMYLAQExgsxAQGCzGBwUJMYLAQExgsxAQGCzGBwUJMYLAQExgsxAQGCzGBwUJMYLAQExgsxAQGCzGBwUJMYLAQExgsxAQGCzEh5bsBQbp169aBAweqq6vnzp373HPP8d2OPRIRQvjuwa7p9fqrV6+Wl5cXFRVdvHixvLy8vLz88uXL9Pcml8tzc3MHDRrEd5t2B4N1X0tLy+XLl9VqtUqlUt9z5coVk8nU6pnOzs5isViv1xsMBoVCUVpaKpXiuv8Bz26wNBqN+UqIrpO0Wm2rp8lkMm9vb8U9wcHBSqXS19dXIpEUFBSMHDny9u3bCxcu/Prrr3n5FHbrmQiWRqNptS0rKSlpampq+0xPT0+lUmkeo6CgIAtro1OnTr3++us6ne6XX3555513WH4IgXG0YKnV6tOnT8vlci5JKpWqoaGh7TO7du3KrYFojAYMGODq6vqkS1y7du28efNcXFxOnDjx0ksvWeNDOAKHCtbs2bO3bNnStk4zZL4tCwwMdHd3t9Zy4+Pjf/755759++bl5XXv3t1abytojhOs3NzcYcOGAYCbm9u4ceMGDRoUGBjo7+8fEBBg3TMChJBVq1YVFhZu2rSJVrRa7ciRI3Nzc8PCwjIzMyUSiRUXJ1TEUXzwwQcA4Ovry3pBly9f7tSpEwCkpKRwxcrKyp49ewLAkiVLWDcgCA4SLKPR6OvrCwBZWVk2WNzOnTtFIpFUKj169ChXzM7OlkqlIpFo27ZtNujBzjlIsPbu3QsACoXCaDTaZomLFi0CAA8PjytXrnDF5ORkAHB3d7948aJt2rBbDhKsqKgoAEhKSuIq+fn5JpOJ3RKNRuO4ceMA4JVXXtFqtbRoMpmmT58OAEFBQXfu3GG3dPvnCMGqrq6WyWRSqfT69eu0UlFRIRaLlUplS0sLu+XeunXLz88PAN577z2u2NDQoFQqASAqKoppsu2cIwRr+fLlADBt2jSusnjxYgCYNWsW60WfPXuWnvpav349V1SpVF26dAGAVatWsW7Abgk+WCaTqV+/fgBw4MABWjEYDN7e3gBgvmfNDj3pIJfLz5w5wxUzMjLEYrFYLN6/f78NerBDgg/W/v37AcDPz4/bbU9PT6d7OTbbEr3//vsA4O3tffPmTa5I15rdunUrLy+3TRt2RfDBmjp1KgCsWLGCq0RGRgLAV199ZbMe9Hr9iBEjAOCNN97g9uqMRuP48eMBYMiQIXfv3rVZM3ZC2MG6ceMG3W2/du0arVy5ckUikTg5OZmvPGygurq6T58+APDRRx9xxbq6OrqZjo2NtWUz9kDYwVq5ciUAREdHc5WlS5cCwIwZM2zfzMmTJ52cnADg999/54rnz593c3MDgLVr19q+JR4JOFgmk8nf3x8A9u3bRyvc+ffs7GxeWvruu+8AwM3NraCggCv+9ttvACCTyY4dO8ZLV7wQcLCysrLoLrPBYKCVPXv2AEC/fv14PIE0Z84cAAgICNBoNFxxwYIFANC7d29uk+3wBBwseo572bJlXGXy5MkAkJyczGNXzc3NISEhABAZGckdqLa0tIwaNQoAXn31VZ1Ox2N7NiPUYNXU1MjlcolEUllZSSvXr1+XyWQymay6uprf3ioqKnr06AEAX3zxBVe8ceOGl5cXAMyfP5/H3mxGqMFatWoVAEyaNImrLFu2DABiYmJ47Ipz6NAhiUQiFot3797NFU+dOiWXywFgw4YN/LVmI4IMlslkCgwMBADun81oNPbt2xcADh48yG9vHHrE6u7uXlxczBXXrVsHAM7Oznl5ebZpQ6/Xq1SqvXv3JiQkKJXKWbNmlZaW2mC5ggzW4cOHAcDLy4vbbc/MzGx1/p13JpMpJiYGAPr3719fX8/V4+Pj6YDEmpoaqy+0rq7u+PHjqampiYmJMTExISEhzs7O5uM6xWLx4MGD9Xq91RfdiiCDNXPmTABYunQpV5kyZQoArFy5kr+m2tHQ0BAcHAwAU6ZM4Q5UtVotHUI9duxY7j9GB1y7du3o0aPr169ftGhRdHS0Uqmk29lWJBKJn59feHh4TEzM+PHj6c7fggULrPQRH0p4waqtraX3i1ZUVNAKN2zGDg/mS0tL6UgH80tMVVVVvXr1AoDPPvvscd6krq4uLy8vLS0tKSkpNjY2JCSkc+fO7Q4079q1a0hISGxsbFJSUlpaWl5eXmNjo/lb5eTk2GY/T3jBWr16NQBMmDCBq6xYsYKuFXjsyoL09HSRSCSRSLjxF4SQw4cP03HMf/zxh/mTtVptYWEhzVBCQsLYsWM9PT0tZCgmJiYxMXHjxo15eXnmG1wLfvjhB7qf9/fff1v5o5oRXrDoxmXXrl30R+78e2ZmJr+NWfDpp58CQPfu3emkD9SXX35JT9MvXLgwLi5uxIgRHh4e7WaoS5cuQ4cOnTlz5pIlSzZv3nzmzJm6urqn6Wfu3Lns9vMogQXrzz//pKewud3PgwcPAoCPj8/T7K+wZjAYIiIiAGDYsGHcOGZCyJgxY1rdh+jk5KRQKCIjIxMTE1NTU7OyssrKyqxyIaGsrIz7e3Nz88svvwwAYWFhjH5vAgvW7NmzAeDzzz/nKvTIa/ny5Tx29Tjq6ur8/f0TExPNj1snTZoEAMOHD1+3bl12dnZVVRWji1FbtmxxcXH55ptvuEpVVRW9X838l2lFQgqWRqNxdXUVi8XcBoWef5dKpVevXuW1tcfS1NRk/qMtjzl27dpF71c7cuQIV+T281jcryakYKWkpADAuHHjuEpSUhIATJ48mceuOowec0ydOtU2i/v4448BoFevXub3q9ELGO7u7kVFRdZdnJCCNXDgQADYvn07/dFkMgUEBADAnj17+G2sA7hjDpsNin/Y/WpvvfUWMLhfTTDBOnHiBAB4eHhwu+3Z2dnw4Pl3ATlw4IDtjzlu3bqlUCgAICEhgSty96tNmzaNWG8PTzCT265fvx4A4uLiZDKZeSU+Pl6Ik3DQ5t99911bNt+tW7cdO3a4urr++OOPP/30Ey126tRp586dvh4eSTduwKpVVluYtRLK1O3bt11dXUUikVqtppXa2lq5XG5+/l1AuKH6vBxzbN68GQDkcvnp06e5om7PHiIWE4mEWOkqvjCCtWbNGgAICwvjKvTsYmRkJI9ddRg95oiKiuKrgXnz5gGAp6cnd+84IYQsXUoASLduxOyMV4cJI1hDhgwBgLS0NK4yYMAAAEhPT+exq47hjjn27t3LVw96vf61114Ti0R/xccTbhYCo5FMmEAAyODB5MEzIx1gv8Gqra3Nycn59ddf6Sjybt26mR/L7N+/f+7cuUynZmDk0KFDYAfHHNevX6+KiCAA5F//ul/VaIi/PwEgs2c/5fs/VrAqdBVH6o/kNOY0G5tpJfJS5IdXP3zKZXMeeeXVx8enR48etbW11loij+jhvfmoZd6cPEmcnAgA2bjxfvHCBeLmRgDIv//9NO/9iGAVNxeHloTC3yDLl0nzpZ3PdU6tSSWEvFb6WkJlguXXtqvZ2FxQWLBjx47k5OT4+PhRo0Y97Op9586dQ0JCZsyY8cknnwQFBQFAeHi4EM8smKPHHOZD9Xn2/fcEgLi4kPz8+8X//pcAEJmMPMX9apaCVdNS43nBM7go+ETDCb1J32xsXnNzzajSUVqT9nGC1WJqKdOWZdVnpdakJl5NjLwUqShUSPIlnn1aJ4leeR07duz8+fPbvfJaWVlJR6iZD+4TInrMMXHiRL4bMRMXRwBI377EfIOwcCEBIL17k44et1qa3HZZ9bIvqr/IH5A/xGVIq4eGq4YrnZWpPqn0RxOYqvRVaq1arVOrdCqVVqXWqSv0FQZiaPVCmUgWtjpMfEccGBgYcI+3t7dIJHpYG1R2dnZERITJZNq+fXt0dLTlJ9ut4ODg4uLijIyMiRMn8t3LPVotjBgBeXkQFgaZmUDPqxkMEBYGR49CaCgcPQpOTk/8thZCN7x0+NDioe0+RNdYBXcLosqigouC5fly+Bta/ZHkS/wK/MLV4fOq5n37z7eZdzLVWnWLqeO729ztCQKdiPHIkSMA0KdPH7vboFdWkp49CQAx3yD88w/x8iIA5IMPOvCWloLlU+AzvXx6uw9xweJi1PVc15DikNjLsUk3ktLq0vKa8pqMT3vI2or57QlCnIjx7bffBrudVvnQISKREJGI3LsUSwghp08TuZwAkP/850nf7xHBmlk+s92HaLC0Jm1aXdrZu2cbjY3tPs3quAtb0dHRwpqIse1QfbuTlEQAiLs7Md8g/PgjEYnIkw93sxSsV0peebXk1XYf6vBR4dNr9/YE+0e/xWn8+PF8N/JwJhOZPp0AkP79ifkGwfyA8bFZCtaiq4vk+fIb+httH+IxWOQhtyfYObqi3blzJ9+NWNTQQJRKAkCio59ypIOlYFXqKt3PuY9Wjb7Z8v9JzDQGTW5TLuE7WMTs9gRBTMR47NgxeHCovv0qKSFduhAA0ur/QEMDyc0lOTnk8Wa0e8QJ0sP1h5+/8Lw0X6osUr5Y/KLzWecIdQSxg2AZjcY333wTAF588UX7n4gxNjYWHvsuQv7t2kWSku6vsZqaSEICcXIiIhGRyYhYTMaPf+T5rUdf0rlrvLv39t41N9f8euvXU42nTMRECDnWcOzc3XNP/QmeilAmYqRD9UUi0aVLl/ju5cmZTGTCBNKjB9m5kzQ0EJ2O/Pkn6d+fBASQhgYLr7Pfi9CP4/z583Sa9dTUVL57eahvv/0WACIiIvhupEOyswkAuXcX5/+pVEQiIRYPnoQdLEII/YJCmUx2/PhxvntpHx2qL9RvbvrwQ9KpE2k71UpoKBk92sLrBB8sQsj8+fMBwNPT0w7nbvjrr7/gwaH6AjNlClEq26nPmkX8/Cy8TjBj3i1YvXr1qFGjqqurY2Ji9Ho93+08gI5tnzNnDjdUX2BMJmh3VL5MBkajhdc5QrCkUunWrVv79Olz8uTJxMREvtu5786dO2lpaSKRKC4uju9eOur55+HKlXbqVVXg5WXhdY4QLADw8PDYtm2bXC5PSUnZuHEj3+3836ZNm+7evTtmzBg6FlmQRo8GjQby8h4oajRw+jS88YalF7LaNvNh7dq1AODi4sJ0gh5Kq9WWlZVlZGRwo179/f3NJ/wg94bqb926lXUzDOn1RKkkgwcT7raLxkYSFUWee45Y3KN1qGCRexP09O3b14rjmHU6XVlZWVZWVkpKCs2QQqEQi9tZ2ZuP5zl16hQA9OjRo1XahKesjAwcSJydybBh5PXXSefOxNPzkYNLpVZbZ9qH77///sKFC7m5uTNnzuzAF8obDIaqqqrye4qKii5evFhZWWlss6Pq5OTk5eWlUCiCg4OVSqVCoVAoFPR7MSlut73dGRyFRKGAc+cgOxsuXACdDubPh/BwcHOz/CJLI0gFqqqqaujQoTU1NYsXL6ZzdD+MRqOh0TFPklarbfU0mUzm7e2tuIcmydfX10Jq6+vrvby8GhsbS0pK6ATPzxybrExtzcIXyhcWFkZFRT1yKth58+alpKTs27dPrVZ34CYzOv3uCy+8YKUPJDyOtimkRo8evWLFisTExDlz5gQHB9O7WymRSLRr1y76965du7balg0YMIBeI3oiOp3u0qVLKpVKrVar1eqMjIyamhoAGDlypLU+keA44KaQIoTMmDEjLS0tKCjozJkz3DTDer0+PT2d3sTh9qgdhbYefycsODg4JyfnYdMbOzyHDRYANDY2hoaG0m3fjh07HnkjUFsd2wnr0qWLUqkMDQ2VSh1zg/A4HDlYAKBWq4cNG3b79u3k5ORFixZZeKZGo+HWQDRDJSUlTU1NbZ/p6enJbToppVLZ6gsgkIMHCwB2794dFRUFACtXrqQXfGiGzLdlarW6vr6+7Wvb7oT179+/AxvQZ5DjBwsA4uLiNmzYIBKJXF1dJRJJuxnq2bNnQECA+W20HdsJQ9QzESyDweDj41NdXU1/dHZ2ptsvbls2cODA3r1789ukg3kmggUALS0tmzdv1ul04eHhdB5OxNSzEixkYw4ybAbZGwwWYgKDhZjAYCEmMFiICQwWYgKDhZjAYCEmMFiICQwWYgKDhZjAYCEmMFiICQwWYgKDhZjAYCEmMFiICQwWYgKDhZjAYCEmMFiICQwWYgKDhZjAYCEmMFiICQwWYgKDhZjAYCEmMFiICQwWYgKDhZjAYCEmMFiICQwWYgKDhZjAYCEmMFiICQwWYgKDhZjAYCEmMFiICQwWYgKDhZjAYCEmMFiICQwWYgKDhZjAYCEmMFiICQwWYgKDhZjAYCEmMFiICQwWYgKDhZjAYCEmMFiICQwWYgKDhZjAYCEmMFiICQwWYgKDhZj4H0uUxzLIy+hmAAAA2XpUWHRyZGtpdFBLTCByZGtpdCAyMDIyLjA5LjQAAHice79v7T0GIOBlgABGIOaE4gZGQQYFkBibgwaQYmZhc8gA0cyMSAyoDANUgIMBLMCEqZQbaDYjUwYTE3MCM0sGEwurAiubBhMLewI7RwYTB2OCCCMbIwc7CzOTeBnUHWDAGbkl8oDFhc37QByz3K/7/3dwgtn2Vev2vzBfaA9iXxf+YXvt1x4w+0hnm/2HoJl2IPYCJyWHEH0WsPiTY7EOD2U094PNif5n5yPSA2bHnazZb3V9OZgtBgBUdjFU4OnZ8QAAASp6VFh0TU9MIHJka2l0IDIwMjIuMDkuNAAAeJx9kt1qwzAMhe/zFHqBGsn6cXTZJmWM0QS2bO8w6OXen8ktmVswk3LAcb4YHckD1Hif375/4C/yPAwA+M/j7vDFiDhcoC7gdH55XWDajqd9Z1o/l+0DPBJrPpPHbb3sOwTTFQ6cBMmY4YCJlchHwIS3aD9nmOBAyamwayWJhSl3SL6TbExoQCmrK3kHlADjnEzEOTgpJqgdToOjhEpY6jHZXYw6nAWXk7Iylfis4UlKhyuwQng2zSbViRmq98DxVqC4FcdqCV3Yek68WsbkYxEZb+aJslqHPC/z0wTuMzmty9xmUjO3vkuIW3OlqrWwprZOUchaQ3KoNN+BwtjcScibBwnlx0Ify6rv+yWL9fAL+mqELqCA504AAACbelRYdFNNSUxFUyByZGtpdCAyMDIyLjA5LjQAAHicHc67DcMwDEXRVVLagEzw8ScRQioPkCHUZgQPHyrtAXEfP+97Ya113N9zLbyeQ8nCJdrFFMGevU0hV1dpTI5QKwGxg0eJZFqgTSYIUEcg62FtXiANBQrE0+UviW67DDXFplrjam5TB3KUMeXoZqPtBFC/VN0yem7hNO3tfH6NPCZ9SVcWBAAAAABJRU5ErkJggg==\" alt=\"Mol\"/></div></td>\n",
              "    </tr>\n",
              "    <tr>\n",
              "      <th>3</th>\n",
              "      <td>A-8</td>\n",
              "      <td>[Zn++].CC(c1ccccc1)c2cc(C(C)c3ccccc3)c(O)c(c2)...</td>\n",
              "      <td>-3.924409</td>\n",
              "      <td>756.226</td>\n",
              "      <td>0</td>\n",
              "      <td style=\"text-align: center;\"><div style=\"width: 200px; height: 200px\" data-content=\"rdkit/molecule\"><img src=\"data:image/png;base64,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\" alt=\"Mol\"/></div></td>\n",
              "    </tr>\n",
              "    <tr>\n",
              "      <th>4</th>\n",
              "      <td>A-9</td>\n",
              "      <td>C1OC1CN(CC2CO2)c3ccc(Cc4ccc(cc4)N(CC5CO5)CC6CO...</td>\n",
              "      <td>-4.662065</td>\n",
              "      <td>422.525</td>\n",
              "      <td>0</td>\n",
              "      <td style=\"text-align: center;\"><div style=\"width: 200px; height: 200px\" data-content=\"rdkit/molecule\"><img src=\"data:image/png;base64,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\" alt=\"Mol\"/></div></td>\n",
              "    </tr>\n",
              "    <tr>\n",
              "      <th>...</th>\n",
              "      <td>...</td>\n",
              "      <td>...</td>\n",
              "      <td>...</td>\n",
              "      <td>...</td>\n",
              "      <td>...</td>\n",
              "      <td>...</td>\n",
              "    </tr>\n",
              "    <tr>\n",
              "      <th>9977</th>\n",
              "      <td>I-84</td>\n",
              "      <td>C(c1ccc(cc1)NCCCC)(=O)OCCN(C)C</td>\n",
              "      <td>-3.010000</td>\n",
              "      <td>264.369</td>\n",
              "      <td>1</td>\n",
              "      <td style=\"text-align: center;\"><div style=\"width: 200px; height: 200px\" data-content=\"rdkit/molecule\"><img src=\"data:image/png;base64,iVBORw0KGgoAAAANSUhEUgAAAMgAAADICAIAAAAiOjnJAAAABmJLR0QA/wD/AP+gvaeTAAAP/UlEQVR4nO3cfVBU1/3H8c+F5XGxKAoqikAwYpFiKEYU4oCGDINZjUbRaUYcBfFh7JA4UTFGgyJpV2rMto6xSqOSOtoEE4MaE8VmBKUgEh0tVMQHEDVgEMUHnpf99o9r9+cPAeHuHkD8viZ/4d6zZzdvds+eexeJiMCYuVl09wRY78RhMSE4LCYEh8WE4LCYEBwWE4LDYkJwWEwIDosJwWExITgsJgSHxYTgsJgQHBYTgsNiQnBYTAgOiwnBYTEhOCwmBIfFhOCwmBAcFhOCw2JCcFhMCA6LCcFhMSE4LCYEh8WE4LCYEBwWE4LDYkJwWEwIDosJwWExITgsJgSHxYTgsJgQHBYTgsNiQnBYTAgOiwnBYTEhOCwmBIfFhOCwmBAcFhOCw2JCcFhMCA6LCcFhMSE4LCYEh8WE4LCYEBwWE4LDYkJwWEwIDosJwWExITgsJgSHxYTgsJgQHBYTgsNiQnBYTAgOiwnBYTEhOCwmBIfFhOCwmBAcFhOCw2JCcFhMCA6LCcFhMSE4LCYEh8WE4LB6nKoqXLkCABUVKCvr7tkoxWGZpLCwcN26dS4uLvb29jExMWYZ88oV/POfAPDvf+Nf/zLLkN1A1d0TeP7o9frMzMwDBw6kp6ffvHlT/qEkSTt37hw6dOj69etNv4vMTOj1KCpCcLDpg3WP9sK6ffu2i4uLJEldNpuerL6+PiMj4/Dhw+np6bdv35Z/6ObmFhERMXny5PLy8ri4uMTExLKyspSUFJXKpN9Yf3+8/TayskBkjql3C2rDrVu3PD0958yZ09jY2NZtXgR379796quvoqKi+vTpY3zSXnrppbi4uJMnTxoMBiIqLi4eOXJkcnKynZ0dgGnTptXV1Sm+x9xc+utfiYiOHaN9+8z1OLpam2FlZmY6ODgA0Gg0tbW1XTmnnuDGjRsrVqwICwuzsrKSY5IkKTAwUKvVXrp0qcWNFyxYAKBPnz5btmzp378/gIkTJ96/f1/ZXVdU0JEjRERFRXTxoomPo9u0GRYRnTlzxtnZGUBgYOCdO3e6bE49gZeXl4WFBQBLS8vg4GCdTnfz5s22btzU1BQdHQ3A2tp606ZNQ4YMARAQEHD79m0Fd/2f/5CHB5WU0IED9N13JjyGbtVeWER08eLFYcOGAfDx8blx40bXzKnblZSUyEmlpKTcvXu3I4cYDIYVK1bIRyUlJb388svyO+aVK1c6dddFRXThAiUmUnT08x3WM7YbRo4cmZ2d7ePjU1paGh198/JlM6/weqa8vDwA4eHhDx8+zMvLa25ufuYhkiQlJyfrdDqDwbBmzZrw8HB/f/9r165NmDDh/Pnzzzy8sBDr1mHMGIwcifx8ODoiJASHDpnhsXSbjtRXVVX1u99lAuTiQj/9pKTfqqqq5OTkTz/99N69e0qO71rLli0DEB8fD6BPnz56vb7jx+7evVv+SBgbGxsWFgagX79+p06devqWer0+K+tOXBwNG0bA4/+cnEirpT//mQwGmjiR0tNp/Xp69Mh8j62rdCgsIqqpoYgIAsjBgY4e7ejov/zyS2pqqkajsba2BiBJ0ujRo6urqxVOtquMGzcOwLp16wCEhYV19vD09HT54+Fbb701ffp0APb29t/9712trq4uIyMjLi5u0KBBY8aslXtydqaoKDp4kBobqa6O5LVZZSUtWkQABQbSc7fE7WhYRNTURPPnE0DW1vTll+3d8uJF2ro1Z+zYscY9MCsrqzFjxsif2P39/SsqKkyduDD19fU2NjYWFhbvvfcegDVr1igY5MSJE46OjgAmTpw4f/58ACqVKjY2dsaMGWq12vh24ef36urVhrw8MhhaH+faNRo+nAD69a/p+nWTHlcX60RYRNTcTHFxBJCVFV292vJfCwooIYECAgig3/72DgA7OzuNRrN9+3b581Fpaam3tzcAT0/P4uJicz0G88rJyQHg6+sbEhIC4PDhw8rGOXv27MCBAwGMHTt21apV8nui3JOPj09CQkJ+fn5Hxikvp1deIYBcXenCBWVz6QadC0u2YQP95S8UHEwnThARLVhAv/89DR36fwuF/v0pJqY5PT396Q2wqqqq8ePHAxg0aNC5c+dMfwBmt3nzZgAxMTEODg6SJFVWVioe6tq1a8OHD586dWpjY6P8ap2UlKTgw/W9e/Taa4+f2DNnSjp1bGVlZWpqakhIiJWVlY+PT01NTWfvXRklYckWLaK5c6mhgRYupN/8hgByc6OFCx8vFNrx6NGj8PBwAH379s3MzFR49w8e0MqV9OGHtHYtdWZx/UyzZs0C8NFHHwEYMWKEiaNVVFTU1dUVFhYCcHNzUzxOfT3NmEGhoYlqtfr7779/5u0vX76cnJwcFBQk78bJC1wAQUFBHdxAMZHysJYsodOnSaulhQvp+HE6c6bNhcLTGhoaZs+eDcDGxmb//v1K7v4Pf6CzZ4mI0tLoH/9QMkIb3NzcAKxduxbA3LlzzTLm559/DmDWrFmmDNLUZJg3bx4Aa2vrfW2c6ykoKEhISAgICDAu42xtbeXVSEZGhpeXF7pqS9KksIho+XKKilJyuF6vX7x4MQBLS8sdO3Z09LB792jPHtq5k6KjH78wFhXRhg1KZtCaW7duyS+lc+bMAfDZZ5+ZZVj5nM/mzZtNHMdgMMibIJIkffLJJ/IPm5ubT548GR8fP2LECGNP/fr1i4yMTE1NffDggfHwn3/+2c/PD4C7u3tRUZGJk2mf8rDkl4mqKtqzR/nda7Va+WlKSEho73aVlZSaShoNWVsTQEOG0J/+RDk5RER79tCBA8pn8P/t378fQHh4+PDhwwGYaxXo6+sLIEeesMl0Op38vhYaGhoTEyOfdpO5urouWbLk2LFjbV06cPfu3eDgYABOTk7mmk+rlIf16qvk7k6FhabOYOvWrfI6IC4urrm5+cl/Ki4u3rhx44WZM8nC4vHnApWKXn+dtmyh6mpas4Y+/JD++EfS6ykujrKzTZ0K0fvvvw9g5cqVkiSp1eqmpibTx7x//76lpaWNjU19fb3po8l27typUqmMF+d4enrKV1u0eAJbVVNTM3nyZAAODg5HO74n2UkKw6qtJWtrsrSkhw/NMIlvvvnG1tYWgHyVTouFQnxICNnakkZD27dTqxtgu3cTQPb2pHRrwEj+bZYv1gsNDTVxNNmxY8cAjB8/3iyjGaWkpEyYMCE2NragoKCzxz551vzL9vckn1JTU3Pw4MGoqKiIiIh2bqYwrKwsAuiVV5Qd3YqjR4/KV+nY2NgYX9idnJyioqIy0tOp/Q/Jej0tXEgAWVrS3/6meA6NjY12dnaSJMmvWx988IHioZ6UmJgIYNmyZWYZzVwMBsPy5cvlNe62bdueefuKioodO3ZEREQY/wdZWFi0sxejMKzkZAIer9/N5dSpU7a2tgMGDHB2do6Kijp48GBDQ0MnjtdqCSBJoo0bFdy7Xq/ftm0bAG9v76+//joyMjIjI0PBOE+LiIgA0NkXhq6h1Wrl5Vp8fHyrNygtLdXpdGFhYca3XQsLi+DgYK1W2/4Wt8Kwpk8ngFJTlR3dpocPH+bk5Bg6vm/Rgk5HkkT29n9PSurgIE+euQPg4eGhVquzzbFckxkMBvnSv7KyMnONaV7Gs+ZLly41LtEKCgq0Wm1wcLDxpJytrW1YWJhOpysvL+/IsArDcnUlgHriWZk9ezaMGydvnbdzVUJ1dfXevXsjIyPl91/ZiBEjfHx8AKjV6h9++MEs0ykqKpI/rJllNEG+/fZbeY3r7++/ZMkST09P43Pi6Oj4zjvvpKWlPezkalpJWKWlN0NC3nv99YOKX1mEOn78uHz+ZMqUKS3OKcnnNzQazZMruSfP3On1ennPydraeu/evaZPZteuXQBmzpxp+lBC/fjjj/b29sbXpwEDBihZjTxBSVj79u0DoNFolN1lFzh9+vSAAQMAhISEVFdXl5SUtFgoyBcct7pQaHUTsrMqKirkHchFixYB2LRpk6kPSbx9+/a98cYbGo0mOzu7I9sW7VMS1rvvvgsgKSnJxPsWqqCgwN7eHoDx2xAA7Ozspk6dumvXrmdewq/T6eTdtbZWta16smD5F0/e6W71Qr/eTUlYgYGBAI4fP2722ZhRbW2tSqUyvrb7+vq2OL/xTF988YUc5bx589rfKT137lxCQoLckHGpGxkZeejQIUmSVCrVC/g1p06HZbwOTvHXm7pGVlYWgNGjR48aNQqAsi3mQ4cOtfVVwebm5vz8/ISEBPkKM5larX7zzTfXr1+/atUq+cydJEnu7u7meUjPlU6HlZ2dDcDPz0/EbMxo48aNABYvXmxraytJkuJrRXJzc+X9gtDQUPl3qbKyMjY21sXFxdjT4MGDFyxYkJiYGB0d3eLnQUFB15+vSz/NpNPfBL9x44ZarZbfDXuy3NxcAAMHDqyvrx81apTx6s3OCgwMzMzMDA8PP3HixKRJk44cOdKvX7+0tLTq6moPD4/JkycPHjz40qVLaWlp9+/flw/x9PScMmVKZGTkk5dDvXAUxNjU1NTzv2zj6uoKYPXq1QBiYmJMHK2kpER+a5O/Krh79+6PP/64nW0LpuRvV6hUqr59+5opbCFuXb9eUV7ev3//q1evApAvhjaFh4dHVlZWRETEuXPnvL29ichgMACwtLQMCQmZPn36tGnT3N3dzTD13qJ3/hmjIbm5ekfH8rffvnbnjldAQJA53rgHDhyYlZXl5+dXUlJiZWU1adIkjUYze/Zs+VwQa6F3hoWcHKm62tXJyTUl5bVf/Qo+PmYZ1cHBobi4OC8vz8vLS/4GDmtLrw0LAOzsAGDcOJhvBa1SqYKCgsw1Wi/WGz+zNDTg/HlYWODePQAYN667J/Qi6o1h5eejoQG+vvjpJ4DD6h69MazcXAAIDMTZs5Ak9Pgtt16pN4ZVX4++fTF4MGpr4e0NJ6funtCLSKLn+O+ntqGuDtnZkCSUlUGSMG9ed0/oRdTrXrH0esh/b72oCNXVXFV36XVhnT+PsWMRFoalS3H2bHfP5sXV68JiPUOv2yAdPRqbNiEzE5cvw9+/u2fz4uqNi/faWmRmwtkZY8Z091ReXL0xLNYD8BqLCcFhMSE4LCYEh8WE4LCYEBwWE4LDYkJwWEwIDosJwWExITgsJgSHxYTgsJgQHBYTgsNiQnBYTAgOiwnBYTEhOCwmBIfFhOCwmBAcFhOCw2JCcFhMCA6LCcFhMSE4LCYEh8WE4LCYEBwWE4LDYkJwWEwIDosJwWExITgsJgSHxYTgsJgQHBYTgsNiQnBYTAgOiwnBYTEhOCwmBIfFhOCwmBAcFhOCw2JCcFhMCA6LCcFhMSE4LCYEh8WE4LCYEBwWE4LDYkJwWEwIDosJwWExITgsJgSHxYTgsJgQHBYTgsNiQnBYTAgOiwnBYTEhOCwmBIfFhOCwmBAcFhOCw2JCcFhMCA6LCcFhMSE4LCYEh8WE+C+lOVXUeptZ6QAAAWt6VFh0cmRraXRQS0wgcmRraXQgMjAyMi4wOS40AAB4nHu/b+09BiDgZYAARiAWhuIGRjYGDSDNzMLmAKMzQDQzIxIDlww7A5jBBDQkAchgYsJOMzJzQCxhgtHo6tgZFEDiMOUwmpuBUYGRKYOJiTmBmSWDiYU1gZUNSLErsHMwcHAycHIxcHEzMPBoMDHwKvDyMfDxM/ALMAgIMggIMbAxJogwsjGysbIwM4m/g/oaDITnaz7Zn+Lsvh/EKQvfss9Gfvk+EDsn7+Wesxsn2oPY7Hmb7Td0nwazL3UoOLy9LgxmH7jA7eAtnQzW2yDtaN+RvhrM3ixU43DzaDNYjWPRQgf+jk4bENvQ/LwDD8MHOxBbYsEnhxx7brD6FiMBR5PYPXtB7Idn2A4s7+U/AGLPe2ZxwPJDPli9vUXXgbv34sBuU1+49sDudm+w+eJptw+8Xr4erObfuX8HtnSuBYsrHHp6YGF/P9h8MQDRol2Wu9DvrgAAAd96VFh0TU9MIHJka2l0IDIwMjIuMDkuNAAAeJx9VFuO2zAM/M8pdAELfIrU5yZZFEWxDtCmvUP/e3+UlJFaCwiVTEKWJxTJGeVScny/f/v9p/wbdL9cSoH/PL338osB4PJRclGu71++7uX2fLu+dm6Pn/vzR8GeD+T8jH17Pj5eO1huZcNqTkpQNqhmzkYFKoxx/pYSCZWViAeSqQnCAskHEsila8GK7MR9AZQAYhVAGzjtQLAKqIGjquCsGJ/VTFEWuDZw6NKwZQbuhqwLoAUwSlWJGrJ85g7dFkAve+Ha2aPUyBCoi60C9gioFUTxCIPNfFVx9OtWWo0g4gmU5qarkjGJsapOIJy1RK6d2wqZxPQ4kpgHEnoksUoSuTzKFg2CRqq5ImEgXEHlgLp3sDyVWBiXQZOcTSpjpDe6TmhNVs3E5GfTKqSdUmJBO8iyeou+b626NsJExulgvkJ6xrTaG1nzoIhVrS0T7QcyxBYkJutIqLaq/n2/f7okx7W5Pvb7eW1y0nk3JIzPCyBpp8xz6qnmeCntFK2E2SlNjK9+ChDD+qkzTJv1hMPhJBwcjiaBUO7xpIMBkoltHE4nVnG4NpGHw9lEEg7nExnHTp+aLlESzZ2d+5jvr7+uWF/+Am3c8YJW/l4dAAAA/npUWHRTTUlMRVMgcmRraXQgMjAyMi4wOS40AAB4nCWQOY7DMAxFrzKlDcgE9wVGKvXJIXSNHD6UpxMfSP5HzTnne9Fa65jH63N+ujzmOc+16O97FCCxyLgQsKhCfdwBloy6mamUNHLQMK2BoJ5h4zZANe4aySOziUBJug4C5NIcN4NhinWPRRjpuAkUKbvDCnncO5NTy5qQJOuDxJgfH2FXakQQyZ3VKCIl9iQDobONfrAK/qPMwuw4FhVqo0tBqCT2JFO4RjMDZattHmW4Ix3SnKlJz2G0+RVQzhHtJWbhD6GoNm0bYrLe1Av6d9g3EinaB1OqP6KZQX36+f0By4lN76NZ0CYAAAAASUVORK5CYII=\" alt=\"Mol\"/></div></td>\n",
              "    </tr>\n",
              "    <tr>\n",
              "      <th>9978</th>\n",
              "      <td>I-85</td>\n",
              "      <td>OC1=C(C(C2=C(O)[C@@](C(C(C(N)=O)=C(O)[C@H]3N(C...</td>\n",
              "      <td>-2.930000</td>\n",
              "      <td>444.440</td>\n",
              "      <td>1</td>\n",
              "      <td style=\"text-align: center;\"><div style=\"width: 200px; height: 200px\" data-content=\"rdkit/molecule\"><img src=\"data:image/png;base64,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\" alt=\"Mol\"/></div></td>\n",
              "    </tr>\n",
              "    <tr>\n",
              "      <th>9979</th>\n",
              "      <td>I-86</td>\n",
              "      <td>c1(cc(ccc1C(C)C)C)O</td>\n",
              "      <td>-2.190000</td>\n",
              "      <td>150.221</td>\n",
              "      <td>1</td>\n",
              "      <td style=\"text-align: center;\"><div style=\"width: 200px; height: 200px\" data-content=\"rdkit/molecule\"><img src=\"data:image/png;base64,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\" alt=\"Mol\"/></div></td>\n",
              "    </tr>\n",
              "    <tr>\n",
              "      <th>9980</th>\n",
              "      <td>I-93</td>\n",
              "      <td>COc1ccc(CCN(C)CCCC(C#N)(C(C)C)c2ccc(OC)c(OC)c2...</td>\n",
              "      <td>-3.980000</td>\n",
              "      <td>454.611</td>\n",
              "      <td>0</td>\n",
              "      <td style=\"text-align: center;\"><div style=\"width: 200px; height: 200px\" data-content=\"rdkit/molecule\"><img src=\"data:image/png;base64,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\" alt=\"Mol\"/></div></td>\n",
              "    </tr>\n",
              "    <tr>\n",
              "      <th>9981</th>\n",
              "      <td>I-94</td>\n",
              "      <td>CC(=O)CC(c1ccccc1)c1c(O)c2ccccc2oc1=O</td>\n",
              "      <td>-4.780000</td>\n",
              "      <td>308.333</td>\n",
              "      <td>0</td>\n",
              "      <td style=\"text-align: center;\"><div style=\"width: 200px; height: 200px\" data-content=\"rdkit/molecule\"><img src=\"data:image/png;base64,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\" alt=\"Mol\"/></div></td>\n",
              "    </tr>\n",
              "  </tbody>\n",
              "</table>\n",
              "<p>9982 rows × 6 columns</p>\n",
              "</div>\n",
              "      <button class=\"colab-df-convert\" onclick=\"convertToInteractive('df-23847afd-257e-4a2d-b709-6f9e9c3fb284')\"\n",
              "              title=\"Convert this dataframe to an interactive table.\"\n",
              "              style=\"display:none;\">\n",
              "        \n",
              "  <svg xmlns=\"http://www.w3.org/2000/svg\" height=\"24px\"viewBox=\"0 0 24 24\"\n",
              "       width=\"24px\">\n",
              "    <path d=\"M0 0h24v24H0V0z\" fill=\"none\"/>\n",
              "    <path d=\"M18.56 5.44l.94 2.06.94-2.06 2.06-.94-2.06-.94-.94-2.06-.94 2.06-2.06.94zm-11 1L8.5 8.5l.94-2.06 2.06-.94-2.06-.94L8.5 2.5l-.94 2.06-2.06.94zm10 10l.94 2.06.94-2.06 2.06-.94-2.06-.94-.94-2.06-.94 2.06-2.06.94z\"/><path d=\"M17.41 7.96l-1.37-1.37c-.4-.4-.92-.59-1.43-.59-.52 0-1.04.2-1.43.59L10.3 9.45l-7.72 7.72c-.78.78-.78 2.05 0 2.83L4 21.41c.39.39.9.59 1.41.59.51 0 1.02-.2 1.41-.59l7.78-7.78 2.81-2.81c.8-.78.8-2.07 0-2.86zM5.41 20L4 18.59l7.72-7.72 1.47 1.35L5.41 20z\"/>\n",
              "  </svg>\n",
              "      </button>\n",
              "      \n",
              "  <style>\n",
              "    .colab-df-container {\n",
              "      display:flex;\n",
              "      flex-wrap:wrap;\n",
              "      gap: 12px;\n",
              "    }\n",
              "\n",
              "    .colab-df-convert {\n",
              "      background-color: #E8F0FE;\n",
              "      border: none;\n",
              "      border-radius: 50%;\n",
              "      cursor: pointer;\n",
              "      display: none;\n",
              "      fill: #1967D2;\n",
              "      height: 32px;\n",
              "      padding: 0 0 0 0;\n",
              "      width: 32px;\n",
              "    }\n",
              "\n",
              "    .colab-df-convert:hover {\n",
              "      background-color: #E2EBFA;\n",
              "      box-shadow: 0px 1px 2px rgba(60, 64, 67, 0.3), 0px 1px 3px 1px rgba(60, 64, 67, 0.15);\n",
              "      fill: #174EA6;\n",
              "    }\n",
              "\n",
              "    [theme=dark] .colab-df-convert {\n",
              "      background-color: #3B4455;\n",
              "      fill: #D2E3FC;\n",
              "    }\n",
              "\n",
              "    [theme=dark] .colab-df-convert:hover {\n",
              "      background-color: #434B5C;\n",
              "      box-shadow: 0px 1px 3px 1px rgba(0, 0, 0, 0.15);\n",
              "      filter: drop-shadow(0px 1px 2px rgba(0, 0, 0, 0.3));\n",
              "      fill: #FFFFFF;\n",
              "    }\n",
              "  </style>\n",
              "\n",
              "      <script>\n",
              "        const buttonEl =\n",
              "          document.querySelector('#df-23847afd-257e-4a2d-b709-6f9e9c3fb284 button.colab-df-convert');\n",
              "        buttonEl.style.display =\n",
              "          google.colab.kernel.accessAllowed ? 'block' : 'none';\n",
              "\n",
              "        async function convertToInteractive(key) {\n",
              "          const element = document.querySelector('#df-23847afd-257e-4a2d-b709-6f9e9c3fb284');\n",
              "          const dataTable =\n",
              "            await google.colab.kernel.invokeFunction('convertToInteractive',\n",
              "                                                     [key], {});\n",
              "          if (!dataTable) return;\n",
              "\n",
              "          const docLinkHtml = 'Like what you see? Visit the ' +\n",
              "            '<a target=\"_blank\" href=https://colab.research.google.com/notebooks/data_table.ipynb>data table notebook</a>'\n",
              "            + ' to learn more about interactive tables.';\n",
              "          element.innerHTML = '';\n",
              "          dataTable['output_type'] = 'display_data';\n",
              "          await google.colab.output.renderOutput(dataTable, element);\n",
              "          const docLink = document.createElement('div');\n",
              "          docLink.innerHTML = docLinkHtml;\n",
              "          element.appendChild(docLink);\n",
              "        }\n",
              "      </script>\n",
              "    </div>\n",
              "  </div>\n",
              "  "
            ],
            "text/plain": [
              "        ID                                             SMILES  Solubility  \\\n",
              "0      A-3                [Br-].CCCCCCCCCCCCCCCCCC[N+](C)(C)C   -3.616127   \n",
              "1      A-4                               O=C1Nc2cccc3cccc1c23   -3.254767   \n",
              "2      A-5                                    Clc1ccc(C=O)cc1   -2.177078   \n",
              "3      A-8  [Zn++].CC(c1ccccc1)c2cc(C(C)c3ccccc3)c(O)c(c2)...   -3.924409   \n",
              "4      A-9  C1OC1CN(CC2CO2)c3ccc(Cc4ccc(cc4)N(CC5CO5)CC6CO...   -4.662065   \n",
              "...    ...                                                ...         ...   \n",
              "9977  I-84                     C(c1ccc(cc1)NCCCC)(=O)OCCN(C)C   -3.010000   \n",
              "9978  I-85  OC1=C(C(C2=C(O)[C@@](C(C(C(N)=O)=C(O)[C@H]3N(C...   -2.930000   \n",
              "9979  I-86                                c1(cc(ccc1C(C)C)C)O   -2.190000   \n",
              "9980  I-93  COc1ccc(CCN(C)CCCC(C#N)(C(C)C)c2ccc(OC)c(OC)c2...   -3.980000   \n",
              "9981  I-94              CC(=O)CC(c1ccccc1)c1c(O)c2ccccc2oc1=O   -4.780000   \n",
              "\n",
              "        MolWt  isSoluble                                          Molecule  \n",
              "0     392.510          1  <rdkit.Chem.rdchem.Mol object at 0x7f9f7547d660>  \n",
              "1     169.183          1  <rdkit.Chem.rdchem.Mol object at 0x7f9f7547d6d0>  \n",
              "2     140.569          1  <rdkit.Chem.rdchem.Mol object at 0x7f9f7547d4a0>  \n",
              "3     756.226          0  <rdkit.Chem.rdchem.Mol object at 0x7f9f7547d3c0>  \n",
              "4     422.525          0  <rdkit.Chem.rdchem.Mol object at 0x7f9f7547d740>  \n",
              "...       ...        ...                                               ...  \n",
              "9977  264.369          1  <rdkit.Chem.rdchem.Mol object at 0x7f9f6e0ea890>  \n",
              "9978  444.440          1  <rdkit.Chem.rdchem.Mol object at 0x7f9f6e0ea970>  \n",
              "9979  150.221          1  <rdkit.Chem.rdchem.Mol object at 0x7f9f6e0eaa50>  \n",
              "9980  454.611          0  <rdkit.Chem.rdchem.Mol object at 0x7f9f6e0eab30>  \n",
              "9981  308.333          0  <rdkit.Chem.rdchem.Mol object at 0x7f9f6e0eac10>  \n",
              "\n",
              "[9982 rows x 6 columns]"
            ]
          },
          "execution_count": 132,
          "metadata": {},
          "output_type": "execute_result"
        }
      ],
      "source": [
        "df_upd = df[[\"ID\", \"SMILES\", \"Solubility\", \"MolWt\", \"isSoluble\"]]\n",
        "PandasTools.AddMoleculeColumnToFrame(df_upd, 'SMILES', 'Molecule', includeFingerprints=True)\n",
        "df_upd"
      ]
    },
    {
      "cell_type": "code",
      "execution_count": null,
      "metadata": {
        "colab": {
          "base_uri": "https://localhost:8080/",
          "height": 197
        },
        "id": "CwoBb5w_9QZs",
        "outputId": "be88f501-3cac-49e1-9a79-31722b0faf18"
      },
      "outputs": [
        {
          "data": {
            "image/png": "[encoded data removed]",
            "text/plain": [
              "<Figure size 900x180 with 5 Axes>"
            ]
          },
          "metadata": {},
          "output_type": "display_data"
        }
      ],
      "source": [
        "# Plot a scatterplot of solubility values against other features\n",
        "sns.pairplot(df, x_vars=['MolWt','MolLogP', 'NumHDonors', 'NumAromaticRings', 'NumRotatableBonds'], y_vars='Solubility')\n",
        "plt.show()"
      ]
    },
    {
      "cell_type": "code",
      "execution_count": 9,
      "metadata": {
        "id": "h9MnPF0Wrl1e",
        "colab": {
          "base_uri": "https://localhost:8080/",
          "height": 197
        },
        "outputId": "20c40358-e8a6-47a4-b33f-b097cf761682"
      },
      "outputs": [
        {
          "output_type": "display_data",
          "data": {
            "text/plain": [
              "<Figure size 900x180 with 5 Axes>"
            ],
            "image/png": "[encoded data removed]"
          },
          "metadata": {
            "needs_background": "light"
          }
        }
      ],
      "source": [
        "# Plot a scatterplot of solubility values against other features\n",
        "sns.pairplot(df, x_vars=['MolWt','MolLogP', 'NumHDonors', 'NumAromaticRings', 'NumRotatableBonds'], y_vars='isSoluble')\n",
        "plt.show()"
      ]
    },
    {
      "cell_type": "markdown",
      "metadata": {
        "id": "MzVbIVVb9pJB"
      },
      "source": [
        "## 2. Data Preprocessing- Feature extraction and splitting the datasets"
      ]
    },
    {
      "cell_type": "markdown",
      "source": [
        "Molecular Fingerprinting- ECFP"
      ],
      "metadata": {
        "id": "xnsU50-Qjo3N"
      }
    },
    {
      "cell_type": "code",
      "execution_count": 10,
      "metadata": {
        "id": "tb4t8kVs91GI"
      },
      "outputs": [],
      "source": [
        "# Convert SMILES strings to ECFP fingerprints\n",
        "def get_fingerprints(smiles):\n",
        "    m = Chem.MolFromSmiles(smiles)\n",
        "    fp = AllChem.GetMorganFingerprintAsBitVect(m, 2, nBits=1024)\n",
        "    arr = np.zeros((1,1024), dtype=np.float32)\n",
        "    DataStructs.ConvertToNumpyArray(fp, arr)\n",
        "    return arr"
      ]
    },
    {
      "cell_type": "code",
      "execution_count": 11,
      "metadata": {
        "id": "bfdevnXUrs3_"
      },
      "outputs": [],
      "source": [
        "X = df[\"SMILES\"]\n",
        "y=np.array(df[\"isSoluble\"])"
      ]
    },
    {
      "cell_type": "markdown",
      "source": [],
      "metadata": {
        "id": "wn9HWpOwjtaS"
      }
    },
    {
      "cell_type": "code",
      "execution_count": 12,
      "metadata": {
        "id": "ZoKX_YFEAMf1"
      },
      "outputs": [],
      "source": [
        "#Get ECFP Fingerprints\n",
        "X1 = X.apply(get_fingerprints).apply(lambda x: np.array(x, dtype=np.float32))\n",
        "X1 = np.concatenate(X1.values)\n",
        "X1 = X1.reshape(-1, 1024)"
      ]
    },
    {
      "cell_type": "code",
      "execution_count": 13,
      "metadata": {
        "id": "RUKpPxjxBWcv"
      },
      "outputs": [],
      "source": [
        "from sklearn.model_selection import train_test_split\n",
        "\n",
        "# Split the data into train and test sets\n",
        "X_train, X_test, y_train, y_test = train_test_split(X1, y, test_size=0.2)\n",
        "\n",
        "# Split the train data into train and validation sets\n",
        "X_train, X_val, y_train, y_val = train_test_split(X_train, y_train, test_size=0.2)\n"
      ]
    },
    {
      "cell_type": "code",
      "execution_count": 14,
      "metadata": {
        "id": "IkqBtnE7DTyo"
      },
      "outputs": [],
      "source": [
        "# Convert your data into tensors\n",
        "X_train = torch.tensor(X_train, dtype=torch.float32)\n",
        "y_train = torch.tensor(y_train, dtype=torch.float32)\n",
        "X_val = torch.tensor(X_val, dtype=torch.float32)\n",
        "y_val = torch.tensor(y_val, dtype=torch.float32)\n",
        "X_test = torch.tensor(X_test, dtype=torch.float32)\n",
        "y_test = torch.tensor(y_test, dtype=torch.float32)\n",
        "\n",
        "# Wrap your data in TensorDataset\n",
        "train_dataset = TensorDataset(X_train, y_train)\n",
        "val_dataset = TensorDataset(X_val, y_val)\n",
        "test_dataset= TensorDataset(X_test, y_test)\n",
        "\n",
        "# Create the dataloaders\n",
        "batch_size = 128\n",
        "trainloader = DataLoader(train_dataset, batch_size=batch_size, shuffle=True)\n",
        "valloader = DataLoader(val_dataset, batch_size=batch_size, shuffle=False)\n",
        "testloader = DataLoader(test_dataset, batch_size=batch_size, shuffle=False)"
      ]
    },
    {
      "cell_type": "markdown",
      "metadata": {
        "id": "4tocfZx3DWwy"
      },
      "source": [
        "## 3. Training the Deep Neural Network "
      ]
    },
    {
      "cell_type": "code",
      "execution_count": 78,
      "metadata": {
        "id": "vj7a0gpmBYis"
      },
      "outputs": [],
      "source": [
        "# Define the DNN model\n",
        "class DNN(nn.Module):\n",
        "    def __init__(self):\n",
        "        super(DNN, self).__init__()\n",
        "        self.fc1 = nn.Linear(1024, 512)\n",
        "        self.fc2 = nn.Linear(512, 256)\n",
        "        self.fc3 = nn.Linear(256, 128)\n",
        "        self.fc4 = nn.Linear(128, 64)\n",
        "        self.fc5 = nn.Linear(64, 1) # Change the output layer to 2 classes\n",
        "    \n",
        "    def forward(self, x):\n",
        "        x = F.relu(self.fc1(x))\n",
        "        x = F.relu(self.fc2(x))\n",
        "        x = F.relu(self.fc3(x))\n",
        "        x = F.relu(self.fc4(x))\n",
        "        #x = F.softmax(self.fc5(x), dim=1) # Use softmax activation to get probabilities\n",
        "        x = F.sigmoid(self.fc5(x)) # Use softmax activation to get probabilities\n",
        "        return x\n"
      ]
    },
    {
      "cell_type": "code",
      "execution_count": 21,
      "metadata": {
        "id": "M4i2VSafr3Fu"
      },
      "outputs": [],
      "source": [
        "# Initialize the model, loss function, and optimizer\n",
        "model = DNN()\n",
        "criterion = nn.CrossEntropyLoss() # Use cross entropy loss for binary classification\n",
        "optimizer = torch.optim.Adam(model.parameters(), lr=0.01) # Use Adam optimizer\n"
      ]
    },
    {
      "cell_type": "code",
      "source": [
        "summary(model)"
      ],
      "metadata": {
        "colab": {
          "base_uri": "https://localhost:8080/"
        },
        "id": "L6aipxWKwLhY",
        "outputId": "b474ac9b-9d9c-40f1-c5c5-8a8f72fa0e8d"
      },
      "execution_count": 22,
      "outputs": [
        {
          "output_type": "execute_result",
          "data": {
            "text/plain": [
              "=================================================================\n",
              "Layer (type:depth-idx)                   Param #\n",
              "=================================================================\n",
              "DNN                                      --\n",
              "├─Linear: 1-1                            524,800\n",
              "├─Linear: 1-2                            131,328\n",
              "├─Linear: 1-3                            32,896\n",
              "├─Linear: 1-4                            8,256\n",
              "├─Linear: 1-5                            130\n",
              "=================================================================\n",
              "Total params: 697,410\n",
              "Trainable params: 697,410\n",
              "Non-trainable params: 0\n",
              "================================================================="
            ]
          },
          "metadata": {},
          "execution_count": 22
        }
      ]
    },
    {
      "cell_type": "code",
      "source": [
        "# Train the model and keep track of validation loss\n",
        "train_loss = []\n",
        "val_loss = []\n",
        "num_epochs = 100\n",
        "\n",
        "for epoch in range(num_epochs):\n",
        "    running_loss = 0.0\n",
        "    for i, data in enumerate(trainloader, 0):\n",
        "        inputs, labels = data\n",
        "        optimizer.zero_grad()\n",
        "        outputs = model(inputs)\n",
        "        loss = criterion(outputs, labels.long()) \n",
        "        loss.backward()\n",
        "        optimizer.step()\n",
        "        running_loss += loss.item()\n",
        "        \n",
        "    avg_train_loss = running_loss / len(trainloader)\n",
        "    train_loss.append(avg_train_loss)\n",
        "    \n",
        "    val_running_loss = 0.0\n",
        "    with torch.no_grad():\n",
        "        for i, data in enumerate(valloader, 0):\n",
        "            inputs, labels = data\n",
        "            outputs = model(inputs)\n",
        "            val_batch_loss = criterion(outputs, labels.long()) \n",
        "            val_running_loss += val_batch_loss.item()\n",
        "        \n",
        "    avg_val_loss = val_running_loss / len(valloader)\n",
        "    val_loss.append(avg_val_loss)\n"
      ],
      "metadata": {
        "id": "mCkrQmsEstEX"
      },
      "execution_count": 23,
      "outputs": []
    },
    {
      "cell_type": "code",
      "execution_count": 25,
      "metadata": {
        "colab": {
          "base_uri": "https://localhost:8080/",
          "height": 279
        },
        "id": "K-Oaj2pmD115",
        "outputId": "5e87f1c0-5a81-482d-960d-4fed3fe05592"
      },
      "outputs": [
        {
          "output_type": "display_data",
          "data": {
            "text/plain": [
              "<Figure size 432x288 with 1 Axes>"
            ],
            "image/png": "[encoded data removed]"
          },
          "metadata": {
            "needs_background": "light"
          }
        }
      ],
      "source": [
        "# Plot the training and validation loss\n",
        "plt.plot(range(num_epochs), train_loss, label='Training Loss')\n",
        "plt.plot(range(num_epochs), val_loss, label='Validation Loss')\n",
        "plt.xlabel('Epochs')\n",
        "plt.ylabel('Loss')\n",
        "plt.legend()\n",
        "plt.show()"
      ]
    },
    {
      "cell_type": "code",
      "source": [
        "# Test the model on the test data\n",
        "correct = 0\n",
        "total = 0\n",
        "predictions = []\n",
        "true_labels = []\n",
        "with torch.no_grad():\n",
        "    for i, data in enumerate(testloader, 0):\n",
        "        inputs, target = data\n",
        "        outputs = model(inputs)\n",
        "        _, predicted = torch.max(outputs.data, 1) # Get the class with the highest probability\n",
        "        total += target.size(0)\n",
        "        correct += (predicted == target.long()).sum().item() # Convert target to long and compare\n",
        "        predictions += predicted.tolist()\n",
        "        true_labels += target.tolist()\n"
      ],
      "metadata": {
        "id": "eFOR5i6PwhrX"
      },
      "execution_count": 43,
      "outputs": []
    },
    {
      "cell_type": "code",
      "source": [
        "accuracy = correct / total\n",
        "print('Accuracy of the network on the test data: %d %%' % (100 * accuracy))\n",
        "\n"
      ],
      "metadata": {
        "colab": {
          "base_uri": "https://localhost:8080/"
        },
        "id": "IH8wEYPR37er",
        "outputId": "26eb960e-77cd-4f39-e82e-64b470aefe54"
      },
      "execution_count": 44,
      "outputs": [
        {
          "output_type": "stream",
          "name": "stdout",
          "text": [
            "Accuracy of the network on the test data: 72 %\n"
          ]
        }
      ]
    },
    {
      "cell_type": "code",
      "source": [
        "# Plot confusion matrix\n",
        "cf_matrix= confusion_matrix(true_labels, predictions)\n",
        "group_names = ['True Neg','False Pos','False Neg','True Pos']\n",
        "group_counts = [\"{0:0.0f}\".format(value) for value in\n",
        "                cf_matrix.flatten()]\n",
        "group_percentages = [\"{0:.2%}\".format(value) for value in\n",
        "                     cf_matrix.flatten()/np.sum(cf_matrix)]\n",
        "labels = [f\"{v1}\\n{v2}\\n{v3}\" for v1, v2, v3 in\n",
        "          zip(group_names,group_counts,group_percentages)]\n",
        "labels = np.asarray(labels).reshape(2,2)\n",
        "sns.heatmap(cf_matrix, annot=labels, fmt='', cmap='Blues')\n",
        "\n"
      ],
      "metadata": {
        "colab": {
          "base_uri": "https://localhost:8080/",
          "height": 282
        },
        "id": "7YaPRbax3-tZ",
        "outputId": "c4652a5a-fcbb-42d9-8cb2-792c27857d3f"
      },
      "execution_count": 51,
      "outputs": [
        {
          "output_type": "execute_result",
          "data": {
            "text/plain": [
              "<matplotlib.axes._subplots.AxesSubplot at 0x7f41d49515b0>"
            ]
          },
          "metadata": {},
          "execution_count": 51
        },
        {
          "output_type": "display_data",
          "data": {
            "text/plain": [
              "<Figure size 432x288 with 2 Axes>"
            ],
            "image/png": "[encoded data removed]"
          },
          "metadata": {
            "needs_background": "light"
          }
        }
      ]
    },
    {
      "cell_type": "code",
      "source": [
        "\n",
        "# Plot ROC curve\n",
        "fpr, tpr, thresholds = roc_curve(true_labels, predictions)\n",
        "roc_auc = auc(fpr, tpr)\n",
        "plt.plot(fpr, tpr, label='ROC curve (area = %0.2f)' % roc_auc)\n",
        "plt.plot([0, 1], [0, 1], 'k--') # random predictions curve\n",
        "plt.xlim([0.0, 1.0])\n",
        "plt.ylim([0.0, 1.0])\n",
        "plt.xlabel('False Positive Rate or (1 - Specifity)')\n",
        "plt.ylabel('True Positive Rate or (Sensitivity)')\n",
        "plt.title('Receiver Operating Characteristic')\n",
        "plt.legend(loc=\"lower right\")\n",
        "plt.show()"
      ],
      "metadata": {
        "colab": {
          "base_uri": "https://localhost:8080/",
          "height": 295
        },
        "id": "itWZ4tFO4BUa",
        "outputId": "d48dcf40-294b-4e15-8c34-03995b939e05"
      },
      "execution_count": 54,
      "outputs": [
        {
          "output_type": "display_data",
          "data": {
            "text/plain": [
              "<Figure size 432x288 with 1 Axes>"
            ],
            "image/png": "[encoded data removed]"
          },
          "metadata": {
            "needs_background": "light"
          }
        }
      ]
    },
    {
      "cell_type": "code",
      "execution_count": null,
      "metadata": {
        "id": "bi0MZkJgbVAc"
      },
      "outputs": [],
      "source": [
        "torch.save(model.state_dict(), 'model_DNN_500Epochs.pt')"
      ]
    },
    {
      "cell_type": "code",
      "execution_count": 80,
      "metadata": {
        "id": "GGHh_VUXbbDv"
      },
      "outputs": [],
      "source": [
        "# Initialize the model, loss function, and optimizer\n",
        "model = DNN()\n",
        "criterion =nn.BCEWithLogitsLoss() # Use cross entropy loss for binary classification\n",
        "optimizer = torch.optim.Adam(model.parameters(), lr=0.01) # Use Adam optimizer\n"
      ]
    },
    {
      "cell_type": "code",
      "execution_count": 82,
      "metadata": {
        "id": "xpVd3dq5upDT",
        "colab": {
          "base_uri": "https://localhost:8080/",
          "height": 381
        },
        "outputId": "40ef98c3-fa21-4dd3-8e3f-dbb25c375a6a"
      },
      "outputs": [
        {
          "output_type": "error",
          "ename": "ValueError",
          "evalue": "ignored",
          "traceback": [
            "\u001b[0;31m---------------------------------------------------------------------------\u001b[0m",
            "\u001b[0;31mValueError\u001b[0m                                Traceback (most recent call last)",
            "\u001b[0;32m<ipython-input-82-3f4999fceaa1>\u001b[0m in \u001b[0;36m<module>\u001b[0;34m\u001b[0m\n\u001b[1;32m     10\u001b[0m         \u001b[0moptimizer\u001b[0m\u001b[0;34m.\u001b[0m\u001b[0mzero_grad\u001b[0m\u001b[0;34m(\u001b[0m\u001b[0;34m)\u001b[0m\u001b[0;34m\u001b[0m\u001b[0;34m\u001b[0m\u001b[0m\n\u001b[1;32m     11\u001b[0m         \u001b[0moutputs\u001b[0m \u001b[0;34m=\u001b[0m \u001b[0mmodel\u001b[0m\u001b[0;34m(\u001b[0m\u001b[0minputs\u001b[0m\u001b[0;34m)\u001b[0m\u001b[0;34m\u001b[0m\u001b[0;34m\u001b[0m\u001b[0m\n\u001b[0;32m---> 12\u001b[0;31m         \u001b[0mloss\u001b[0m \u001b[0;34m=\u001b[0m \u001b[0mcriterion\u001b[0m\u001b[0;34m(\u001b[0m\u001b[0moutputs\u001b[0m\u001b[0;34m,\u001b[0m \u001b[0mlabels\u001b[0m\u001b[0;34m)\u001b[0m\u001b[0;34m\u001b[0m\u001b[0;34m\u001b[0m\u001b[0m\n\u001b[0m\u001b[1;32m     13\u001b[0m         \u001b[0mloss\u001b[0m\u001b[0;34m.\u001b[0m\u001b[0mbackward\u001b[0m\u001b[0;34m(\u001b[0m\u001b[0;34m)\u001b[0m\u001b[0;34m\u001b[0m\u001b[0;34m\u001b[0m\u001b[0m\n\u001b[1;32m     14\u001b[0m         \u001b[0moptimizer\u001b[0m\u001b[0;34m.\u001b[0m\u001b[0mstep\u001b[0m\u001b[0;34m(\u001b[0m\u001b[0;34m)\u001b[0m\u001b[0;34m\u001b[0m\u001b[0;34m\u001b[0m\u001b[0m\n",
            "\u001b[0;32m/usr/local/lib/python3.8/dist-packages/torch/nn/modules/module.py\u001b[0m in \u001b[0;36m_call_impl\u001b[0;34m(self, *input, **kwargs)\u001b[0m\n\u001b[1;32m   1192\u001b[0m         if not (self._backward_hooks or self._forward_hooks or self._forward_pre_hooks or _global_backward_hooks\n\u001b[1;32m   1193\u001b[0m                 or _global_forward_hooks or _global_forward_pre_hooks):\n\u001b[0;32m-> 1194\u001b[0;31m             \u001b[0;32mreturn\u001b[0m \u001b[0mforward_call\u001b[0m\u001b[0;34m(\u001b[0m\u001b[0;34m*\u001b[0m\u001b[0minput\u001b[0m\u001b[0;34m,\u001b[0m \u001b[0;34m**\u001b[0m\u001b[0mkwargs\u001b[0m\u001b[0;34m)\u001b[0m\u001b[0;34m\u001b[0m\u001b[0;34m\u001b[0m\u001b[0m\n\u001b[0m\u001b[1;32m   1195\u001b[0m         \u001b[0;31m# Do not call functions when jit is used\u001b[0m\u001b[0;34m\u001b[0m\u001b[0;34m\u001b[0m\u001b[0;34m\u001b[0m\u001b[0m\n\u001b[1;32m   1196\u001b[0m         \u001b[0mfull_backward_hooks\u001b[0m\u001b[0;34m,\u001b[0m \u001b[0mnon_full_backward_hooks\u001b[0m \u001b[0;34m=\u001b[0m \u001b[0;34m[\u001b[0m\u001b[0;34m]\u001b[0m\u001b[0;34m,\u001b[0m \u001b[0;34m[\u001b[0m\u001b[0;34m]\u001b[0m\u001b[0;34m\u001b[0m\u001b[0;34m\u001b[0m\u001b[0m\n",
            "\u001b[0;32m/usr/local/lib/python3.8/dist-packages/torch/nn/modules/loss.py\u001b[0m in \u001b[0;36mforward\u001b[0;34m(self, input, target)\u001b[0m\n\u001b[1;32m    718\u001b[0m \u001b[0;34m\u001b[0m\u001b[0m\n\u001b[1;32m    719\u001b[0m     \u001b[0;32mdef\u001b[0m \u001b[0mforward\u001b[0m\u001b[0;34m(\u001b[0m\u001b[0mself\u001b[0m\u001b[0;34m,\u001b[0m \u001b[0minput\u001b[0m\u001b[0;34m:\u001b[0m \u001b[0mTensor\u001b[0m\u001b[0;34m,\u001b[0m \u001b[0mtarget\u001b[0m\u001b[0;34m:\u001b[0m \u001b[0mTensor\u001b[0m\u001b[0;34m)\u001b[0m \u001b[0;34m->\u001b[0m \u001b[0mTensor\u001b[0m\u001b[0;34m:\u001b[0m\u001b[0;34m\u001b[0m\u001b[0;34m\u001b[0m\u001b[0m\n\u001b[0;32m--> 720\u001b[0;31m         return F.binary_cross_entropy_with_logits(input, target,\n\u001b[0m\u001b[1;32m    721\u001b[0m                                                   \u001b[0mself\u001b[0m\u001b[0;34m.\u001b[0m\u001b[0mweight\u001b[0m\u001b[0;34m,\u001b[0m\u001b[0;34m\u001b[0m\u001b[0;34m\u001b[0m\u001b[0m\n\u001b[1;32m    722\u001b[0m                                                   \u001b[0mpos_weight\u001b[0m\u001b[0;34m=\u001b[0m\u001b[0mself\u001b[0m\u001b[0;34m.\u001b[0m\u001b[0mpos_weight\u001b[0m\u001b[0;34m,\u001b[0m\u001b[0;34m\u001b[0m\u001b[0;34m\u001b[0m\u001b[0m\n",
            "\u001b[0;32m/usr/local/lib/python3.8/dist-packages/torch/nn/functional.py\u001b[0m in \u001b[0;36mbinary_cross_entropy_with_logits\u001b[0;34m(input, target, weight, size_average, reduce, reduction, pos_weight)\u001b[0m\n\u001b[1;32m   3158\u001b[0m \u001b[0;34m\u001b[0m\u001b[0m\n\u001b[1;32m   3159\u001b[0m     \u001b[0;32mif\u001b[0m \u001b[0;32mnot\u001b[0m \u001b[0;34m(\u001b[0m\u001b[0mtarget\u001b[0m\u001b[0;34m.\u001b[0m\u001b[0msize\u001b[0m\u001b[0;34m(\u001b[0m\u001b[0;34m)\u001b[0m \u001b[0;34m==\u001b[0m \u001b[0minput\u001b[0m\u001b[0;34m.\u001b[0m\u001b[0msize\u001b[0m\u001b[0;34m(\u001b[0m\u001b[0;34m)\u001b[0m\u001b[0;34m)\u001b[0m\u001b[0;34m:\u001b[0m\u001b[0;34m\u001b[0m\u001b[0;34m\u001b[0m\u001b[0m\n\u001b[0;32m-> 3160\u001b[0;31m         \u001b[0;32mraise\u001b[0m \u001b[0mValueError\u001b[0m\u001b[0;34m(\u001b[0m\u001b[0;34m\"Target size ({}) must be the same as input size ({})\"\u001b[0m\u001b[0;34m.\u001b[0m\u001b[0mformat\u001b[0m\u001b[0;34m(\u001b[0m\u001b[0mtarget\u001b[0m\u001b[0;34m.\u001b[0m\u001b[0msize\u001b[0m\u001b[0;34m(\u001b[0m\u001b[0;34m)\u001b[0m\u001b[0;34m,\u001b[0m \u001b[0minput\u001b[0m\u001b[0;34m.\u001b[0m\u001b[0msize\u001b[0m\u001b[0;34m(\u001b[0m\u001b[0;34m)\u001b[0m\u001b[0;34m)\u001b[0m\u001b[0;34m)\u001b[0m\u001b[0;34m\u001b[0m\u001b[0;34m\u001b[0m\u001b[0m\n\u001b[0m\u001b[1;32m   3161\u001b[0m \u001b[0;34m\u001b[0m\u001b[0m\n\u001b[1;32m   3162\u001b[0m     \u001b[0;32mreturn\u001b[0m \u001b[0mtorch\u001b[0m\u001b[0;34m.\u001b[0m\u001b[0mbinary_cross_entropy_with_logits\u001b[0m\u001b[0;34m(\u001b[0m\u001b[0minput\u001b[0m\u001b[0;34m,\u001b[0m \u001b[0mtarget\u001b[0m\u001b[0;34m,\u001b[0m \u001b[0mweight\u001b[0m\u001b[0;34m,\u001b[0m \u001b[0mpos_weight\u001b[0m\u001b[0;34m,\u001b[0m \u001b[0mreduction_enum\u001b[0m\u001b[0;34m)\u001b[0m\u001b[0;34m\u001b[0m\u001b[0;34m\u001b[0m\u001b[0m\n",
            "\u001b[0;31mValueError\u001b[0m: Target size (torch.Size([128])) must be the same as input size (torch.Size([128, 1]))"
          ]
        }
      ],
      "source": [
        "# Train the model and keep track of validation loss\n",
        "train_loss = []\n",
        "val_loss = []\n",
        "num_epochs = 100\n",
        "\n",
        "for epoch in range(num_epochs):\n",
        "    running_loss = 0.0\n",
        "    for i, data in enumerate(trainloader, 0):\n",
        "        inputs, labels = data\n",
        "        optimizer.zero_grad()\n",
        "        outputs = model(inputs)\n",
        "        loss = criterion(outputs, labels) \n",
        "        loss.backward()\n",
        "        optimizer.step()\n",
        "        running_loss += loss.item()\n",
        "        \n",
        "    avg_train_loss = running_loss / len(trainloader)\n",
        "    train_loss.append(avg_train_loss)\n",
        "    \n",
        "    val_running_loss = 0.0\n",
        "    with torch.no_grad():\n",
        "        for i, data in enumerate(valloader, 0):\n",
        "            inputs, labels = data\n",
        "            outputs = model(inputs)\n",
        "            val_batch_loss = criterion(outputs, labels.long()) \n",
        "            val_running_loss += val_batch_loss.item()\n",
        "        \n",
        "    avg_val_loss = val_running_loss / len(valloader)\n",
        "    val_loss.append(avg_val_loss)\n",
        "    print(\"Epoch {}: Training loss: {:.4f}, Validation loss: {:.4f}\".format(epoch + 1, avg_train_loss, avg_val_loss))\n",
        "\n"
      ]
    },
    {
      "cell_type": "code",
      "source": [
        "# Plot the training and validation loss\n",
        "plt.plot(range(num_epochs), train_loss, label='Training Loss')\n",
        "plt.plot(range(num_epochs), val_loss, label='Validation Loss')\n",
        "plt.xlabel('Epochs')\n",
        "plt.ylabel('Loss')\n",
        "plt.legend()\n",
        "plt.show()"
      ],
      "metadata": {
        "id": "VmBA2ByU9Xkr"
      },
      "execution_count": null,
      "outputs": []
    },
    {
      "cell_type": "code",
      "execution_count": 75,
      "metadata": {
        "id": "ai74Mpf1uPhn"
      },
      "outputs": [],
      "source": [
        "# Test the model on the test data\n",
        "correct = 0\n",
        "total = 0\n",
        "predictions = []\n",
        "true_labels = []\n",
        "with torch.no_grad():\n",
        "    for i, data in enumerate(testloader, 0):\n",
        "        inputs, target = data\n",
        "        outputs = model(inputs)\n",
        "        _, predicted = torch.max(outputs.data, 1) # Get the class with the highest probability\n",
        "        total += target.size(0)\n",
        "        correct += (predicted == target.long()).sum().item() # Convert target to long and compare\n",
        "        predictions += predicted.tolist()\n",
        "        true_labels += target.tolist()"
      ]
    },
    {
      "cell_type": "code",
      "source": [
        "accuracy = correct / total\n",
        "print('Accuracy of the network on the test data: %d %%' % (100 * accuracy))"
      ],
      "metadata": {
        "colab": {
          "base_uri": "https://localhost:8080/"
        },
        "id": "gf9Y3AlS-UQZ",
        "outputId": "8d1444b5-9437-4e23-b832-8f5b18bfbfba"
      },
      "execution_count": 76,
      "outputs": [
        {
          "output_type": "stream",
          "name": "stdout",
          "text": [
            "Accuracy of the network on the test data: 32 %\n"
          ]
        }
      ]
    },
    {
      "cell_type": "code",
      "source": [],
      "metadata": {
        "id": "e0uZpqPx9Y0u"
      },
      "execution_count": null,
      "outputs": []
    },
    {
      "cell_type": "markdown",
      "metadata": {
        "id": "0cQ87H_7cV9p"
      },
      "source": [
        "### 3.1. Convolutional Neural Networks"
      ]
    },
    {
      "cell_type": "code",
      "execution_count": 90,
      "metadata": {
        "id": "vrYS2bQQcgIK"
      },
      "outputs": [],
      "source": [
        "import torch\n",
        "import torch.nn as nn\n",
        "import torch.nn.functional as F\n",
        "\n",
        "# Define the 1D CNN model\n",
        "class CNN1D(nn.Module):\n",
        "    def __init__(self):\n",
        "        super(CNN1D, self).__init__()\n",
        "        self.conv1 = nn.Conv1d(in_channels=1, out_channels=16, kernel_size=3, stride=1, padding=1)\n",
        "        self.pool1 = nn.MaxPool1d(kernel_size=2, stride=2)\n",
        "        self.conv2 = nn.Conv1d(in_channels=16, out_channels=32, kernel_size=3, stride=1, padding=1)\n",
        "        self.pool2 = nn.MaxPool1d(kernel_size=2, stride=2)\n",
        "        self.fc1 = nn.Linear(32 * 256, 128)\n",
        "        self.fc2 = nn.Linear(128, 2)\n",
        "        self.softmax = nn.Softmax()\n",
        "    \n",
        "    def forward(self, x):\n",
        "        x = x.reshape(-1, 1, 1024)\n",
        "        x = self.pool1(F.relu(self.conv1(x)))\n",
        "        x = self.pool2(F.relu(self.conv2(x)))\n",
        "        x = x.reshape(-1, 32 * 256)\n",
        "        x = F.relu(self.fc1(x))\n",
        "        x = self.fc2(x)\n",
        "        x = self.softmax(x)\n",
        "        return x\n"
      ]
    },
    {
      "cell_type": "code",
      "execution_count": 91,
      "metadata": {
        "id": "zvKYFLNjcgiR"
      },
      "outputs": [],
      "source": [
        "# Initialize the model, loss function, and optimizer\n",
        "model_cnn = CNN1D()\n",
        "criterion = nn.CrossEntropyLoss()\n",
        "optimizer = optim.Adam(model_cnn.parameters(), lr=0.01)"
      ]
    },
    {
      "cell_type": "code",
      "execution_count": 92,
      "metadata": {
        "colab": {
          "base_uri": "https://localhost:8080/"
        },
        "id": "XEyYsKHGcp_L",
        "outputId": "eb3f4909-953e-42bb-a7f0-f3bea76340af"
      },
      "outputs": [
        {
          "output_type": "execute_result",
          "data": {
            "text/plain": [
              "=================================================================\n",
              "Layer (type:depth-idx)                   Param #\n",
              "=================================================================\n",
              "CNN1D                                    --\n",
              "├─Conv1d: 1-1                            64\n",
              "├─MaxPool1d: 1-2                         --\n",
              "├─Conv1d: 1-3                            1,568\n",
              "├─MaxPool1d: 1-4                         --\n",
              "├─Linear: 1-5                            1,048,704\n",
              "├─Linear: 1-6                            258\n",
              "├─Softmax: 1-7                           --\n",
              "=================================================================\n",
              "Total params: 1,050,594\n",
              "Trainable params: 1,050,594\n",
              "Non-trainable params: 0\n",
              "================================================================="
            ]
          },
          "metadata": {},
          "execution_count": 92
        }
      ],
      "source": [
        "summary(model_cnn)"
      ]
    },
    {
      "cell_type": "code",
      "execution_count": 95,
      "metadata": {
        "colab": {
          "base_uri": "https://localhost:8080/"
        },
        "id": "3Fp9iXSJcuaP",
        "outputId": "0dbc743f-3f8a-48cf-dede-cae873be323f"
      },
      "outputs": [
        {
          "output_type": "stream",
          "name": "stderr",
          "text": [
            "<ipython-input-90-0b977caa2d77>:24: UserWarning: Implicit dimension choice for softmax has been deprecated. Change the call to include dim=X as an argument.\n",
            "  x = self.softmax(x)\n"
          ]
        },
        {
          "output_type": "stream",
          "name": "stdout",
          "text": [
            "Epoch 1: Training loss: 0.6469, Validation loss: 0.6301\n",
            "Epoch 2: Training loss: 0.6446, Validation loss: 0.6301\n",
            "Epoch 3: Training loss: 0.6446, Validation loss: 0.6301\n",
            "Epoch 4: Training loss: 0.6445, Validation loss: 0.6301\n",
            "Epoch 5: Training loss: 0.6445, Validation loss: 0.6301\n",
            "Epoch 6: Training loss: 0.6445, Validation loss: 0.6301\n",
            "Epoch 7: Training loss: 0.6445, Validation loss: 0.6301\n",
            "Epoch 8: Training loss: 0.6445, Validation loss: 0.6301\n",
            "Epoch 9: Training loss: 0.6445, Validation loss: 0.6301\n",
            "Epoch 10: Training loss: 0.6445, Validation loss: 0.6301\n",
            "Epoch 11: Training loss: 0.6445, Validation loss: 0.6301\n",
            "Epoch 12: Training loss: 0.6443, Validation loss: 0.6301\n",
            "Epoch 13: Training loss: 0.6444, Validation loss: 0.6301\n",
            "Epoch 14: Training loss: 0.6446, Validation loss: 0.6301\n",
            "Epoch 15: Training loss: 0.6445, Validation loss: 0.6301\n",
            "Epoch 16: Training loss: 0.6444, Validation loss: 0.6301\n",
            "Epoch 17: Training loss: 0.6447, Validation loss: 0.6301\n",
            "Epoch 18: Training loss: 0.6446, Validation loss: 0.6301\n",
            "Epoch 19: Training loss: 0.6445, Validation loss: 0.6301\n",
            "Epoch 20: Training loss: 0.6445, Validation loss: 0.6301\n",
            "Epoch 21: Training loss: 0.6444, Validation loss: 0.6301\n",
            "Epoch 22: Training loss: 0.6444, Validation loss: 0.6301\n",
            "Epoch 23: Training loss: 0.6444, Validation loss: 0.6301\n",
            "Epoch 24: Training loss: 0.6445, Validation loss: 0.6301\n",
            "Epoch 25: Training loss: 0.6445, Validation loss: 0.6301\n",
            "Epoch 26: Training loss: 0.6446, Validation loss: 0.6301\n",
            "Epoch 27: Training loss: 0.6446, Validation loss: 0.6301\n",
            "Epoch 28: Training loss: 0.6445, Validation loss: 0.6301\n",
            "Epoch 29: Training loss: 0.6445, Validation loss: 0.6301\n",
            "Epoch 30: Training loss: 0.6445, Validation loss: 0.6301\n",
            "Epoch 31: Training loss: 0.6445, Validation loss: 0.6301\n",
            "Epoch 32: Training loss: 0.6445, Validation loss: 0.6301\n",
            "Epoch 33: Training loss: 0.6445, Validation loss: 0.6301\n",
            "Epoch 34: Training loss: 0.6446, Validation loss: 0.6301\n",
            "Epoch 35: Training loss: 0.6444, Validation loss: 0.6301\n",
            "Epoch 36: Training loss: 0.6444, Validation loss: 0.6301\n",
            "Epoch 37: Training loss: 0.6445, Validation loss: 0.6301\n",
            "Epoch 38: Training loss: 0.6445, Validation loss: 0.6301\n",
            "Epoch 39: Training loss: 0.6447, Validation loss: 0.6301\n",
            "Epoch 40: Training loss: 0.6447, Validation loss: 0.6301\n",
            "Epoch 41: Training loss: 0.6445, Validation loss: 0.6301\n",
            "Epoch 42: Training loss: 0.6445, Validation loss: 0.6301\n",
            "Epoch 43: Training loss: 0.6444, Validation loss: 0.6301\n",
            "Epoch 44: Training loss: 0.6446, Validation loss: 0.6301\n",
            "Epoch 45: Training loss: 0.6445, Validation loss: 0.6301\n",
            "Epoch 46: Training loss: 0.6445, Validation loss: 0.6301\n",
            "Epoch 47: Training loss: 0.6444, Validation loss: 0.6301\n",
            "Epoch 48: Training loss: 0.6444, Validation loss: 0.6301\n",
            "Epoch 49: Training loss: 0.6444, Validation loss: 0.6301\n",
            "Epoch 50: Training loss: 0.6446, Validation loss: 0.6301\n"
          ]
        }
      ],
      "source": [
        "# Train the CNN model and keep track of validation loss\n",
        "train_loss1 = []\n",
        "val_loss1 = []\n",
        "num_epochs = 50\n",
        "\n",
        "for epoch in range(num_epochs):\n",
        "    running_loss = 0.0\n",
        "    for i, data in enumerate(trainloader, 0):\n",
        "        inputs, labels = data\n",
        "        optimizer.zero_grad()\n",
        "        outputs = model_cnn(inputs)\n",
        "        #labels = labels.reshape(-1, 1)\n",
        "        loss = criterion(outputs, labels.long())\n",
        "        loss.backward()\n",
        "        optimizer.step()\n",
        "        running_loss += loss.item()\n",
        "        \n",
        "    avg_train_loss = running_loss / len(trainloader)\n",
        "    train_loss1.append(avg_train_loss)\n",
        "    \n",
        "    val_running_loss = 0.0\n",
        "    with torch.no_grad():\n",
        "        for i, data in enumerate(valloader, 0):\n",
        "            inputs, labels = data\n",
        "            outputs = model_cnn(inputs)\n",
        "            #labels = labels.reshape(-1, 1)\n",
        "            val_batch_loss = criterion(outputs, labels.long())\n",
        "            val_running_loss += val_batch_loss.item()\n",
        "        \n",
        "    avg_val_loss = val_running_loss / len(valloader)\n",
        "    val_loss1.append(avg_val_loss)\n",
        "    print(\"Epoch {}: Training loss: {:.4f}, Validation loss: {:.4f}\".format(epoch + 1, avg_train_loss, avg_val_loss))\n",
        "    \n"
      ]
    },
    {
      "cell_type": "code",
      "execution_count": 96,
      "metadata": {
        "colab": {
          "base_uri": "https://localhost:8080/",
          "height": 281
        },
        "id": "7i-2mk-iedcU",
        "outputId": "93249532-670f-4324-9048-db56fb96da02"
      },
      "outputs": [
        {
          "output_type": "display_data",
          "data": {
            "text/plain": [
              "<Figure size 432x288 with 1 Axes>"
            ],
            "image/png": "[encoded data removed]"
          },
          "metadata": {
            "needs_background": "light"
          }
        }
      ],
      "source": [
        "# Plot the validation loss\n",
        "plt.plot(range(num_epochs), train_loss1, label='Training Loss')\n",
        "plt.plot(range(num_epochs), val_loss1, label='Validation Loss')\n",
        "plt.xlabel('Epochs')\n",
        "plt.ylabel('Loss')\n",
        "plt.legend()\n",
        "plt.show()"
      ]
    },
    {
      "cell_type": "code",
      "execution_count": 97,
      "metadata": {
        "id": "e4HCwF2vkE09",
        "colab": {
          "base_uri": "https://localhost:8080/"
        },
        "outputId": "5d4b7413-c184-45fd-a2c2-5a89e3c5b558"
      },
      "outputs": [
        {
          "output_type": "stream",
          "name": "stderr",
          "text": [
            "<ipython-input-90-0b977caa2d77>:24: UserWarning: Implicit dimension choice for softmax has been deprecated. Change the call to include dim=X as an argument.\n",
            "  x = self.softmax(x)\n"
          ]
        }
      ],
      "source": [
        "# Test the model on the test data\n",
        "correct = 0\n",
        "total = 0\n",
        "predictions = []\n",
        "true_labels = []\n",
        "with torch.no_grad():\n",
        "    for i, data in enumerate(testloader, 0):\n",
        "        inputs, target = data\n",
        "        outputs = model_cnn(inputs)\n",
        "        _, predicted = torch.max(outputs.data, 1) # Get the class with the highest probability\n",
        "        total += target.size(0)\n",
        "        correct += (predicted == target.long()).sum().item() # Convert target to long and compare\n",
        "        predictions += predicted.tolist()\n",
        "        true_labels += target.tolist()\n"
      ]
    },
    {
      "cell_type": "code",
      "source": [
        "accuracy = correct / total\n",
        "print('Accuracy of the network on the test data: %d %%' % (100 * accuracy))"
      ],
      "metadata": {
        "colab": {
          "base_uri": "https://localhost:8080/"
        },
        "id": "gaMGKBBbIOqL",
        "outputId": "19fb7c1d-4fda-4bd7-dbcb-ae6ad0b7c656"
      },
      "execution_count": 98,
      "outputs": [
        {
          "output_type": "stream",
          "name": "stdout",
          "text": [
            "Accuracy of the network on the test data: 67 %\n"
          ]
        }
      ]
    },
    {
      "cell_type": "code",
      "source": [
        "# Plot confusion matrix\n",
        "cf_matrix= confusion_matrix(true_labels, predictions)\n",
        "group_names = ['True Neg','False Pos','False Neg','True Pos']\n",
        "group_counts = [\"{0:0.0f}\".format(value) for value in\n",
        "                cf_matrix.flatten()]\n",
        "group_percentages = [\"{0:.2%}\".format(value) for value in\n",
        "                     cf_matrix.flatten()/np.sum(cf_matrix)]\n",
        "labels = [f\"{v1}\\n{v2}\\n{v3}\" for v1, v2, v3 in\n",
        "          zip(group_names,group_counts,group_percentages)]\n",
        "labels = np.asarray(labels).reshape(2,2)\n",
        "sns.heatmap(cf_matrix, annot=labels, fmt='', cmap='Blues')\n",
        "\n"
      ],
      "metadata": {
        "colab": {
          "base_uri": "https://localhost:8080/",
          "height": 282
        },
        "id": "BtC05cwuISrL",
        "outputId": "6837ac4d-bb19-4726-9d29-bd517e3c13a0"
      },
      "execution_count": 99,
      "outputs": [
        {
          "output_type": "execute_result",
          "data": {
            "text/plain": [
              "<matplotlib.axes._subplots.AxesSubplot at 0x7f41ccd59d90>"
            ]
          },
          "metadata": {},
          "execution_count": 99
        },
        {
          "output_type": "display_data",
          "data": {
            "text/plain": [
              "<Figure size 432x288 with 2 Axes>"
            ],
            "image/png": "[encoded data removed]"
          },
          "metadata": {
            "needs_background": "light"
          }
        }
      ]
    },
    {
      "cell_type": "code",
      "source": [],
      "metadata": {
        "id": "E-hJhbhoIa3Q"
      },
      "execution_count": null,
      "outputs": []
    }
  ],
  "metadata": {
    "colab": {
      "provenance": []
    },
    "kernelspec": {
      "display_name": "Python 3",
      "name": "python3"
    },
    "language_info": {
      "name": "python"
    },
    "accelerator": "GPU",
    "gpuClass": "standard"
  },
  "nbformat": 4,
  "nbformat_minor": 0
}
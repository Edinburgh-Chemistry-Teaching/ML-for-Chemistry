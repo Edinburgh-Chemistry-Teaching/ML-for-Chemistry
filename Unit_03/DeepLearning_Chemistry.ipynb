{
  "cells": [
    {
      "cell_type": "markdown",
      "metadata": {
        "id": "d06de947"
      },
      "source": [
        "# Deep Learning for Aqueous Solubility Prediction\n",
        "\n",
        "<a rel=\"license\" href=\"https://creativecommons.org/licenses/by/4.0/\"><img alt=\"Creative Commons Licence\" style=\"width=50\" src=\"https://licensebuttons.net/l/by/4.0/88x31.png\" title='This work is licensed under a Creative Commons Attribution 4.0 International License.' align=\"right\"/></a>\n",
        "\n",
        "**Authors**: \n",
        "- Dr Antonia Mey (antonia.mey@ed.ac.uk)\n",
        "- Rohan Gorantla (rohan.gorantla@ed.ac.uk)"
      ]
    },
    {
      "cell_type": "markdown",
      "metadata": {
        "id": "48f869de"
      },
      "source": [
        "**About aqueous solubility prediction task**:\n",
        "\n",
        "Water is a ubiquitous solvent in both chemistry and life, so it's not surprising that the solubility of compounds in water is crucial in various fields, such as drug discovery, paint and coatings, the environment, and energy storage. However, measuring and predicting the aqueous solubility of compounds is a challenging and ongoing problem in chemistry. To tackle this, various data-driven prediction models have been created to supplement traditional physics-based methods. Despite the many efforts made over the years, there are still difficulties in developing a solubility prediction model that is accurate enough for many practical applications."
      ]
    },
    {
      "cell_type": "markdown",
      "source": [
        "**Task:** Train a DL model to predict if the given molecule (SMILES) will be soluble in water or not.\n",
        "\n",
        "---\n",
        "\n"
      ],
      "metadata": {
        "id": "hDeyesyTOMuG"
      }
    },
    {
      "cell_type": "markdown",
      "metadata": {
        "id": "7j3pliMnCS3C"
      },
      "source": [
        "**Learning Objectives**:\n",
        "\n",
        "* To build and train deep neural networks for solubility prediction from SMILES data using Pytorch.\n",
        "* Preparing the data for trainig and testing the DL model.\n",
        "* Using RDKit to extract features from SMILES string.\n",
        "* Tuning the neural network parameters to improve the learning of the model for the given solubilitity prediction task.\n"
      ]
    },
    {
      "cell_type": "code",
      "execution_count": 1,
      "metadata": {
        "colab": {
          "base_uri": "https://localhost:8080/"
        },
        "id": "2pqiC0w9B4rg",
        "outputId": "e69db7ca-fbdf-4693-fc8c-d244eaea21ed"
      },
      "outputs": [
        {
          "output_type": "stream",
          "name": "stdout",
          "text": [
            "Looking in indexes: https://pypi.org/simple, https://us-python.pkg.dev/colab-wheels/public/simple/\n",
            "Collecting biopython\n",
            "  Downloading biopython-1.80-cp38-cp38-manylinux_2_17_x86_64.manylinux2014_x86_64.whl (3.1 MB)\n",
            "\u001b[2K     \u001b[90m━━━━━━━━━━━━━━━━━━━━━━━━━━━━━━━━━━━━━━━━\u001b[0m \u001b[32m3.1/3.1 MB\u001b[0m \u001b[31m53.2 MB/s\u001b[0m eta \u001b[36m0:00:00\u001b[0m\n",
            "\u001b[?25hRequirement already satisfied: numpy in /usr/local/lib/python3.8/dist-packages (from biopython) (1.21.6)\n",
            "Installing collected packages: biopython\n",
            "Successfully installed biopython-1.80\n",
            "Looking in indexes: https://pypi.org/simple, https://us-python.pkg.dev/colab-wheels/public/simple/\n",
            "Collecting rdkit-pypi==2022.3.5\n",
            "  Downloading rdkit_pypi-2022.3.5-cp38-cp38-manylinux_2_17_x86_64.manylinux2014_x86_64.whl (37.0 MB)\n",
            "\u001b[2K     \u001b[90m━━━━━━━━━━━━━━━━━━━━━━━━━━━━━━━━━━━━━━━━\u001b[0m \u001b[32m37.0/37.0 MB\u001b[0m \u001b[31m10.8 MB/s\u001b[0m eta \u001b[36m0:00:00\u001b[0m\n",
            "\u001b[?25hRequirement already satisfied: Pillow in /usr/local/lib/python3.8/dist-packages (from rdkit-pypi==2022.3.5) (7.1.2)\n",
            "Requirement already satisfied: numpy in /usr/local/lib/python3.8/dist-packages (from rdkit-pypi==2022.3.5) (1.21.6)\n",
            "Installing collected packages: rdkit-pypi\n",
            "Successfully installed rdkit-pypi-2022.3.5\n",
            "Looking in indexes: https://pypi.org/simple, https://us-python.pkg.dev/colab-wheels/public/simple/\n",
            "Collecting pysmiles\n",
            "  Downloading pysmiles-1.0.2-py2.py3-none-any.whl (22 kB)\n",
            "Collecting pbr\n",
            "  Downloading pbr-5.11.1-py2.py3-none-any.whl (112 kB)\n",
            "\u001b[2K     \u001b[90m━━━━━━━━━━━━━━━━━━━━━━━━━━━━━━━━━━━━━━━\u001b[0m \u001b[32m112.7/112.7 KB\u001b[0m \u001b[31m9.5 MB/s\u001b[0m eta \u001b[36m0:00:00\u001b[0m\n",
            "\u001b[?25hCollecting networkx~=2.0\n",
            "  Downloading networkx-2.8.8-py3-none-any.whl (2.0 MB)\n",
            "\u001b[2K     \u001b[90m━━━━━━━━━━━━━━━━━━━━━━━━━━━━━━━━━━━━━━━━\u001b[0m \u001b[32m2.0/2.0 MB\u001b[0m \u001b[31m70.2 MB/s\u001b[0m eta \u001b[36m0:00:00\u001b[0m\n",
            "\u001b[?25hInstalling collected packages: pbr, networkx, pysmiles\n",
            "  Attempting uninstall: networkx\n",
            "    Found existing installation: networkx 3.0\n",
            "    Uninstalling networkx-3.0:\n",
            "      Successfully uninstalled networkx-3.0\n",
            "Successfully installed networkx-2.8.8 pbr-5.11.1 pysmiles-1.0.2\n",
            "Looking in indexes: https://pypi.org/simple, https://us-python.pkg.dev/colab-wheels/public/simple/\n",
            "Collecting datamol\n",
            "  Downloading datamol-0.8.8.tar.gz (286 kB)\n",
            "\u001b[2K     \u001b[90m━━━━━━━━━━━━━━━━━━━━━━━━━━━━━━━━━━━━━━\u001b[0m \u001b[32m286.8/286.8 KB\u001b[0m \u001b[31m13.3 MB/s\u001b[0m eta \u001b[36m0:00:00\u001b[0m\n",
            "\u001b[?25h  Installing build dependencies ... \u001b[?25l\u001b[?25hdone\n",
            "  Getting requirements to build wheel ... \u001b[?25l\u001b[?25hdone\n",
            "  Preparing metadata (pyproject.toml) ... \u001b[?25l\u001b[?25hdone\n",
            "Collecting selfies\n",
            "  Downloading selfies-2.1.1-py3-none-any.whl (35 kB)\n",
            "Requirement already satisfied: pillow in /usr/local/lib/python3.8/dist-packages (from datamol) (7.1.2)\n",
            "Requirement already satisfied: matplotlib in /usr/local/lib/python3.8/dist-packages (from datamol) (3.2.2)\n",
            "Requirement already satisfied: appdirs in /usr/local/lib/python3.8/dist-packages (from datamol) (1.4.4)\n",
            "Requirement already satisfied: numpy in /usr/local/lib/python3.8/dist-packages (from datamol) (1.21.6)\n",
            "Requirement already satisfied: pandas in /usr/local/lib/python3.8/dist-packages (from datamol) (1.3.5)\n",
            "Requirement already satisfied: scikit-learn in /usr/local/lib/python3.8/dist-packages (from datamol) (1.0.2)\n",
            "Requirement already satisfied: joblib in /usr/local/lib/python3.8/dist-packages (from datamol) (1.2.0)\n",
            "Requirement already satisfied: fsspec>=2021.9 in /usr/local/lib/python3.8/dist-packages (from datamol) (2023.1.0)\n",
            "Requirement already satisfied: tqdm in /usr/local/lib/python3.8/dist-packages (from datamol) (4.64.1)\n",
            "Requirement already satisfied: packaging in /usr/local/lib/python3.8/dist-packages (from datamol) (23.0)\n",
            "Requirement already satisfied: scipy in /usr/local/lib/python3.8/dist-packages (from datamol) (1.7.3)\n",
            "Collecting loguru\n",
            "  Downloading loguru-0.6.0-py3-none-any.whl (58 kB)\n",
            "\u001b[2K     \u001b[90m━━━━━━━━━━━━━━━━━━━━━━━━━━━━━━━━━━━━━━━━\u001b[0m \u001b[32m58.3/58.3 KB\u001b[0m \u001b[31m6.7 MB/s\u001b[0m eta \u001b[36m0:00:00\u001b[0m\n",
            "\u001b[?25hRequirement already satisfied: cycler>=0.10 in /usr/local/lib/python3.8/dist-packages (from matplotlib->datamol) (0.11.0)\n",
            "Requirement already satisfied: python-dateutil>=2.1 in /usr/local/lib/python3.8/dist-packages (from matplotlib->datamol) (2.8.2)\n",
            "Requirement already satisfied: kiwisolver>=1.0.1 in /usr/local/lib/python3.8/dist-packages (from matplotlib->datamol) (1.4.4)\n",
            "Requirement already satisfied: pyparsing!=2.0.4,!=2.1.2,!=2.1.6,>=2.0.1 in /usr/local/lib/python3.8/dist-packages (from matplotlib->datamol) (3.0.9)\n",
            "Requirement already satisfied: pytz>=2017.3 in /usr/local/lib/python3.8/dist-packages (from pandas->datamol) (2022.7.1)\n",
            "Requirement already satisfied: threadpoolctl>=2.0.0 in /usr/local/lib/python3.8/dist-packages (from scikit-learn->datamol) (3.1.0)\n",
            "Requirement already satisfied: six>=1.5 in /usr/local/lib/python3.8/dist-packages (from python-dateutil>=2.1->matplotlib->datamol) (1.15.0)\n",
            "Building wheels for collected packages: datamol\n",
            "  Building wheel for datamol (pyproject.toml) ... \u001b[?25l\u001b[?25hdone\n",
            "  Created wheel for datamol: filename=datamol-0.8.8-py3-none-any.whl size=309279 sha256=cecd41f652e603a9580ef08abf98fc121e0b916237b0d84f95cabc8cc4d9e362\n",
            "  Stored in directory: /root/.cache/pip/wheels/24/05/12/743ae34c766339e9a45fe3e5c0b67d68d609ebebda4783a6d6\n",
            "Successfully built datamol\n",
            "Installing collected packages: selfies, loguru, datamol\n",
            "Successfully installed datamol-0.8.8 loguru-0.6.0 selfies-2.1.1\n",
            "Looking in indexes: https://pypi.org/simple, https://us-python.pkg.dev/colab-wheels/public/simple/\n",
            "Collecting deepchem\n",
            "  Downloading deepchem-2.7.1-py3-none-any.whl (693 kB)\n",
            "\u001b[2K     \u001b[90m━━━━━━━━━━━━━━━━━━━━━━━━━━━━━━━━━━━━━━\u001b[0m \u001b[32m693.2/693.2 KB\u001b[0m \u001b[31m41.9 MB/s\u001b[0m eta \u001b[36m0:00:00\u001b[0m\n",
            "\u001b[?25hRequirement already satisfied: pandas in /usr/local/lib/python3.8/dist-packages (from deepchem) (1.3.5)\n",
            "Requirement already satisfied: scipy<1.9 in /usr/local/lib/python3.8/dist-packages (from deepchem) (1.7.3)\n",
            "Collecting rdkit\n",
            "  Downloading rdkit-2022.9.4-cp38-cp38-manylinux_2_17_x86_64.manylinux2014_x86_64.whl (29.3 MB)\n",
            "\u001b[2K     \u001b[90m━━━━━━━━━━━━━━━━━━━━━━━━━━━━━━━━━━━━━━━━\u001b[0m \u001b[32m29.3/29.3 MB\u001b[0m \u001b[31m37.8 MB/s\u001b[0m eta \u001b[36m0:00:00\u001b[0m\n",
            "\u001b[?25hRequirement already satisfied: joblib in /usr/local/lib/python3.8/dist-packages (from deepchem) (1.2.0)\n",
            "Requirement already satisfied: numpy>=1.21 in /usr/local/lib/python3.8/dist-packages (from deepchem) (1.21.6)\n",
            "Requirement already satisfied: scikit-learn in /usr/local/lib/python3.8/dist-packages (from deepchem) (1.0.2)\n",
            "Requirement already satisfied: pytz>=2017.3 in /usr/local/lib/python3.8/dist-packages (from pandas->deepchem) (2022.7.1)\n",
            "Requirement already satisfied: python-dateutil>=2.7.3 in /usr/local/lib/python3.8/dist-packages (from pandas->deepchem) (2.8.2)\n",
            "Requirement already satisfied: Pillow in /usr/local/lib/python3.8/dist-packages (from rdkit->deepchem) (7.1.2)\n",
            "Requirement already satisfied: threadpoolctl>=2.0.0 in /usr/local/lib/python3.8/dist-packages (from scikit-learn->deepchem) (3.1.0)\n",
            "Requirement already satisfied: six>=1.5 in /usr/local/lib/python3.8/dist-packages (from python-dateutil>=2.7.3->pandas->deepchem) (1.15.0)\n",
            "Installing collected packages: rdkit, deepchem\n",
            "Successfully installed deepchem-2.7.1 rdkit-2022.9.4\n",
            "Looking in indexes: https://pypi.org/simple, https://us-python.pkg.dev/colab-wheels/public/simple/\n",
            "Collecting torchinfo\n",
            "  Downloading torchinfo-1.7.2-py3-none-any.whl (22 kB)\n",
            "Installing collected packages: torchinfo\n",
            "Successfully installed torchinfo-1.7.2\n"
          ]
        }
      ],
      "source": [
        "!pip install biopython\n",
        "#!pip install rdkit-pypi\n",
        "!pip install rdkit-pypi==2022.3.5\n",
        "!pip install pysmiles\n",
        "!pip install datamol\n",
        "!pip install deepchem\n",
        "!pip install torchinfo"
      ]
    },
    {
      "cell_type": "markdown",
      "metadata": {
        "id": "196868f4"
      },
      "source": [
        "To get started with this tutorial, let's importing some packages."
      ]
    },
    {
      "cell_type": "code",
      "execution_count": 2,
      "metadata": {
        "id": "pBy2P5AVFMiF",
        "colab": {
          "base_uri": "https://localhost:8080/"
        },
        "outputId": "8000465c-ad24-4d85-f720-aaf936e418f8"
      },
      "outputs": [
        {
          "output_type": "stream",
          "name": "stderr",
          "text": [
            "WARNING:deepchem.models.torch_models:Skipped loading modules with pytorch-geometric dependency, missing a dependency. No module named 'torch_geometric'\n",
            "WARNING:deepchem.models:Skipped loading modules with pytorch-geometric dependency, missing a dependency. cannot import name 'DMPNN' from 'deepchem.models.torch_models' (/usr/local/lib/python3.8/dist-packages/deepchem/models/torch_models/__init__.py)\n",
            "WARNING:deepchem.models:Skipped loading modules with pytorch-lightning dependency, missing a dependency. No module named 'pytorch_lightning'\n",
            "WARNING:deepchem.models:Skipped loading some Jax models, missing a dependency. No module named 'haiku'\n"
          ]
        }
      ],
      "source": [
        "import os, math\n",
        "import pandas as pd\n",
        "import numpy as np\n",
        "import deepchem as dc\n",
        "from sklearn.metrics import confusion_matrix, roc_curve,auc\n",
        "\n",
        "# RDKit\n",
        "import rdkit\n",
        "from rdkit import Chem\n",
        "from rdkit.Chem import Draw\n",
        "from rdkit.Chem import PandasTools\n",
        "from rdkit.Chem import rdMolDescriptors\n",
        "from rdkit.Chem.Draw import SimilarityMaps\n",
        "from rdkit.Chem import DataStructs,AllChem\n",
        "from rdkit.Chem import rdmolfiles\n",
        "\n",
        "\n",
        "# plotting\n",
        "import seaborn as sns\n",
        "import matplotlib.pyplot as plt\n",
        "\n",
        "#Torch\n",
        "import torch\n",
        "import torch.nn as nn\n",
        "import torch.optim as optim\n",
        "from torchinfo import summary\n",
        "import torchvision.transforms as transforms\n",
        "from   torch.utils.data import DataLoader, TensorDataset\n",
        "import torch.nn.functional as F"
      ]
    },
    {
      "cell_type": "markdown",
      "metadata": {
        "id": "UT_NLRlMCHEG"
      },
      "source": [
        "## 1. Introduction- Data Prepartion and Exploratory Data Anlaysis\n",
        "\n",
        "In this tutorial we will use the solubility prediciton data from AqSolDB dataset to train the DL models.\n",
        "\n",
        "**Data Source**: Sorkun, M.C., Khetan, A. & Er, S. AqSolDB, a curated reference set of aqueous solubility and 2D descriptors for a diverse set of compounds. Sci Data 6, 143 (2019). https://doi.org/10.1038/s41597-019-0151-1"
      ]
    },
    {
      "cell_type": "markdown",
      "source": [
        "Let's begin by loading the AqSolDB dataset from the csv file in the data folder."
      ],
      "metadata": {
        "id": "OPPcf8Z7LXgx"
      }
    },
    {
      "cell_type": "code",
      "execution_count": 3,
      "metadata": {
        "colab": {
          "base_uri": "https://localhost:8080/"
        },
        "id": "jIyZPXLeGaVP",
        "outputId": "674974e0-fd63-4a86-da57-2e7cd6e8bed5"
      },
      "outputs": [
        {
          "output_type": "stream",
          "name": "stdout",
          "text": [
            "Mounted at /content/drive\n"
          ]
        }
      ],
      "source": [
        "from google.colab import drive\n",
        "drive.mount('/content/drive')\n",
        "# Load the dataset into a dataframe\n",
        "file_path = '/content/drive/My Drive/SolubilityPrediction/solubility_dataset.csv'\n",
        "df = pd.read_csv(file_path)"
      ]
    },
    {
      "cell_type": "code",
      "execution_count": 4,
      "metadata": {
        "colab": {
          "base_uri": "https://localhost:8080/",
          "height": 661
        },
        "id": "l6Hl-DfmPUZ5",
        "outputId": "6ee66407-1db7-44b4-8553-2417b659fac3"
      },
      "outputs": [
        {
          "output_type": "execute_result",
          "data": {
            "text/plain": [
              "        ID                                               Name  \\\n",
              "0      A-3         N,N,N-trimethyloctadecan-1-aminium bromide   \n",
              "1      A-4                           Benzo[cd]indol-2(1H)-one   \n",
              "2      A-5                               4-chlorobenzaldehyde   \n",
              "3      A-8  zinc bis[2-hydroxy-3,5-bis(1-phenylethyl)benzo...   \n",
              "4      A-9  4-({4-[bis(oxiran-2-ylmethyl)amino]phenyl}meth...   \n",
              "...    ...                                                ...   \n",
              "9977  I-84                                         tetracaine   \n",
              "9978  I-85                                       tetracycline   \n",
              "9979  I-86                                             thymol   \n",
              "9980  I-93                                          verapamil   \n",
              "9981  I-94                                           warfarin   \n",
              "\n",
              "                                                  InChI  \\\n",
              "0     InChI=1S/C21H46N.BrH/c1-5-6-7-8-9-10-11-12-13-...   \n",
              "1     InChI=1S/C11H7NO/c13-11-8-5-1-3-7-4-2-6-9(12-1...   \n",
              "2           InChI=1S/C7H5ClO/c8-7-3-1-6(5-9)2-4-7/h1-5H   \n",
              "3     InChI=1S/2C23H22O3.Zn/c2*1-15(17-9-5-3-6-10-17...   \n",
              "4     InChI=1S/C25H30N2O4/c1-5-20(26(10-22-14-28-22)...   \n",
              "...                                                 ...   \n",
              "9977  InChI=1S/C15H24N2O2/c1-4-5-10-16-14-8-6-13(7-9...   \n",
              "9978  InChI=1S/C22H24N2O8/c1-21(31)8-5-4-6-11(25)12(...   \n",
              "9979  InChI=1S/C10H14O/c1-7(2)9-5-4-8(3)6-10(9)11/h4...   \n",
              "9980  InChI=1S/C27H38N2O4/c1-20(2)27(19-28,22-10-12-...   \n",
              "9981  InChI=1S/C19H16O4/c1-12(20)11-15(13-7-3-2-4-8-...   \n",
              "\n",
              "                         InChIKey  \\\n",
              "0     SZEMGTQCPRNXEG-UHFFFAOYSA-M   \n",
              "1     GPYLCFQEKPUWLD-UHFFFAOYSA-N   \n",
              "2     AVPYQKSLYISFPO-UHFFFAOYSA-N   \n",
              "3     XTUPUYCJWKHGSW-UHFFFAOYSA-L   \n",
              "4     FAUAZXVRLVIARB-UHFFFAOYSA-N   \n",
              "...                           ...   \n",
              "9977  GKCBAIGFKIBETG-UHFFFAOYSA-N   \n",
              "9978  OFVLGDICTFRJMM-WESIUVDSSA-N   \n",
              "9979  MGSRCZKZVOBKFT-UHFFFAOYSA-N   \n",
              "9980  SGTNSNPWRIOYBX-UHFFFAOYSA-N   \n",
              "9981  PJVWKTKQMONHTI-UHFFFAOYSA-N   \n",
              "\n",
              "                                                 SMILES  Solubility        SD  \\\n",
              "0                   [Br-].CCCCCCCCCCCCCCCCCC[N+](C)(C)C   -3.616127  0.000000   \n",
              "1                                  O=C1Nc2cccc3cccc1c23   -3.254767  0.000000   \n",
              "2                                       Clc1ccc(C=O)cc1   -2.177078  0.000000   \n",
              "3     [Zn++].CC(c1ccccc1)c2cc(C(C)c3ccccc3)c(O)c(c2)...   -3.924409  0.000000   \n",
              "4     C1OC1CN(CC2CO2)c3ccc(Cc4ccc(cc4)N(CC5CO5)CC6CO...   -4.662065  0.000000   \n",
              "...                                                 ...         ...       ...   \n",
              "9977                     C(c1ccc(cc1)NCCCC)(=O)OCCN(C)C   -3.010000  0.000000   \n",
              "9978  OC1=C(C(C2=C(O)[C@@](C(C(C(N)=O)=C(O)[C@H]3N(C...   -2.930000  0.000000   \n",
              "9979                                c1(cc(ccc1C(C)C)C)O   -2.190000  0.019222   \n",
              "9980  COc1ccc(CCN(C)CCCC(C#N)(C(C)C)c2ccc(OC)c(OC)c2...   -3.980000  0.000000   \n",
              "9981              CC(=O)CC(c1ccccc1)c1c(O)c2ccccc2oc1=O   -4.780000  0.450506   \n",
              "\n",
              "      Ocurrences Group    MolWt  ...  NumRotatableBonds  NumValenceElectrons  \\\n",
              "0              1    G1  392.510  ...               17.0                142.0   \n",
              "1              1    G1  169.183  ...                0.0                 62.0   \n",
              "2              1    G1  140.569  ...                1.0                 46.0   \n",
              "3              1    G1  756.226  ...               10.0                264.0   \n",
              "4              1    G1  422.525  ...               12.0                164.0   \n",
              "...          ...   ...      ...  ...                ...                  ...   \n",
              "9977           1    G1  264.369  ...                8.0                106.0   \n",
              "9978           1    G1  444.440  ...                2.0                170.0   \n",
              "9979           3    G5  150.221  ...                1.0                 60.0   \n",
              "9980           1    G1  454.611  ...               13.0                180.0   \n",
              "9981           3    G5  308.333  ...                4.0                116.0   \n",
              "\n",
              "      NumAromaticRings  NumSaturatedRings  NumAliphaticRings  RingCount  \\\n",
              "0                  0.0                0.0                0.0        0.0   \n",
              "1                  2.0                0.0                1.0        3.0   \n",
              "2                  1.0                0.0                0.0        1.0   \n",
              "3                  6.0                0.0                0.0        6.0   \n",
              "4                  2.0                4.0                4.0        6.0   \n",
              "...                ...                ...                ...        ...   \n",
              "9977               1.0                0.0                0.0        1.0   \n",
              "9978               1.0                0.0                3.0        4.0   \n",
              "9979               1.0                0.0                0.0        1.0   \n",
              "9980               2.0                0.0                0.0        2.0   \n",
              "9981               3.0                0.0                0.0        3.0   \n",
              "\n",
              "        TPSA   LabuteASA      BalabanJ      BertzCT  \n",
              "0       0.00  158.520601  0.000000e+00   210.377334  \n",
              "1      29.10   75.183563  2.582996e+00   511.229248  \n",
              "2      17.07   58.261134  3.009782e+00   202.661065  \n",
              "3     120.72  323.755434  2.322963e-07  1964.648666  \n",
              "4      56.60  183.183268  1.084427e+00   769.899934  \n",
              "...      ...         ...           ...          ...  \n",
              "9977   41.57  115.300645  2.394548e+00   374.236893  \n",
              "9978  181.62  182.429237  2.047922e+00  1148.584975  \n",
              "9979   20.23   67.685405  3.092720e+00   251.049732  \n",
              "9980   63.95  198.569223  2.023333e+00   938.203977  \n",
              "9981   67.51  132.552025  2.258072e+00   909.550973  \n",
              "\n",
              "[9982 rows x 26 columns]"
            ],
            "text/html": [
              "\n",
              "  <div id=\"df-7e7cc24a-9725-4be3-9174-95f3258d479c\">\n",
              "    <div class=\"colab-df-container\">\n",
              "      <div>\n",
              "<style scoped>\n",
              "    .dataframe tbody tr th:only-of-type {\n",
              "        vertical-align: middle;\n",
              "    }\n",
              "\n",
              "    .dataframe tbody tr th {\n",
              "        vertical-align: top;\n",
              "    }\n",
              "\n",
              "    .dataframe thead th {\n",
              "        text-align: right;\n",
              "    }\n",
              "</style>\n",
              "<table border=\"1\" class=\"dataframe\">\n",
              "  <thead>\n",
              "    <tr style=\"text-align: right;\">\n",
              "      <th></th>\n",
              "      <th>ID</th>\n",
              "      <th>Name</th>\n",
              "      <th>InChI</th>\n",
              "      <th>InChIKey</th>\n",
              "      <th>SMILES</th>\n",
              "      <th>Solubility</th>\n",
              "      <th>SD</th>\n",
              "      <th>Ocurrences</th>\n",
              "      <th>Group</th>\n",
              "      <th>MolWt</th>\n",
              "      <th>...</th>\n",
              "      <th>NumRotatableBonds</th>\n",
              "      <th>NumValenceElectrons</th>\n",
              "      <th>NumAromaticRings</th>\n",
              "      <th>NumSaturatedRings</th>\n",
              "      <th>NumAliphaticRings</th>\n",
              "      <th>RingCount</th>\n",
              "      <th>TPSA</th>\n",
              "      <th>LabuteASA</th>\n",
              "      <th>BalabanJ</th>\n",
              "      <th>BertzCT</th>\n",
              "    </tr>\n",
              "  </thead>\n",
              "  <tbody>\n",
              "    <tr>\n",
              "      <th>0</th>\n",
              "      <td>A-3</td>\n",
              "      <td>N,N,N-trimethyloctadecan-1-aminium bromide</td>\n",
              "      <td>InChI=1S/C21H46N.BrH/c1-5-6-7-8-9-10-11-12-13-...</td>\n",
              "      <td>SZEMGTQCPRNXEG-UHFFFAOYSA-M</td>\n",
              "      <td>[Br-].CCCCCCCCCCCCCCCCCC[N+](C)(C)C</td>\n",
              "      <td>-3.616127</td>\n",
              "      <td>0.000000</td>\n",
              "      <td>1</td>\n",
              "      <td>G1</td>\n",
              "      <td>392.510</td>\n",
              "      <td>...</td>\n",
              "      <td>17.0</td>\n",
              "      <td>142.0</td>\n",
              "      <td>0.0</td>\n",
              "      <td>0.0</td>\n",
              "      <td>0.0</td>\n",
              "      <td>0.0</td>\n",
              "      <td>0.00</td>\n",
              "      <td>158.520601</td>\n",
              "      <td>0.000000e+00</td>\n",
              "      <td>210.377334</td>\n",
              "    </tr>\n",
              "    <tr>\n",
              "      <th>1</th>\n",
              "      <td>A-4</td>\n",
              "      <td>Benzo[cd]indol-2(1H)-one</td>\n",
              "      <td>InChI=1S/C11H7NO/c13-11-8-5-1-3-7-4-2-6-9(12-1...</td>\n",
              "      <td>GPYLCFQEKPUWLD-UHFFFAOYSA-N</td>\n",
              "      <td>O=C1Nc2cccc3cccc1c23</td>\n",
              "      <td>-3.254767</td>\n",
              "      <td>0.000000</td>\n",
              "      <td>1</td>\n",
              "      <td>G1</td>\n",
              "      <td>169.183</td>\n",
              "      <td>...</td>\n",
              "      <td>0.0</td>\n",
              "      <td>62.0</td>\n",
              "      <td>2.0</td>\n",
              "      <td>0.0</td>\n",
              "      <td>1.0</td>\n",
              "      <td>3.0</td>\n",
              "      <td>29.10</td>\n",
              "      <td>75.183563</td>\n",
              "      <td>2.582996e+00</td>\n",
              "      <td>511.229248</td>\n",
              "    </tr>\n",
              "    <tr>\n",
              "      <th>2</th>\n",
              "      <td>A-5</td>\n",
              "      <td>4-chlorobenzaldehyde</td>\n",
              "      <td>InChI=1S/C7H5ClO/c8-7-3-1-6(5-9)2-4-7/h1-5H</td>\n",
              "      <td>AVPYQKSLYISFPO-UHFFFAOYSA-N</td>\n",
              "      <td>Clc1ccc(C=O)cc1</td>\n",
              "      <td>-2.177078</td>\n",
              "      <td>0.000000</td>\n",
              "      <td>1</td>\n",
              "      <td>G1</td>\n",
              "      <td>140.569</td>\n",
              "      <td>...</td>\n",
              "      <td>1.0</td>\n",
              "      <td>46.0</td>\n",
              "      <td>1.0</td>\n",
              "      <td>0.0</td>\n",
              "      <td>0.0</td>\n",
              "      <td>1.0</td>\n",
              "      <td>17.07</td>\n",
              "      <td>58.261134</td>\n",
              "      <td>3.009782e+00</td>\n",
              "      <td>202.661065</td>\n",
              "    </tr>\n",
              "    <tr>\n",
              "      <th>3</th>\n",
              "      <td>A-8</td>\n",
              "      <td>zinc bis[2-hydroxy-3,5-bis(1-phenylethyl)benzo...</td>\n",
              "      <td>InChI=1S/2C23H22O3.Zn/c2*1-15(17-9-5-3-6-10-17...</td>\n",
              "      <td>XTUPUYCJWKHGSW-UHFFFAOYSA-L</td>\n",
              "      <td>[Zn++].CC(c1ccccc1)c2cc(C(C)c3ccccc3)c(O)c(c2)...</td>\n",
              "      <td>-3.924409</td>\n",
              "      <td>0.000000</td>\n",
              "      <td>1</td>\n",
              "      <td>G1</td>\n",
              "      <td>756.226</td>\n",
              "      <td>...</td>\n",
              "      <td>10.0</td>\n",
              "      <td>264.0</td>\n",
              "      <td>6.0</td>\n",
              "      <td>0.0</td>\n",
              "      <td>0.0</td>\n",
              "      <td>6.0</td>\n",
              "      <td>120.72</td>\n",
              "      <td>323.755434</td>\n",
              "      <td>2.322963e-07</td>\n",
              "      <td>1964.648666</td>\n",
              "    </tr>\n",
              "    <tr>\n",
              "      <th>4</th>\n",
              "      <td>A-9</td>\n",
              "      <td>4-({4-[bis(oxiran-2-ylmethyl)amino]phenyl}meth...</td>\n",
              "      <td>InChI=1S/C25H30N2O4/c1-5-20(26(10-22-14-28-22)...</td>\n",
              "      <td>FAUAZXVRLVIARB-UHFFFAOYSA-N</td>\n",
              "      <td>C1OC1CN(CC2CO2)c3ccc(Cc4ccc(cc4)N(CC5CO5)CC6CO...</td>\n",
              "      <td>-4.662065</td>\n",
              "      <td>0.000000</td>\n",
              "      <td>1</td>\n",
              "      <td>G1</td>\n",
              "      <td>422.525</td>\n",
              "      <td>...</td>\n",
              "      <td>12.0</td>\n",
              "      <td>164.0</td>\n",
              "      <td>2.0</td>\n",
              "      <td>4.0</td>\n",
              "      <td>4.0</td>\n",
              "      <td>6.0</td>\n",
              "      <td>56.60</td>\n",
              "      <td>183.183268</td>\n",
              "      <td>1.084427e+00</td>\n",
              "      <td>769.899934</td>\n",
              "    </tr>\n",
              "    <tr>\n",
              "      <th>...</th>\n",
              "      <td>...</td>\n",
              "      <td>...</td>\n",
              "      <td>...</td>\n",
              "      <td>...</td>\n",
              "      <td>...</td>\n",
              "      <td>...</td>\n",
              "      <td>...</td>\n",
              "      <td>...</td>\n",
              "      <td>...</td>\n",
              "      <td>...</td>\n",
              "      <td>...</td>\n",
              "      <td>...</td>\n",
              "      <td>...</td>\n",
              "      <td>...</td>\n",
              "      <td>...</td>\n",
              "      <td>...</td>\n",
              "      <td>...</td>\n",
              "      <td>...</td>\n",
              "      <td>...</td>\n",
              "      <td>...</td>\n",
              "      <td>...</td>\n",
              "    </tr>\n",
              "    <tr>\n",
              "      <th>9977</th>\n",
              "      <td>I-84</td>\n",
              "      <td>tetracaine</td>\n",
              "      <td>InChI=1S/C15H24N2O2/c1-4-5-10-16-14-8-6-13(7-9...</td>\n",
              "      <td>GKCBAIGFKIBETG-UHFFFAOYSA-N</td>\n",
              "      <td>C(c1ccc(cc1)NCCCC)(=O)OCCN(C)C</td>\n",
              "      <td>-3.010000</td>\n",
              "      <td>0.000000</td>\n",
              "      <td>1</td>\n",
              "      <td>G1</td>\n",
              "      <td>264.369</td>\n",
              "      <td>...</td>\n",
              "      <td>8.0</td>\n",
              "      <td>106.0</td>\n",
              "      <td>1.0</td>\n",
              "      <td>0.0</td>\n",
              "      <td>0.0</td>\n",
              "      <td>1.0</td>\n",
              "      <td>41.57</td>\n",
              "      <td>115.300645</td>\n",
              "      <td>2.394548e+00</td>\n",
              "      <td>374.236893</td>\n",
              "    </tr>\n",
              "    <tr>\n",
              "      <th>9978</th>\n",
              "      <td>I-85</td>\n",
              "      <td>tetracycline</td>\n",
              "      <td>InChI=1S/C22H24N2O8/c1-21(31)8-5-4-6-11(25)12(...</td>\n",
              "      <td>OFVLGDICTFRJMM-WESIUVDSSA-N</td>\n",
              "      <td>OC1=C(C(C2=C(O)[C@@](C(C(C(N)=O)=C(O)[C@H]3N(C...</td>\n",
              "      <td>-2.930000</td>\n",
              "      <td>0.000000</td>\n",
              "      <td>1</td>\n",
              "      <td>G1</td>\n",
              "      <td>444.440</td>\n",
              "      <td>...</td>\n",
              "      <td>2.0</td>\n",
              "      <td>170.0</td>\n",
              "      <td>1.0</td>\n",
              "      <td>0.0</td>\n",
              "      <td>3.0</td>\n",
              "      <td>4.0</td>\n",
              "      <td>181.62</td>\n",
              "      <td>182.429237</td>\n",
              "      <td>2.047922e+00</td>\n",
              "      <td>1148.584975</td>\n",
              "    </tr>\n",
              "    <tr>\n",
              "      <th>9979</th>\n",
              "      <td>I-86</td>\n",
              "      <td>thymol</td>\n",
              "      <td>InChI=1S/C10H14O/c1-7(2)9-5-4-8(3)6-10(9)11/h4...</td>\n",
              "      <td>MGSRCZKZVOBKFT-UHFFFAOYSA-N</td>\n",
              "      <td>c1(cc(ccc1C(C)C)C)O</td>\n",
              "      <td>-2.190000</td>\n",
              "      <td>0.019222</td>\n",
              "      <td>3</td>\n",
              "      <td>G5</td>\n",
              "      <td>150.221</td>\n",
              "      <td>...</td>\n",
              "      <td>1.0</td>\n",
              "      <td>60.0</td>\n",
              "      <td>1.0</td>\n",
              "      <td>0.0</td>\n",
              "      <td>0.0</td>\n",
              "      <td>1.0</td>\n",
              "      <td>20.23</td>\n",
              "      <td>67.685405</td>\n",
              "      <td>3.092720e+00</td>\n",
              "      <td>251.049732</td>\n",
              "    </tr>\n",
              "    <tr>\n",
              "      <th>9980</th>\n",
              "      <td>I-93</td>\n",
              "      <td>verapamil</td>\n",
              "      <td>InChI=1S/C27H38N2O4/c1-20(2)27(19-28,22-10-12-...</td>\n",
              "      <td>SGTNSNPWRIOYBX-UHFFFAOYSA-N</td>\n",
              "      <td>COc1ccc(CCN(C)CCCC(C#N)(C(C)C)c2ccc(OC)c(OC)c2...</td>\n",
              "      <td>-3.980000</td>\n",
              "      <td>0.000000</td>\n",
              "      <td>1</td>\n",
              "      <td>G1</td>\n",
              "      <td>454.611</td>\n",
              "      <td>...</td>\n",
              "      <td>13.0</td>\n",
              "      <td>180.0</td>\n",
              "      <td>2.0</td>\n",
              "      <td>0.0</td>\n",
              "      <td>0.0</td>\n",
              "      <td>2.0</td>\n",
              "      <td>63.95</td>\n",
              "      <td>198.569223</td>\n",
              "      <td>2.023333e+00</td>\n",
              "      <td>938.203977</td>\n",
              "    </tr>\n",
              "    <tr>\n",
              "      <th>9981</th>\n",
              "      <td>I-94</td>\n",
              "      <td>warfarin</td>\n",
              "      <td>InChI=1S/C19H16O4/c1-12(20)11-15(13-7-3-2-4-8-...</td>\n",
              "      <td>PJVWKTKQMONHTI-UHFFFAOYSA-N</td>\n",
              "      <td>CC(=O)CC(c1ccccc1)c1c(O)c2ccccc2oc1=O</td>\n",
              "      <td>-4.780000</td>\n",
              "      <td>0.450506</td>\n",
              "      <td>3</td>\n",
              "      <td>G5</td>\n",
              "      <td>308.333</td>\n",
              "      <td>...</td>\n",
              "      <td>4.0</td>\n",
              "      <td>116.0</td>\n",
              "      <td>3.0</td>\n",
              "      <td>0.0</td>\n",
              "      <td>0.0</td>\n",
              "      <td>3.0</td>\n",
              "      <td>67.51</td>\n",
              "      <td>132.552025</td>\n",
              "      <td>2.258072e+00</td>\n",
              "      <td>909.550973</td>\n",
              "    </tr>\n",
              "  </tbody>\n",
              "</table>\n",
              "<p>9982 rows × 26 columns</p>\n",
              "</div>\n",
              "      <button class=\"colab-df-convert\" onclick=\"convertToInteractive('df-7e7cc24a-9725-4be3-9174-95f3258d479c')\"\n",
              "              title=\"Convert this dataframe to an interactive table.\"\n",
              "              style=\"display:none;\">\n",
              "        \n",
              "  <svg xmlns=\"http://www.w3.org/2000/svg\" height=\"24px\"viewBox=\"0 0 24 24\"\n",
              "       width=\"24px\">\n",
              "    <path d=\"M0 0h24v24H0V0z\" fill=\"none\"/>\n",
              "    <path d=\"M18.56 5.44l.94 2.06.94-2.06 2.06-.94-2.06-.94-.94-2.06-.94 2.06-2.06.94zm-11 1L8.5 8.5l.94-2.06 2.06-.94-2.06-.94L8.5 2.5l-.94 2.06-2.06.94zm10 10l.94 2.06.94-2.06 2.06-.94-2.06-.94-.94-2.06-.94 2.06-2.06.94z\"/><path d=\"M17.41 7.96l-1.37-1.37c-.4-.4-.92-.59-1.43-.59-.52 0-1.04.2-1.43.59L10.3 9.45l-7.72 7.72c-.78.78-.78 2.05 0 2.83L4 21.41c.39.39.9.59 1.41.59.51 0 1.02-.2 1.41-.59l7.78-7.78 2.81-2.81c.8-.78.8-2.07 0-2.86zM5.41 20L4 18.59l7.72-7.72 1.47 1.35L5.41 20z\"/>\n",
              "  </svg>\n",
              "      </button>\n",
              "      \n",
              "  <style>\n",
              "    .colab-df-container {\n",
              "      display:flex;\n",
              "      flex-wrap:wrap;\n",
              "      gap: 12px;\n",
              "    }\n",
              "\n",
              "    .colab-df-convert {\n",
              "      background-color: #E8F0FE;\n",
              "      border: none;\n",
              "      border-radius: 50%;\n",
              "      cursor: pointer;\n",
              "      display: none;\n",
              "      fill: #1967D2;\n",
              "      height: 32px;\n",
              "      padding: 0 0 0 0;\n",
              "      width: 32px;\n",
              "    }\n",
              "\n",
              "    .colab-df-convert:hover {\n",
              "      background-color: #E2EBFA;\n",
              "      box-shadow: 0px 1px 2px rgba(60, 64, 67, 0.3), 0px 1px 3px 1px rgba(60, 64, 67, 0.15);\n",
              "      fill: #174EA6;\n",
              "    }\n",
              "\n",
              "    [theme=dark] .colab-df-convert {\n",
              "      background-color: #3B4455;\n",
              "      fill: #D2E3FC;\n",
              "    }\n",
              "\n",
              "    [theme=dark] .colab-df-convert:hover {\n",
              "      background-color: #434B5C;\n",
              "      box-shadow: 0px 1px 3px 1px rgba(0, 0, 0, 0.15);\n",
              "      filter: drop-shadow(0px 1px 2px rgba(0, 0, 0, 0.3));\n",
              "      fill: #FFFFFF;\n",
              "    }\n",
              "  </style>\n",
              "\n",
              "      <script>\n",
              "        const buttonEl =\n",
              "          document.querySelector('#df-7e7cc24a-9725-4be3-9174-95f3258d479c button.colab-df-convert');\n",
              "        buttonEl.style.display =\n",
              "          google.colab.kernel.accessAllowed ? 'block' : 'none';\n",
              "\n",
              "        async function convertToInteractive(key) {\n",
              "          const element = document.querySelector('#df-7e7cc24a-9725-4be3-9174-95f3258d479c');\n",
              "          const dataTable =\n",
              "            await google.colab.kernel.invokeFunction('convertToInteractive',\n",
              "                                                     [key], {});\n",
              "          if (!dataTable) return;\n",
              "\n",
              "          const docLinkHtml = 'Like what you see? Visit the ' +\n",
              "            '<a target=\"_blank\" href=https://colab.research.google.com/notebooks/data_table.ipynb>data table notebook</a>'\n",
              "            + ' to learn more about interactive tables.';\n",
              "          element.innerHTML = '';\n",
              "          dataTable['output_type'] = 'display_data';\n",
              "          await google.colab.output.renderOutput(dataTable, element);\n",
              "          const docLink = document.createElement('div');\n",
              "          docLink.innerHTML = docLinkHtml;\n",
              "          element.appendChild(docLink);\n",
              "        }\n",
              "      </script>\n",
              "    </div>\n",
              "  </div>\n",
              "  "
            ]
          },
          "metadata": {},
          "execution_count": 4
        }
      ],
      "source": [
        "df"
      ]
    },
    {
      "cell_type": "markdown",
      "source": [
        "<div class=\"alert alert-success\">\n",
        "<b>Task 1a.</b> From the data frame above, print the number of compounds and list of features in the dataset.</div>"
      ],
      "metadata": {
        "id": "AGO63T-9NSdJ"
      }
    },
    {
      "cell_type": "code",
      "execution_count": 5,
      "metadata": {
        "colab": {
          "base_uri": "https://localhost:8080/"
        },
        "id": "nuhvPcBzP4st",
        "outputId": "e702658c-1786-494d-d172-7eff22007ffe"
      },
      "outputs": [
        {
          "output_type": "stream",
          "name": "stdout",
          "text": [
            "Number of compounds in the dataset:  9982\n",
            "Dataset columns:  ['ID', 'Name', 'InChI', 'InChIKey', 'SMILES', 'Solubility', 'SD', 'Ocurrences', 'Group', 'MolWt', 'MolLogP', 'MolMR', 'HeavyAtomCount', 'NumHAcceptors', 'NumHDonors', 'NumHeteroatoms', 'NumRotatableBonds', 'NumValenceElectrons', 'NumAromaticRings', 'NumSaturatedRings', 'NumAliphaticRings', 'RingCount', 'TPSA', 'LabuteASA', 'BalabanJ', 'BertzCT']\n"
          ]
        }
      ],
      "source": [
        "print(\"Number of compounds in the dataset: \", df.shape[0])\n",
        "print(\"Dataset columns: \", list(df.columns))\n"
      ]
    },
    {
      "cell_type": "markdown",
      "source": [
        "<div class=\"alert alert-success\">\n",
        "<b>Task 1b.</b> What are the two features that are required in our task to predict solubility of the molecule from SMILES representation ?</div>"
      ],
      "metadata": {
        "id": "6XVcB-UJOwnt"
      }
    },
    {
      "cell_type": "markdown",
      "source": [
        "<details>\n",
        "<summary> <mark> Solution: </mark> </summary>\n",
        "\n",
        "Features:\n",
        "- 'SMILES'\n",
        "- 'Solubility'\n",
        "\n",
        "</details>"
      ],
      "metadata": {
        "id": "XSr54y63P191"
      }
    },
    {
      "cell_type": "markdown",
      "source": [
        "The chosen \n",
        "unit of solubility in this dataset is LogS, where S is the aqueous solubility in mol/L (or M). Units such as g/L and mg/L were converted to LogS using the molecular mass of the compounds.\n",
        "\n",
        "<div class=\"alert alert-success\">\n",
        "<b>Task 1c.</b> Plot a histogram to analyse the distribution of 'Solubility' measurement across the entire dataset. You can use seaborn histplot for this task. </div>"
      ],
      "metadata": {
        "id": "CN8EteHYR7XK"
      }
    },
    {
      "cell_type": "code",
      "source": [
        "sns.histplot(df['Solubility'],bins=20)\n",
        "plt.ylabel('Number of Compunds')\n",
        "plt.show()"
      ],
      "metadata": {
        "colab": {
          "base_uri": "https://localhost:8080/",
          "height": 279
        },
        "id": "BLqOpyzkOkpL",
        "outputId": "b5294ad9-20a7-4a78-d760-a213cdce8494"
      },
      "execution_count": 6,
      "outputs": [
        {
          "output_type": "display_data",
          "data": {
            "text/plain": [
              "<Figure size 432x288 with 1 Axes>"
            ],
            "image/png": "[encoded data removed]"
          },
          "metadata": {
            "needs_background": "light"
          }
        }
      ]
    },
    {
      "cell_type": "markdown",
      "metadata": {
        "id": "IWAbt_6Hf_Qs"
      },
      "source": [
        "Now we want to categorise the Solubility data into two classes- 0 for insoluble and 1 for soluble compounds. These compounds can be classified according to solubility values (LogS).\n",
        "\n",
        "Compounds with 0 and higher solubility value are highly soluble, those in the range of 0 to −2 are soluble, those in the range of −2 to −4 are slightly soluble and insoluble if less than −4.\n",
        "\n",
        "<div class=\"alert alert-success\">\n",
        "<b>Task 1d.</b> Create a \"isSoluble\" feature in the dataframe. \"isSoluble\" is a binary variable where 1 denotes all soluble compounds (i.e., whose Solubility>-2) and 0 for insoluble compounds. Report the number of compounds in both these classes. </div>"
      ]
    },
    {
      "cell_type": "code",
      "execution_count": 7,
      "metadata": {
        "colab": {
          "base_uri": "https://localhost:8080/"
        },
        "id": "stj0yN5fqf3m",
        "outputId": "6d2811c0-35cb-4842-ebb1-860fb47f6280"
      },
      "outputs": [
        {
          "output_type": "stream",
          "name": "stdout",
          "text": [
            "0    6086\n",
            "1    3896\n",
            "Name: isSoluble, dtype: int64\n"
          ]
        }
      ],
      "source": [
        "df[\"isSoluble\"] = (df.Solubility > -2).astype(int)\n",
        "print(df.isSoluble.value_counts())"
      ]
    },
    {
      "cell_type": "markdown",
      "source": [
        "<div class=\"alert alert-success\">\n",
        "<b>Task 1e.</b> Plot a histogram to analyse the distribution of 'MolWt' of compunds less than 1000g/mol and its relationship with 'isSoluble' feature.  You can use seaborn histplot for this task and set bins=40. </div>"
      ],
      "metadata": {
        "id": "x60As02bhbKT"
      }
    },
    {
      "cell_type": "code",
      "execution_count": 10,
      "metadata": {
        "colab": {
          "base_uri": "https://localhost:8080/",
          "height": 279
        },
        "id": "QtMkpU0C9Fsy",
        "outputId": "c3e628d4-5837-4e92-b2d4-6ba39e0da439"
      },
      "outputs": [
        {
          "output_type": "display_data",
          "data": {
            "text/plain": [
              "<Figure size 432x288 with 1 Axes>"
            ],
            "image/png": "[encoded data removed]"
          },
          "metadata": {
            "needs_background": "light"
          }
        }
      ],
      "source": [
        "sns.histplot(x=\"MolWt\", hue='isSoluble', data=df[df.MolWt < 1000], bins=40);"
      ]
    },
    {
      "cell_type": "code",
      "source": [
        "### Below cells till section 2 start are not required"
      ],
      "metadata": {
        "id": "W7_YQ9bLjZiT"
      },
      "execution_count": null,
      "outputs": []
    },
    {
      "cell_type": "code",
      "execution_count": null,
      "metadata": {
        "id": "g99c1qQhs9_x"
      },
      "outputs": [],
      "source": [
        "df_upd = df[[\"ID\", \"SMILES\", \"Solubility\", \"MolWt\", \"isSoluble\"]]\n",
        "PandasTools.AddMoleculeColumnToFrame(df_upd, 'SMILES', 'Molecule', includeFingerprints=True)\n",
        "df_upd"
      ]
    },
    {
      "cell_type": "code",
      "execution_count": null,
      "metadata": {
        "id": "CwoBb5w_9QZs"
      },
      "outputs": [],
      "source": [
        "# Plot a scatterplot of solubility values against other features\n",
        "sns.pairplot(df, x_vars=['MolWt','MolLogP', 'NumHDonors', 'NumAromaticRings', 'NumRotatableBonds'], y_vars='Solubility')\n",
        "plt.show()"
      ]
    },
    {
      "cell_type": "code",
      "execution_count": null,
      "metadata": {
        "id": "h9MnPF0Wrl1e"
      },
      "outputs": [],
      "source": [
        "# Plot a scatterplot of solubility values against other features\n",
        "sns.pairplot(df, x_vars=['MolWt','MolLogP', 'NumHDonors', 'NumAromaticRings', 'NumRotatableBonds'], y_vars='isSoluble')\n",
        "plt.show()"
      ]
    },
    {
      "cell_type": "markdown",
      "metadata": {
        "id": "MzVbIVVb9pJB"
      },
      "source": [
        "## 2. Data Preprocessing- Feature extraction and splitting the datasets"
      ]
    },
    {
      "cell_type": "markdown",
      "source": [
        "Molecular Fingerprinting- ECFP"
      ],
      "metadata": {
        "id": "xnsU50-Qjo3N"
      }
    },
    {
      "cell_type": "code",
      "execution_count": 11,
      "metadata": {
        "id": "tb4t8kVs91GI"
      },
      "outputs": [],
      "source": [
        "# Convert SMILES strings to ECFP fingerprints\n",
        "def get_fingerprints(smiles):\n",
        "    m = Chem.MolFromSmiles(smiles)\n",
        "    fp = AllChem.GetMorganFingerprintAsBitVect(m, 2, nBits=1024)\n",
        "    arr = np.zeros((1,1024), dtype=np.float32)\n",
        "    DataStructs.ConvertToNumpyArray(fp, arr)\n",
        "    return arr"
      ]
    },
    {
      "cell_type": "markdown",
      "source": [
        "From the dataframe above, we will now select the input i.e., SMILES string and initialize it to the variable **X** and the binary solubility scores to the variable **y**. We will then get the Morgan fingerprints for the input **X**."
      ],
      "metadata": {
        "id": "q_waWEIZPwsR"
      }
    },
    {
      "cell_type": "code",
      "execution_count": 12,
      "metadata": {
        "id": "bfdevnXUrs3_"
      },
      "outputs": [],
      "source": [
        "X = df[\"SMILES\"]\n",
        "y=np.array(df[\"isSoluble\"])\n",
        "#Get ECFP Fingerprints\n",
        "X1 = X.apply(get_fingerprints).apply(lambda x: np.array(x, dtype=np.float32))\n",
        "X1 = np.concatenate(X1.values)\n",
        "X1 = X1.reshape(-1, 1024)"
      ]
    },
    {
      "cell_type": "markdown",
      "source": [
        "Now we have **X1** with fingerprints for all the molecules in the dataset and corresponding solubility scores. \n",
        "\n",
        "<div class=\"alert alert-success\">\n",
        "<b>Task 2a.</b> Split X and y into train, test and validation sets using Sklearn. Use 80% data for training and 20% data for testing; You can use 20% of the training data for validation set. </div>"
      ],
      "metadata": {
        "id": "wn9HWpOwjtaS"
      }
    },
    {
      "cell_type": "code",
      "execution_count": 13,
      "metadata": {
        "id": "RUKpPxjxBWcv"
      },
      "outputs": [],
      "source": [
        "from sklearn.model_selection import train_test_split\n",
        "\n",
        "# Split the data into train and test sets\n",
        "X_train, X_test, y_train, y_test = train_test_split(X1, y, test_size=0.2)\n",
        "\n",
        "# Split the train data into train and validation sets\n",
        "X_train, X_val, y_train, y_val = train_test_split(X_train, y_train, test_size=0.2)\n"
      ]
    },
    {
      "cell_type": "markdown",
      "source": [
        "We will now have to convert the train, val and test sets into tensors and then use pytorch DataLoader to wrap these samples for training the DL models."
      ],
      "metadata": {
        "id": "MlR27GU1T__M"
      }
    },
    {
      "cell_type": "code",
      "source": [
        "# Convert your data into tensors\n",
        "X_train = torch.tensor(X_train, dtype=torch.float32)\n",
        "y_train = torch.tensor(y_train, dtype=torch.int64)\n",
        "\n",
        "# Wrap your data in TensorDataset\n",
        "train_dataset = TensorDataset(X_train, y_train)\n",
        "\n",
        "# Create the dataloaders\n",
        "batch_size = 128\n",
        "trainloader = DataLoader(train_dataset, batch_size=batch_size, shuffle=True)\n"
      ],
      "metadata": {
        "colab": {
          "base_uri": "https://localhost:8080/"
        },
        "id": "s4F0dCRBTq1T",
        "outputId": "4fe0072b-02ee-488a-cc47-f1b963dcc327"
      },
      "execution_count": 15,
      "outputs": [
        {
          "output_type": "stream",
          "name": "stderr",
          "text": [
            "<ipython-input-15-85b0e4e2611b>:2: UserWarning: To copy construct from a tensor, it is recommended to use sourceTensor.clone().detach() or sourceTensor.clone().detach().requires_grad_(True), rather than torch.tensor(sourceTensor).\n",
            "  X_train = torch.tensor(X_train, dtype=torch.float32)\n",
            "<ipython-input-15-85b0e4e2611b>:3: UserWarning: To copy construct from a tensor, it is recommended to use sourceTensor.clone().detach() or sourceTensor.clone().detach().requires_grad_(True), rather than torch.tensor(sourceTensor).\n",
            "  y_train = torch.tensor(y_train, dtype=torch.int64)\n"
          ]
        }
      ]
    },
    {
      "cell_type": "markdown",
      "source": [
        "<div class=\"alert alert-success\">\n",
        "<b>Task 2b.</b> Similar to the train set as shown in cell above, prepare the testloader and validation loader. </div>"
      ],
      "metadata": {
        "id": "H6X51dvnUqDJ"
      }
    },
    {
      "cell_type": "code",
      "execution_count": 16,
      "metadata": {
        "id": "IkqBtnE7DTyo"
      },
      "outputs": [],
      "source": [
        "# Convert your data into tensors\n",
        "X_val = torch.tensor(X_val, dtype=torch.float32)\n",
        "y_val = torch.tensor(y_val, dtype=torch.int64)\n",
        "X_test = torch.tensor(X_test, dtype=torch.float32)\n",
        "y_test = torch.tensor(y_test, dtype=torch.int64)\n",
        "\n",
        "# Wrap your data in TensorDataset\n",
        "val_dataset = TensorDataset(X_val, y_val)\n",
        "test_dataset= TensorDataset(X_test, y_test)\n",
        "\n",
        "# Create the dataloaders\n",
        "batch_size = 128\n",
        "valloader = DataLoader(val_dataset, batch_size=batch_size, shuffle=False)\n",
        "testloader = DataLoader(test_dataset, batch_size=batch_size, shuffle=False)"
      ]
    },
    {
      "cell_type": "markdown",
      "metadata": {
        "id": "4tocfZx3DWwy"
      },
      "source": [
        "## 3. Training the Deep Neural Network "
      ]
    },
    {
      "cell_type": "code",
      "execution_count": 78,
      "metadata": {
        "id": "vj7a0gpmBYis"
      },
      "outputs": [],
      "source": [
        "# Define the DNN model\n",
        "class DNN(nn.Module):\n",
        "    def __init__(self):\n",
        "        super(DNN, self).__init__()\n",
        "        self.fc1 = nn.Linear(1024, 512)\n",
        "        self.fc2 = nn.Linear(512, 256)\n",
        "        self.fc3 = nn.Linear(256, 128)\n",
        "        self.fc4 = nn.Linear(128, 64)\n",
        "        self.fc5 = nn.Linear(64, 1) # Change the output layer to 2 classes\n",
        "    \n",
        "    def forward(self, x):\n",
        "        x = F.relu(self.fc1(x))\n",
        "        x = F.relu(self.fc2(x))\n",
        "        x = F.relu(self.fc3(x))\n",
        "        x = F.relu(self.fc4(x))\n",
        "        #x = F.softmax(self.fc5(x), dim=1) # Use softmax activation to get probabilities\n",
        "        x = F.sigmoid(self.fc5(x)) # Use softmax activation to get probabilities\n",
        "        return x\n"
      ]
    },
    {
      "cell_type": "code",
      "execution_count": 21,
      "metadata": {
        "id": "M4i2VSafr3Fu"
      },
      "outputs": [],
      "source": [
        "# Initialize the model, loss function, and optimizer\n",
        "model = DNN()\n",
        "criterion = nn.CrossEntropyLoss() # Use cross entropy loss for binary classification\n",
        "optimizer = torch.optim.Adam(model.parameters(), lr=0.01) # Use Adam optimizer\n"
      ]
    },
    {
      "cell_type": "code",
      "source": [
        "summary(model)"
      ],
      "metadata": {
        "colab": {
          "base_uri": "https://localhost:8080/"
        },
        "id": "L6aipxWKwLhY",
        "outputId": "b474ac9b-9d9c-40f1-c5c5-8a8f72fa0e8d"
      },
      "execution_count": 22,
      "outputs": [
        {
          "output_type": "execute_result",
          "data": {
            "text/plain": [
              "=================================================================\n",
              "Layer (type:depth-idx)                   Param #\n",
              "=================================================================\n",
              "DNN                                      --\n",
              "├─Linear: 1-1                            524,800\n",
              "├─Linear: 1-2                            131,328\n",
              "├─Linear: 1-3                            32,896\n",
              "├─Linear: 1-4                            8,256\n",
              "├─Linear: 1-5                            130\n",
              "=================================================================\n",
              "Total params: 697,410\n",
              "Trainable params: 697,410\n",
              "Non-trainable params: 0\n",
              "================================================================="
            ]
          },
          "metadata": {},
          "execution_count": 22
        }
      ]
    },
    {
      "cell_type": "code",
      "source": [
        "# Train the model and keep track of validation loss\n",
        "train_loss = []\n",
        "val_loss = []\n",
        "num_epochs = 100\n",
        "\n",
        "for epoch in range(num_epochs):\n",
        "    running_loss = 0.0\n",
        "    for i, data in enumerate(trainloader, 0):\n",
        "        inputs, labels = data\n",
        "        optimizer.zero_grad()\n",
        "        outputs = model(inputs)\n",
        "        loss = criterion(outputs, labels.long()) \n",
        "        loss.backward()\n",
        "        optimizer.step()\n",
        "        running_loss += loss.item()\n",
        "        \n",
        "    avg_train_loss = running_loss / len(trainloader)\n",
        "    train_loss.append(avg_train_loss)\n",
        "    \n",
        "    val_running_loss = 0.0\n",
        "    with torch.no_grad():\n",
        "        for i, data in enumerate(valloader, 0):\n",
        "            inputs, labels = data\n",
        "            outputs = model(inputs)\n",
        "            val_batch_loss = criterion(outputs, labels.long()) \n",
        "            val_running_loss += val_batch_loss.item()\n",
        "        \n",
        "    avg_val_loss = val_running_loss / len(valloader)\n",
        "    val_loss.append(avg_val_loss)\n"
      ],
      "metadata": {
        "id": "mCkrQmsEstEX"
      },
      "execution_count": 23,
      "outputs": []
    },
    {
      "cell_type": "code",
      "execution_count": 25,
      "metadata": {
        "colab": {
          "base_uri": "https://localhost:8080/",
          "height": 279
        },
        "id": "K-Oaj2pmD115",
        "outputId": "5e87f1c0-5a81-482d-960d-4fed3fe05592"
      },
      "outputs": [
        {
          "output_type": "display_data",
          "data": {
            "text/plain": [
              "<Figure size 432x288 with 1 Axes>"
            ],
            "image/png": "[encoded data removed]"
          },
          "metadata": {
            "needs_background": "light"
          }
        }
      ],
      "source": [
        "# Plot the training and validation loss\n",
        "plt.plot(range(num_epochs), train_loss, label='Training Loss')\n",
        "plt.plot(range(num_epochs), val_loss, label='Validation Loss')\n",
        "plt.xlabel('Epochs')\n",
        "plt.ylabel('Loss')\n",
        "plt.legend()\n",
        "plt.show()"
      ]
    },
    {
      "cell_type": "code",
      "source": [
        "# Test the model on the test data\n",
        "correct = 0\n",
        "total = 0\n",
        "predictions = []\n",
        "true_labels = []\n",
        "with torch.no_grad():\n",
        "    for i, data in enumerate(testloader, 0):\n",
        "        inputs, target = data\n",
        "        outputs = model(inputs)\n",
        "        _, predicted = torch.max(outputs.data, 1) # Get the class with the highest probability\n",
        "        total += target.size(0)\n",
        "        correct += (predicted == target.long()).sum().item() # Convert target to long and compare\n",
        "        predictions += predicted.tolist()\n",
        "        true_labels += target.tolist()\n"
      ],
      "metadata": {
        "id": "eFOR5i6PwhrX"
      },
      "execution_count": 43,
      "outputs": []
    },
    {
      "cell_type": "code",
      "source": [
        "accuracy = correct / total\n",
        "print('Accuracy of the network on the test data: %d %%' % (100 * accuracy))\n",
        "\n"
      ],
      "metadata": {
        "colab": {
          "base_uri": "https://localhost:8080/"
        },
        "id": "IH8wEYPR37er",
        "outputId": "26eb960e-77cd-4f39-e82e-64b470aefe54"
      },
      "execution_count": 44,
      "outputs": [
        {
          "output_type": "stream",
          "name": "stdout",
          "text": [
            "Accuracy of the network on the test data: 72 %\n"
          ]
        }
      ]
    },
    {
      "cell_type": "code",
      "source": [
        "# Plot confusion matrix\n",
        "cf_matrix= confusion_matrix(true_labels, predictions)\n",
        "group_names = ['True Neg','False Pos','False Neg','True Pos']\n",
        "group_counts = [\"{0:0.0f}\".format(value) for value in\n",
        "                cf_matrix.flatten()]\n",
        "group_percentages = [\"{0:.2%}\".format(value) for value in\n",
        "                     cf_matrix.flatten()/np.sum(cf_matrix)]\n",
        "labels = [f\"{v1}\\n{v2}\\n{v3}\" for v1, v2, v3 in\n",
        "          zip(group_names,group_counts,group_percentages)]\n",
        "labels = np.asarray(labels).reshape(2,2)\n",
        "sns.heatmap(cf_matrix, annot=labels, fmt='', cmap='Blues')\n",
        "\n"
      ],
      "metadata": {
        "colab": {
          "base_uri": "https://localhost:8080/",
          "height": 282
        },
        "id": "7YaPRbax3-tZ",
        "outputId": "c4652a5a-fcbb-42d9-8cb2-792c27857d3f"
      },
      "execution_count": 51,
      "outputs": [
        {
          "output_type": "execute_result",
          "data": {
            "text/plain": [
              "<matplotlib.axes._subplots.AxesSubplot at 0x7f41d49515b0>"
            ]
          },
          "metadata": {},
          "execution_count": 51
        },
        {
          "output_type": "display_data",
          "data": {
            "text/plain": [
              "<Figure size 432x288 with 2 Axes>"
            ],
            "image/png": "[encoded data removed]"
          },
          "metadata": {
            "needs_background": "light"
          }
        }
      ]
    },
    {
      "cell_type": "code",
      "source": [
        "\n",
        "# Plot ROC curve\n",
        "fpr, tpr, thresholds = roc_curve(true_labels, predictions)\n",
        "roc_auc = auc(fpr, tpr)\n",
        "plt.plot(fpr, tpr, label='ROC curve (area = %0.2f)' % roc_auc)\n",
        "plt.plot([0, 1], [0, 1], 'k--') # random predictions curve\n",
        "plt.xlim([0.0, 1.0])\n",
        "plt.ylim([0.0, 1.0])\n",
        "plt.xlabel('False Positive Rate or (1 - Specifity)')\n",
        "plt.ylabel('True Positive Rate or (Sensitivity)')\n",
        "plt.title('Receiver Operating Characteristic')\n",
        "plt.legend(loc=\"lower right\")\n",
        "plt.show()"
      ],
      "metadata": {
        "colab": {
          "base_uri": "https://localhost:8080/",
          "height": 295
        },
        "id": "itWZ4tFO4BUa",
        "outputId": "d48dcf40-294b-4e15-8c34-03995b939e05"
      },
      "execution_count": 54,
      "outputs": [
        {
          "output_type": "display_data",
          "data": {
            "text/plain": [
              "<Figure size 432x288 with 1 Axes>"
            ],
            "image/png": "[encoded data removed]"
          },
          "metadata": {
            "needs_background": "light"
          }
        }
      ]
    },
    {
      "cell_type": "code",
      "execution_count": null,
      "metadata": {
        "id": "bi0MZkJgbVAc"
      },
      "outputs": [],
      "source": [
        "torch.save(model.state_dict(), 'model_DNN_500Epochs.pt')"
      ]
    },
    {
      "cell_type": "code",
      "execution_count": 80,
      "metadata": {
        "id": "GGHh_VUXbbDv"
      },
      "outputs": [],
      "source": [
        "# Initialize the model, loss function, and optimizer\n",
        "model = DNN()\n",
        "criterion =nn.BCEWithLogitsLoss() # Use cross entropy loss for binary classification\n",
        "optimizer = torch.optim.Adam(model.parameters(), lr=0.01) # Use Adam optimizer\n"
      ]
    },
    {
      "cell_type": "code",
      "execution_count": 82,
      "metadata": {
        "id": "xpVd3dq5upDT",
        "colab": {
          "base_uri": "https://localhost:8080/",
          "height": 381
        },
        "outputId": "40ef98c3-fa21-4dd3-8e3f-dbb25c375a6a"
      },
      "outputs": [
        {
          "output_type": "error",
          "ename": "ValueError",
          "evalue": "ignored",
          "traceback": [
            "\u001b[0;31m---------------------------------------------------------------------------\u001b[0m",
            "\u001b[0;31mValueError\u001b[0m                                Traceback (most recent call last)",
            "\u001b[0;32m<ipython-input-82-3f4999fceaa1>\u001b[0m in \u001b[0;36m<module>\u001b[0;34m\u001b[0m\n\u001b[1;32m     10\u001b[0m         \u001b[0moptimizer\u001b[0m\u001b[0;34m.\u001b[0m\u001b[0mzero_grad\u001b[0m\u001b[0;34m(\u001b[0m\u001b[0;34m)\u001b[0m\u001b[0;34m\u001b[0m\u001b[0;34m\u001b[0m\u001b[0m\n\u001b[1;32m     11\u001b[0m         \u001b[0moutputs\u001b[0m \u001b[0;34m=\u001b[0m \u001b[0mmodel\u001b[0m\u001b[0;34m(\u001b[0m\u001b[0minputs\u001b[0m\u001b[0;34m)\u001b[0m\u001b[0;34m\u001b[0m\u001b[0;34m\u001b[0m\u001b[0m\n\u001b[0;32m---> 12\u001b[0;31m         \u001b[0mloss\u001b[0m \u001b[0;34m=\u001b[0m \u001b[0mcriterion\u001b[0m\u001b[0;34m(\u001b[0m\u001b[0moutputs\u001b[0m\u001b[0;34m,\u001b[0m \u001b[0mlabels\u001b[0m\u001b[0;34m)\u001b[0m\u001b[0;34m\u001b[0m\u001b[0;34m\u001b[0m\u001b[0m\n\u001b[0m\u001b[1;32m     13\u001b[0m         \u001b[0mloss\u001b[0m\u001b[0;34m.\u001b[0m\u001b[0mbackward\u001b[0m\u001b[0;34m(\u001b[0m\u001b[0;34m)\u001b[0m\u001b[0;34m\u001b[0m\u001b[0;34m\u001b[0m\u001b[0m\n\u001b[1;32m     14\u001b[0m         \u001b[0moptimizer\u001b[0m\u001b[0;34m.\u001b[0m\u001b[0mstep\u001b[0m\u001b[0;34m(\u001b[0m\u001b[0;34m)\u001b[0m\u001b[0;34m\u001b[0m\u001b[0;34m\u001b[0m\u001b[0m\n",
            "\u001b[0;32m/usr/local/lib/python3.8/dist-packages/torch/nn/modules/module.py\u001b[0m in \u001b[0;36m_call_impl\u001b[0;34m(self, *input, **kwargs)\u001b[0m\n\u001b[1;32m   1192\u001b[0m         if not (self._backward_hooks or self._forward_hooks or self._forward_pre_hooks or _global_backward_hooks\n\u001b[1;32m   1193\u001b[0m                 or _global_forward_hooks or _global_forward_pre_hooks):\n\u001b[0;32m-> 1194\u001b[0;31m             \u001b[0;32mreturn\u001b[0m \u001b[0mforward_call\u001b[0m\u001b[0;34m(\u001b[0m\u001b[0;34m*\u001b[0m\u001b[0minput\u001b[0m\u001b[0;34m,\u001b[0m \u001b[0;34m**\u001b[0m\u001b[0mkwargs\u001b[0m\u001b[0;34m)\u001b[0m\u001b[0;34m\u001b[0m\u001b[0;34m\u001b[0m\u001b[0m\n\u001b[0m\u001b[1;32m   1195\u001b[0m         \u001b[0;31m# Do not call functions when jit is used\u001b[0m\u001b[0;34m\u001b[0m\u001b[0;34m\u001b[0m\u001b[0;34m\u001b[0m\u001b[0m\n\u001b[1;32m   1196\u001b[0m         \u001b[0mfull_backward_hooks\u001b[0m\u001b[0;34m,\u001b[0m \u001b[0mnon_full_backward_hooks\u001b[0m \u001b[0;34m=\u001b[0m \u001b[0;34m[\u001b[0m\u001b[0;34m]\u001b[0m\u001b[0;34m,\u001b[0m \u001b[0;34m[\u001b[0m\u001b[0;34m]\u001b[0m\u001b[0;34m\u001b[0m\u001b[0;34m\u001b[0m\u001b[0m\n",
            "\u001b[0;32m/usr/local/lib/python3.8/dist-packages/torch/nn/modules/loss.py\u001b[0m in \u001b[0;36mforward\u001b[0;34m(self, input, target)\u001b[0m\n\u001b[1;32m    718\u001b[0m \u001b[0;34m\u001b[0m\u001b[0m\n\u001b[1;32m    719\u001b[0m     \u001b[0;32mdef\u001b[0m \u001b[0mforward\u001b[0m\u001b[0;34m(\u001b[0m\u001b[0mself\u001b[0m\u001b[0;34m,\u001b[0m \u001b[0minput\u001b[0m\u001b[0;34m:\u001b[0m \u001b[0mTensor\u001b[0m\u001b[0;34m,\u001b[0m \u001b[0mtarget\u001b[0m\u001b[0;34m:\u001b[0m \u001b[0mTensor\u001b[0m\u001b[0;34m)\u001b[0m \u001b[0;34m->\u001b[0m \u001b[0mTensor\u001b[0m\u001b[0;34m:\u001b[0m\u001b[0;34m\u001b[0m\u001b[0;34m\u001b[0m\u001b[0m\n\u001b[0;32m--> 720\u001b[0;31m         return F.binary_cross_entropy_with_logits(input, target,\n\u001b[0m\u001b[1;32m    721\u001b[0m                                                   \u001b[0mself\u001b[0m\u001b[0;34m.\u001b[0m\u001b[0mweight\u001b[0m\u001b[0;34m,\u001b[0m\u001b[0;34m\u001b[0m\u001b[0;34m\u001b[0m\u001b[0m\n\u001b[1;32m    722\u001b[0m                                                   \u001b[0mpos_weight\u001b[0m\u001b[0;34m=\u001b[0m\u001b[0mself\u001b[0m\u001b[0;34m.\u001b[0m\u001b[0mpos_weight\u001b[0m\u001b[0;34m,\u001b[0m\u001b[0;34m\u001b[0m\u001b[0;34m\u001b[0m\u001b[0m\n",
            "\u001b[0;32m/usr/local/lib/python3.8/dist-packages/torch/nn/functional.py\u001b[0m in \u001b[0;36mbinary_cross_entropy_with_logits\u001b[0;34m(input, target, weight, size_average, reduce, reduction, pos_weight)\u001b[0m\n\u001b[1;32m   3158\u001b[0m \u001b[0;34m\u001b[0m\u001b[0m\n\u001b[1;32m   3159\u001b[0m     \u001b[0;32mif\u001b[0m \u001b[0;32mnot\u001b[0m \u001b[0;34m(\u001b[0m\u001b[0mtarget\u001b[0m\u001b[0;34m.\u001b[0m\u001b[0msize\u001b[0m\u001b[0;34m(\u001b[0m\u001b[0;34m)\u001b[0m \u001b[0;34m==\u001b[0m \u001b[0minput\u001b[0m\u001b[0;34m.\u001b[0m\u001b[0msize\u001b[0m\u001b[0;34m(\u001b[0m\u001b[0;34m)\u001b[0m\u001b[0;34m)\u001b[0m\u001b[0;34m:\u001b[0m\u001b[0;34m\u001b[0m\u001b[0;34m\u001b[0m\u001b[0m\n\u001b[0;32m-> 3160\u001b[0;31m         \u001b[0;32mraise\u001b[0m \u001b[0mValueError\u001b[0m\u001b[0;34m(\u001b[0m\u001b[0;34m\"Target size ({}) must be the same as input size ({})\"\u001b[0m\u001b[0;34m.\u001b[0m\u001b[0mformat\u001b[0m\u001b[0;34m(\u001b[0m\u001b[0mtarget\u001b[0m\u001b[0;34m.\u001b[0m\u001b[0msize\u001b[0m\u001b[0;34m(\u001b[0m\u001b[0;34m)\u001b[0m\u001b[0;34m,\u001b[0m \u001b[0minput\u001b[0m\u001b[0;34m.\u001b[0m\u001b[0msize\u001b[0m\u001b[0;34m(\u001b[0m\u001b[0;34m)\u001b[0m\u001b[0;34m)\u001b[0m\u001b[0;34m)\u001b[0m\u001b[0;34m\u001b[0m\u001b[0;34m\u001b[0m\u001b[0m\n\u001b[0m\u001b[1;32m   3161\u001b[0m \u001b[0;34m\u001b[0m\u001b[0m\n\u001b[1;32m   3162\u001b[0m     \u001b[0;32mreturn\u001b[0m \u001b[0mtorch\u001b[0m\u001b[0;34m.\u001b[0m\u001b[0mbinary_cross_entropy_with_logits\u001b[0m\u001b[0;34m(\u001b[0m\u001b[0minput\u001b[0m\u001b[0;34m,\u001b[0m \u001b[0mtarget\u001b[0m\u001b[0;34m,\u001b[0m \u001b[0mweight\u001b[0m\u001b[0;34m,\u001b[0m \u001b[0mpos_weight\u001b[0m\u001b[0;34m,\u001b[0m \u001b[0mreduction_enum\u001b[0m\u001b[0;34m)\u001b[0m\u001b[0;34m\u001b[0m\u001b[0;34m\u001b[0m\u001b[0m\n",
            "\u001b[0;31mValueError\u001b[0m: Target size (torch.Size([128])) must be the same as input size (torch.Size([128, 1]))"
          ]
        }
      ],
      "source": [
        "# Train the model and keep track of validation loss\n",
        "train_loss = []\n",
        "val_loss = []\n",
        "num_epochs = 100\n",
        "\n",
        "for epoch in range(num_epochs):\n",
        "    running_loss = 0.0\n",
        "    for i, data in enumerate(trainloader, 0):\n",
        "        inputs, labels = data\n",
        "        optimizer.zero_grad()\n",
        "        outputs = model(inputs)\n",
        "        loss = criterion(outputs, labels) \n",
        "        loss.backward()\n",
        "        optimizer.step()\n",
        "        running_loss += loss.item()\n",
        "        \n",
        "    avg_train_loss = running_loss / len(trainloader)\n",
        "    train_loss.append(avg_train_loss)\n",
        "    \n",
        "    val_running_loss = 0.0\n",
        "    with torch.no_grad():\n",
        "        for i, data in enumerate(valloader, 0):\n",
        "            inputs, labels = data\n",
        "            outputs = model(inputs)\n",
        "            val_batch_loss = criterion(outputs, labels.long()) \n",
        "            val_running_loss += val_batch_loss.item()\n",
        "        \n",
        "    avg_val_loss = val_running_loss / len(valloader)\n",
        "    val_loss.append(avg_val_loss)\n",
        "    print(\"Epoch {}: Training loss: {:.4f}, Validation loss: {:.4f}\".format(epoch + 1, avg_train_loss, avg_val_loss))\n",
        "\n"
      ]
    },
    {
      "cell_type": "code",
      "source": [
        "# Plot the training and validation loss\n",
        "plt.plot(range(num_epochs), train_loss, label='Training Loss')\n",
        "plt.plot(range(num_epochs), val_loss, label='Validation Loss')\n",
        "plt.xlabel('Epochs')\n",
        "plt.ylabel('Loss')\n",
        "plt.legend()\n",
        "plt.show()"
      ],
      "metadata": {
        "id": "VmBA2ByU9Xkr"
      },
      "execution_count": null,
      "outputs": []
    },
    {
      "cell_type": "code",
      "execution_count": 75,
      "metadata": {
        "id": "ai74Mpf1uPhn"
      },
      "outputs": [],
      "source": [
        "# Test the model on the test data\n",
        "correct = 0\n",
        "total = 0\n",
        "predictions = []\n",
        "true_labels = []\n",
        "with torch.no_grad():\n",
        "    for i, data in enumerate(testloader, 0):\n",
        "        inputs, target = data\n",
        "        outputs = model(inputs)\n",
        "        _, predicted = torch.max(outputs.data, 1) # Get the class with the highest probability\n",
        "        total += target.size(0)\n",
        "        correct += (predicted == target.long()).sum().item() # Convert target to long and compare\n",
        "        predictions += predicted.tolist()\n",
        "        true_labels += target.tolist()"
      ]
    },
    {
      "cell_type": "code",
      "source": [
        "accuracy = correct / total\n",
        "print('Accuracy of the network on the test data: %d %%' % (100 * accuracy))"
      ],
      "metadata": {
        "colab": {
          "base_uri": "https://localhost:8080/"
        },
        "id": "gf9Y3AlS-UQZ",
        "outputId": "8d1444b5-9437-4e23-b832-8f5b18bfbfba"
      },
      "execution_count": 76,
      "outputs": [
        {
          "output_type": "stream",
          "name": "stdout",
          "text": [
            "Accuracy of the network on the test data: 32 %\n"
          ]
        }
      ]
    },
    {
      "cell_type": "code",
      "source": [],
      "metadata": {
        "id": "e0uZpqPx9Y0u"
      },
      "execution_count": null,
      "outputs": []
    },
    {
      "cell_type": "markdown",
      "metadata": {
        "id": "0cQ87H_7cV9p"
      },
      "source": [
        "### 3.1. Convolutional Neural Networks"
      ]
    },
    {
      "cell_type": "code",
      "execution_count": 90,
      "metadata": {
        "id": "vrYS2bQQcgIK"
      },
      "outputs": [],
      "source": [
        "import torch\n",
        "import torch.nn as nn\n",
        "import torch.nn.functional as F\n",
        "\n",
        "# Define the 1D CNN model\n",
        "class CNN1D(nn.Module):\n",
        "    def __init__(self):\n",
        "        super(CNN1D, self).__init__()\n",
        "        self.conv1 = nn.Conv1d(in_channels=1, out_channels=16, kernel_size=3, stride=1, padding=1)\n",
        "        self.pool1 = nn.MaxPool1d(kernel_size=2, stride=2)\n",
        "        self.conv2 = nn.Conv1d(in_channels=16, out_channels=32, kernel_size=3, stride=1, padding=1)\n",
        "        self.pool2 = nn.MaxPool1d(kernel_size=2, stride=2)\n",
        "        self.fc1 = nn.Linear(32 * 256, 128)\n",
        "        self.fc2 = nn.Linear(128, 2)\n",
        "        self.softmax = nn.Softmax()\n",
        "    \n",
        "    def forward(self, x):\n",
        "        x = x.reshape(-1, 1, 1024)\n",
        "        x = self.pool1(F.relu(self.conv1(x)))\n",
        "        x = self.pool2(F.relu(self.conv2(x)))\n",
        "        x = x.reshape(-1, 32 * 256)\n",
        "        x = F.relu(self.fc1(x))\n",
        "        x = self.fc2(x)\n",
        "        x = self.softmax(x)\n",
        "        return x\n"
      ]
    },
    {
      "cell_type": "code",
      "execution_count": 91,
      "metadata": {
        "id": "zvKYFLNjcgiR"
      },
      "outputs": [],
      "source": [
        "# Initialize the model, loss function, and optimizer\n",
        "model_cnn = CNN1D()\n",
        "criterion = nn.CrossEntropyLoss()\n",
        "optimizer = optim.Adam(model_cnn.parameters(), lr=0.01)"
      ]
    },
    {
      "cell_type": "code",
      "execution_count": 92,
      "metadata": {
        "colab": {
          "base_uri": "https://localhost:8080/"
        },
        "id": "XEyYsKHGcp_L",
        "outputId": "eb3f4909-953e-42bb-a7f0-f3bea76340af"
      },
      "outputs": [
        {
          "output_type": "execute_result",
          "data": {
            "text/plain": [
              "=================================================================\n",
              "Layer (type:depth-idx)                   Param #\n",
              "=================================================================\n",
              "CNN1D                                    --\n",
              "├─Conv1d: 1-1                            64\n",
              "├─MaxPool1d: 1-2                         --\n",
              "├─Conv1d: 1-3                            1,568\n",
              "├─MaxPool1d: 1-4                         --\n",
              "├─Linear: 1-5                            1,048,704\n",
              "├─Linear: 1-6                            258\n",
              "├─Softmax: 1-7                           --\n",
              "=================================================================\n",
              "Total params: 1,050,594\n",
              "Trainable params: 1,050,594\n",
              "Non-trainable params: 0\n",
              "================================================================="
            ]
          },
          "metadata": {},
          "execution_count": 92
        }
      ],
      "source": [
        "summary(model_cnn)"
      ]
    },
    {
      "cell_type": "code",
      "execution_count": 95,
      "metadata": {
        "colab": {
          "base_uri": "https://localhost:8080/"
        },
        "id": "3Fp9iXSJcuaP",
        "outputId": "0dbc743f-3f8a-48cf-dede-cae873be323f"
      },
      "outputs": [
        {
          "output_type": "stream",
          "name": "stderr",
          "text": [
            "<ipython-input-90-0b977caa2d77>:24: UserWarning: Implicit dimension choice for softmax has been deprecated. Change the call to include dim=X as an argument.\n",
            "  x = self.softmax(x)\n"
          ]
        },
        {
          "output_type": "stream",
          "name": "stdout",
          "text": [
            "Epoch 1: Training loss: 0.6469, Validation loss: 0.6301\n",
            "Epoch 2: Training loss: 0.6446, Validation loss: 0.6301\n",
            "Epoch 3: Training loss: 0.6446, Validation loss: 0.6301\n",
            "Epoch 4: Training loss: 0.6445, Validation loss: 0.6301\n",
            "Epoch 5: Training loss: 0.6445, Validation loss: 0.6301\n",
            "Epoch 6: Training loss: 0.6445, Validation loss: 0.6301\n",
            "Epoch 7: Training loss: 0.6445, Validation loss: 0.6301\n",
            "Epoch 8: Training loss: 0.6445, Validation loss: 0.6301\n",
            "Epoch 9: Training loss: 0.6445, Validation loss: 0.6301\n",
            "Epoch 10: Training loss: 0.6445, Validation loss: 0.6301\n",
            "Epoch 11: Training loss: 0.6445, Validation loss: 0.6301\n",
            "Epoch 12: Training loss: 0.6443, Validation loss: 0.6301\n",
            "Epoch 13: Training loss: 0.6444, Validation loss: 0.6301\n",
            "Epoch 14: Training loss: 0.6446, Validation loss: 0.6301\n",
            "Epoch 15: Training loss: 0.6445, Validation loss: 0.6301\n",
            "Epoch 16: Training loss: 0.6444, Validation loss: 0.6301\n",
            "Epoch 17: Training loss: 0.6447, Validation loss: 0.6301\n",
            "Epoch 18: Training loss: 0.6446, Validation loss: 0.6301\n",
            "Epoch 19: Training loss: 0.6445, Validation loss: 0.6301\n",
            "Epoch 20: Training loss: 0.6445, Validation loss: 0.6301\n",
            "Epoch 21: Training loss: 0.6444, Validation loss: 0.6301\n",
            "Epoch 22: Training loss: 0.6444, Validation loss: 0.6301\n",
            "Epoch 23: Training loss: 0.6444, Validation loss: 0.6301\n",
            "Epoch 24: Training loss: 0.6445, Validation loss: 0.6301\n",
            "Epoch 25: Training loss: 0.6445, Validation loss: 0.6301\n",
            "Epoch 26: Training loss: 0.6446, Validation loss: 0.6301\n",
            "Epoch 27: Training loss: 0.6446, Validation loss: 0.6301\n",
            "Epoch 28: Training loss: 0.6445, Validation loss: 0.6301\n",
            "Epoch 29: Training loss: 0.6445, Validation loss: 0.6301\n",
            "Epoch 30: Training loss: 0.6445, Validation loss: 0.6301\n",
            "Epoch 31: Training loss: 0.6445, Validation loss: 0.6301\n",
            "Epoch 32: Training loss: 0.6445, Validation loss: 0.6301\n",
            "Epoch 33: Training loss: 0.6445, Validation loss: 0.6301\n",
            "Epoch 34: Training loss: 0.6446, Validation loss: 0.6301\n",
            "Epoch 35: Training loss: 0.6444, Validation loss: 0.6301\n",
            "Epoch 36: Training loss: 0.6444, Validation loss: 0.6301\n",
            "Epoch 37: Training loss: 0.6445, Validation loss: 0.6301\n",
            "Epoch 38: Training loss: 0.6445, Validation loss: 0.6301\n",
            "Epoch 39: Training loss: 0.6447, Validation loss: 0.6301\n",
            "Epoch 40: Training loss: 0.6447, Validation loss: 0.6301\n",
            "Epoch 41: Training loss: 0.6445, Validation loss: 0.6301\n",
            "Epoch 42: Training loss: 0.6445, Validation loss: 0.6301\n",
            "Epoch 43: Training loss: 0.6444, Validation loss: 0.6301\n",
            "Epoch 44: Training loss: 0.6446, Validation loss: 0.6301\n",
            "Epoch 45: Training loss: 0.6445, Validation loss: 0.6301\n",
            "Epoch 46: Training loss: 0.6445, Validation loss: 0.6301\n",
            "Epoch 47: Training loss: 0.6444, Validation loss: 0.6301\n",
            "Epoch 48: Training loss: 0.6444, Validation loss: 0.6301\n",
            "Epoch 49: Training loss: 0.6444, Validation loss: 0.6301\n",
            "Epoch 50: Training loss: 0.6446, Validation loss: 0.6301\n"
          ]
        }
      ],
      "source": [
        "# Train the CNN model and keep track of validation loss\n",
        "train_loss1 = []\n",
        "val_loss1 = []\n",
        "num_epochs = 50\n",
        "\n",
        "for epoch in range(num_epochs):\n",
        "    running_loss = 0.0\n",
        "    for i, data in enumerate(trainloader, 0):\n",
        "        inputs, labels = data\n",
        "        optimizer.zero_grad()\n",
        "        outputs = model_cnn(inputs)\n",
        "        #labels = labels.reshape(-1, 1)\n",
        "        loss = criterion(outputs, labels.long())\n",
        "        loss.backward()\n",
        "        optimizer.step()\n",
        "        running_loss += loss.item()\n",
        "        \n",
        "    avg_train_loss = running_loss / len(trainloader)\n",
        "    train_loss1.append(avg_train_loss)\n",
        "    \n",
        "    val_running_loss = 0.0\n",
        "    with torch.no_grad():\n",
        "        for i, data in enumerate(valloader, 0):\n",
        "            inputs, labels = data\n",
        "            outputs = model_cnn(inputs)\n",
        "            #labels = labels.reshape(-1, 1)\n",
        "            val_batch_loss = criterion(outputs, labels.long())\n",
        "            val_running_loss += val_batch_loss.item()\n",
        "        \n",
        "    avg_val_loss = val_running_loss / len(valloader)\n",
        "    val_loss1.append(avg_val_loss)\n",
        "    print(\"Epoch {}: Training loss: {:.4f}, Validation loss: {:.4f}\".format(epoch + 1, avg_train_loss, avg_val_loss))\n",
        "    \n"
      ]
    },
    {
      "cell_type": "code",
      "execution_count": 96,
      "metadata": {
        "colab": {
          "base_uri": "https://localhost:8080/",
          "height": 281
        },
        "id": "7i-2mk-iedcU",
        "outputId": "93249532-670f-4324-9048-db56fb96da02"
      },
      "outputs": [
        {
          "output_type": "display_data",
          "data": {
            "text/plain": [
              "<Figure size 432x288 with 1 Axes>"
            ],
            "image/png": "[encoded data removed]"
          },
          "metadata": {
            "needs_background": "light"
          }
        }
      ],
      "source": [
        "# Plot the validation loss\n",
        "plt.plot(range(num_epochs), train_loss1, label='Training Loss')\n",
        "plt.plot(range(num_epochs), val_loss1, label='Validation Loss')\n",
        "plt.xlabel('Epochs')\n",
        "plt.ylabel('Loss')\n",
        "plt.legend()\n",
        "plt.show()"
      ]
    },
    {
      "cell_type": "code",
      "execution_count": 97,
      "metadata": {
        "id": "e4HCwF2vkE09",
        "colab": {
          "base_uri": "https://localhost:8080/"
        },
        "outputId": "5d4b7413-c184-45fd-a2c2-5a89e3c5b558"
      },
      "outputs": [
        {
          "output_type": "stream",
          "name": "stderr",
          "text": [
            "<ipython-input-90-0b977caa2d77>:24: UserWarning: Implicit dimension choice for softmax has been deprecated. Change the call to include dim=X as an argument.\n",
            "  x = self.softmax(x)\n"
          ]
        }
      ],
      "source": [
        "# Test the model on the test data\n",
        "correct = 0\n",
        "total = 0\n",
        "predictions = []\n",
        "true_labels = []\n",
        "with torch.no_grad():\n",
        "    for i, data in enumerate(testloader, 0):\n",
        "        inputs, target = data\n",
        "        outputs = model_cnn(inputs)\n",
        "        _, predicted = torch.max(outputs.data, 1) # Get the class with the highest probability\n",
        "        total += target.size(0)\n",
        "        correct += (predicted == target.long()).sum().item() # Convert target to long and compare\n",
        "        predictions += predicted.tolist()\n",
        "        true_labels += target.tolist()\n"
      ]
    },
    {
      "cell_type": "code",
      "source": [
        "accuracy = correct / total\n",
        "print('Accuracy of the network on the test data: %d %%' % (100 * accuracy))"
      ],
      "metadata": {
        "colab": {
          "base_uri": "https://localhost:8080/"
        },
        "id": "gaMGKBBbIOqL",
        "outputId": "19fb7c1d-4fda-4bd7-dbcb-ae6ad0b7c656"
      },
      "execution_count": 98,
      "outputs": [
        {
          "output_type": "stream",
          "name": "stdout",
          "text": [
            "Accuracy of the network on the test data: 67 %\n"
          ]
        }
      ]
    },
    {
      "cell_type": "code",
      "source": [
        "# Plot confusion matrix\n",
        "cf_matrix= confusion_matrix(true_labels, predictions)\n",
        "group_names = ['True Neg','False Pos','False Neg','True Pos']\n",
        "group_counts = [\"{0:0.0f}\".format(value) for value in\n",
        "                cf_matrix.flatten()]\n",
        "group_percentages = [\"{0:.2%}\".format(value) for value in\n",
        "                     cf_matrix.flatten()/np.sum(cf_matrix)]\n",
        "labels = [f\"{v1}\\n{v2}\\n{v3}\" for v1, v2, v3 in\n",
        "          zip(group_names,group_counts,group_percentages)]\n",
        "labels = np.asarray(labels).reshape(2,2)\n",
        "sns.heatmap(cf_matrix, annot=labels, fmt='', cmap='Blues')\n",
        "\n"
      ],
      "metadata": {
        "colab": {
          "base_uri": "https://localhost:8080/",
          "height": 282
        },
        "id": "BtC05cwuISrL",
        "outputId": "6837ac4d-bb19-4726-9d29-bd517e3c13a0"
      },
      "execution_count": 99,
      "outputs": [
        {
          "output_type": "execute_result",
          "data": {
            "text/plain": [
              "<matplotlib.axes._subplots.AxesSubplot at 0x7f41ccd59d90>"
            ]
          },
          "metadata": {},
          "execution_count": 99
        },
        {
          "output_type": "display_data",
          "data": {
            "text/plain": [
              "<Figure size 432x288 with 2 Axes>"
            ],
            "image/png": "[encoded data removed]"
          },
          "metadata": {
            "needs_background": "light"
          }
        }
      ]
    },
    {
      "cell_type": "code",
      "source": [],
      "metadata": {
        "id": "E-hJhbhoIa3Q"
      },
      "execution_count": null,
      "outputs": []
    }
  ],
  "metadata": {
    "colab": {
      "provenance": []
    },
    "kernelspec": {
      "display_name": "Python 3",
      "name": "python3"
    },
    "language_info": {
      "name": "python"
    },
    "accelerator": "GPU",
    "gpuClass": "standard"
  },
  "nbformat": 4,
  "nbformat_minor": 0
}
{
 "cells": [
  {
   "cell_type": "markdown",
   "id": "04e3e62f",
   "metadata": {
    "nbgrader": {
     "grade": false,
     "grade_id": "cell-9ef45c82703b28f8",
     "locked": true,
     "schema_version": 3,
     "solution": false,
     "task": false
    }
   },
   "source": [
    "## Assessment: Classification of Reaction data\n",
    "\n",
    "This is an assessment that forms part of the ML for Chemistry workshop for Advanced Topics in Physical Chemistry. \n",
    "\n",
    "### What can/cannot be used for this coursework?\n",
    "**Using Google** to find programmatic solutions to a problem is perfectly acceptable, however if you copy more than a single line of code from an online source make sure you indicate this in the following way with a comment in Python:\n",
    "\n",
    "```python\n",
    "# The following xxx lines follow a solution found here\n",
    "# https://stackoverflow.com/questions/39324039/highlight-typos-in-the-jupyter-notebook-markdown on 20/10/2021\n",
    "```\n",
    "\n",
    "What you **shouldn't have** have to do is:\n",
    "- Install additional packages in your Noteable environment\n",
    "- Use code you do not understand found on the web\n",
    "\n",
    "What is clearly **not allowed**:\n",
    "<div class=\"alert alert-danger\">\n",
    "    You are NOT allowed to send/give/receive Python code to/from classmates and others.\n",
    "The standard examination rules apply to this project.\n",
    "</div>\n",
    "\n",
    "The course will be marked by hand, but will be checked both manually as well as through turn-it-in for plagiarism."
   ]
  },
  {
   "cell_type": "markdown",
   "id": "1792b925",
   "metadata": {
    "nbgrader": {
     "grade": false,
     "grade_id": "cell-2a8643fb317ba051",
     "locked": true,
     "schema_version": 3,
     "solution": false,
     "task": false
    }
   },
   "source": [
    "### How is the coursework assessed:\n",
    "\n",
    "Think of this as a guided lab report in the form of a Jupyter notebook with an introduction section exploring the data, two sections on doing the classification problems using Random Forests and a Neural network, and a final section with conclusions and discussions. A skeleton structure for the report is provided in the cells below. \n",
    "\n",
    "- Each part of your code should run.\n",
    "- Every function you write should have an appropriate doc-string.\n",
    "- All plots should be labelled correctly and all fonts should have a legible size.\n",
    "- Write an introduction, a discussion, and a conclusion section in markdown. Use references where appropriate. \n",
    "- Remember you can use LaTeX in markdown by using $$ to start a maths environment. \n",
    "\n",
    "Overall criteria:\n",
    "- 10 % Code presentation and readability\n",
    "- 20 % Production quality (plots, etc.)\n",
    "- 50 % Report structure and readability\n",
    "- 20 % Data interpretation and conclusion\n",
    "\n",
    "**The assessment is worth 20% of the overall module mark.**   \n",
    "\n",
    "**Deadline: 10th March 2023 5pm**   \n",
    "\n",
    "<div class=\"alert alert-success\">\n",
    "Reminder: Comment your code, use markdown to explain your working where appropriate, and make sure all your variable names are sensible! Also make sure to choose appropriate levels of significant figures for print out and make sure you use the correct units. \n",
    "</div>"
   ]
  },
  {
   "cell_type": "markdown",
   "id": "c442e809",
   "metadata": {
    "nbgrader": {
     "grade": false,
     "grade_id": "cell-f2af58e2f57200fd",
     "locked": true,
     "schema_version": 3,
     "solution": false,
     "task": false
    }
   },
   "source": [
    "## The Data\n",
    "You will be working with the `QMrxn20: Thousands of reactants and transition states for competing E2 and SN2 reactions` dataset. The whole dataset can be found here: [https://archive.materialscloud.org/record/2020.55](https://archive.materialscloud.org/record/2020.55). It is a dataset of SN2 and E2 reactions with reactant, product, and transition state coordinates. \n",
    "\n",
    "The task:\n",
    "- Use xyz coordinates to classify geometries as forming a transition state geometry (1) and another geometry (0)\n",
    "- Use a Random Forest as a classifier similar to the one in Unit 2 for this task\n",
    "- Use a neural network similar to the one in Unit 3 for this task\n",
    "\n",
    "The file `dataset.csv` contains the prerocessed data for these tasks from the original dataset. In this dataset coordinates and information on energies etc have been already combined, and the data has been subsampled down to ~80k datapoints.\n",
    "\n",
    "The structure of the dataset looks as follows:\n",
    "\n",
    "```\n",
    "label,reaction,geometry,number,energy,method,element_0, element_0,x coordinates_0,y coordinates_0,z coordinates_0,element_1,...,z_coordinates_20\n",
    "A_A_A_A_A_A,e2,ts,0,transition-states/e2/A_A_A_A_A_A.xyz,-179.132058577095,mp2,C,-0.04447,-0.0119,-0.3780,C,...,-0.153736\n",
    "A_A_A_A_B_A,e2,ts,0,-539.161015594451,mp2,F,-0.044,-0.011,-0.3780,C,-0.1537 \n",
    "```\n",
    "\n",
    "You find the label for the data in the column named geometry. If it is `ts`, i.e. a transition state, the label should be 1, if it is anything else the label should be 0. You will need to prepare the label in such a way that you can train on it. Columns 7 to the end contain the x,y,z coordinates. Train on the coordinates, but be careful not to include the element names as well!\n",
    "\n",
    "### External references\n",
    "**Journal reference**\n",
    "G. F. von Rudorff, S. N. Heinen, M. Bragato, O. A. von Lilienfeld, Machine Learning: Science and Technology 1, 045026 (2020). doi:10.1088/2632-2153/aba822\n",
    "\n",
    "**Preprint (Preprint where the data generation is discussed)**\n",
    "G. F. von Rudorff, S. N. Heinen, M. Bragato, O. A. von Lilienfeld, arXiv:2006.00504\n",
    "\n",
    "------"
   ]
  },
  {
   "cell_type": "markdown",
   "id": "4de80039",
   "metadata": {},
   "source": [
    "## Start of the Report\n",
    "\n",
    "Please leave the header sections as you find them, but feel free to add as many cells in each section as you need to answer them. "
   ]
  },
  {
   "cell_type": "markdown",
   "id": "02bd743a",
   "metadata": {
    "nbgrader": {
     "grade": false,
     "grade_id": "cell-b1536fc35001e526",
     "locked": true,
     "points": 10,
     "schema_version": 3,
     "solution": false,
     "task": true
    }
   },
   "source": [
    "## 1. Introduction and exploring the data\n",
    "\n",
    "In the directory `data` you will find a file called `dataset.csv`. Freely explore the dataset in this section.\n",
    "\n",
    "Things you definitely need:\n",
    "\n",
    "- an **array of labels** which you can extract from the column geometries (1-ts, 0-everything else)\n",
    "- an **array of x, y, and z coordinates** for all elements. \n",
    "\n",
    "Some of the coordinates will be 0 because the molecule has less than 21 atoms. Please explore some statistics around the data. \n",
    "\n",
    "In this part of your submission notebook you should also introduce what a classification problem is, and this dataset in particular."
   ]
  },
  {
   "cell_type": "code",
   "execution_count": null,
   "id": "55107655",
   "metadata": {},
   "outputs": [],
   "source": [
    "# Your solution here\n",
    "\n"
   ]
  },
  {
   "cell_type": "markdown",
   "id": "64e70bea",
   "metadata": {
    "nbgrader": {
     "grade": false,
     "grade_id": "cell-58531a2f237b7aec",
     "locked": true,
     "points": 10,
     "schema_version": 3,
     "solution": false,
     "task": true
    }
   },
   "source": [
    "## 2. Classify the reaction data into reactant, transition state, and product using a Random Forests\n",
    "\n",
    "Here you will use your labels and x,y,z coordinates to train a Random Forests classifier to identify transition states from non-transition states. "
   ]
  },
  {
   "cell_type": "code",
   "execution_count": null,
   "id": "b8df2fdf",
   "metadata": {},
   "outputs": [],
   "source": [
    "# Your solution here\n"
   ]
  },
  {
   "cell_type": "markdown",
   "id": "fd1c7f5a",
   "metadata": {
    "nbgrader": {
     "grade": false,
     "grade_id": "cell-ddec8a6427490967",
     "locked": true,
     "points": 10,
     "schema_version": 3,
     "solution": false,
     "task": true
    }
   },
   "source": [
    "## 3. Classify the reaction data into reactant, transition state, and product using a Neural Network\n",
    "\n",
    "Use the same data as before, but now set up a neural network using PyTorch for this classification task. Train the network and use appropriate plots to show your results. "
   ]
  },
  {
   "cell_type": "code",
   "execution_count": null,
   "id": "1c733cd4",
   "metadata": {},
   "outputs": [],
   "source": [
    "# Your solution here\n"
   ]
  },
  {
   "cell_type": "markdown",
   "id": "ac1e781c",
   "metadata": {
    "nbgrader": {
     "grade": false,
     "grade_id": "cell-31eb8d773b656425",
     "locked": true,
     "points": 10,
     "schema_version": 3,
     "solution": false,
     "task": true
    }
   },
   "source": [
    "## 4. Discussion of results and conclusion\n",
    "In this part of your notebook you should discuss your results using Markdown text. "
   ]
  },
  {
   "cell_type": "code",
   "execution_count": null,
   "id": "3e020326",
   "metadata": {},
   "outputs": [],
   "source": [
    "# Your solution here\n"
   ]
  }
 ],
 "metadata": {
  "celltoolbar": "Create Assignment",
  "kernelspec": {
   "display_name": "Python 3 (ipykernel)",
   "language": "python",
   "name": "python3"
  },
  "language_info": {
   "codemirror_mode": {
    "name": "ipython",
    "version": 3
   },
   "file_extension": ".py",
   "mimetype": "text/x-python",
   "name": "python",
   "nbconvert_exporter": "python",
   "pygments_lexer": "ipython3",
   "version": "3.11.0"
  }
 },
 "nbformat": 4,
 "nbformat_minor": 5
}
